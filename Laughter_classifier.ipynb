{
  "nbformat": 4,
  "nbformat_minor": 0,
  "metadata": {
    "colab": {
      "provenance": []
    },
    "kernelspec": {
      "name": "python3",
      "display_name": "Python 3"
    },
    "language_info": {
      "name": "python"
    }
  },
  "cells": [
    {
      "cell_type": "markdown",
      "source": [
        "MERGE AUDIO AND VIDEO FILES"
      ],
      "metadata": {
        "id": "kTvIXu24dPuB"
      }
    },
    {
      "cell_type": "code",
      "source": [
        "import numpy as np\n",
        "import pandas as pd\n",
        "import math\n",
        "import random\n",
        "import matplotlib.pyplot as plt\n",
        "import os"
      ],
      "metadata": {
        "id": "j7qMG3IOajzE"
      },
      "execution_count": null,
      "outputs": []
    },
    {
      "cell_type": "code",
      "source": [
        "# Merge the audio and video in the folders\n",
        "import subprocess"
      ],
      "metadata": {
        "id": "SRMXVPpXbzZO"
      },
      "execution_count": null,
      "outputs": []
    },
    {
      "cell_type": "code",
      "source": [
        "# Connect to Google Drive\n",
        "from google.colab import drive\n",
        "drive.mount('/content/drive')"
      ],
      "metadata": {
        "colab": {
          "base_uri": "https://localhost:8080/"
        },
        "id": "Dn-SjmaqbYnn",
        "outputId": "6a21a4ae-b92d-4d87-aaf0-a507db185f9b"
      },
      "execution_count": null,
      "outputs": [
        {
          "output_type": "stream",
          "name": "stdout",
          "text": [
            "Mounted at /content/drive\n"
          ]
        }
      ]
    },
    {
      "cell_type": "code",
      "source": [
        "#Script below merges the audio and video for Mahnob in order to facilitate labelling\n",
        "project_home_dir = os.getcwd()\n",
        "\n",
        "# Set the path to your data folder in Google Drive\n",
        "data_folder = '/content/drive/MyDrive/data'"
      ],
      "metadata": {
        "id": "8I80Qoz1bZph"
      },
      "execution_count": null,
      "outputs": []
    },
    {
      "cell_type": "code",
      "source": [
        "\n",
        "output_folder = \"/content/drive/MyDrive/data/output_files\"\n",
        "os.makedirs(output_folder, exist_ok=True)\n",
        "\n",
        "#Generate the file names in the 'Sesions' folder\n",
        "for directory, subdirs, files in os.walk(os.path.join(data_folder, \"Sessions\")):\n",
        "    for subdir in subdirs:\n",
        "        # Inside the session folder\n",
        "        os.chdir(os.path.join(project_home_dir, directory, subdir))\n",
        "\n",
        "        # List the audio and video files in the current directory\n",
        "        audio_file = [f for f in os.listdir('.') if (os.path.isfile(f) and '.wav' in f)]\n",
        "        video_file = [f for f in os.listdir('.') if (os.path.isfile(f) and '.avi' in f)]\n",
        "\n",
        "        # Checks if there is atleast one audio or video file\n",
        "        if len(audio_file) > 0 and len(video_file) > 0:\n",
        "          #Create mixed file by concatenating firt elemt of audio and video file\n",
        "            mixed_file = str(audio_file[0] + '_' + video_file[0].replace('.avi', '.mkv'))\n",
        "            output_path = os.path.join(output_folder, mixed_file)\n",
        "            #ffmpeg command combines the audio and video files into a single file using specific parameters\n",
        "            cmd = f'ffmpeg -y -i \"{audio_file[0]}\" -r 30 -i \"{video_file[0]}\" -filter:a aresample=async=1 -c:a flac -c:v copy \"{output_path}\"'\n",
        "            subprocess.run(cmd, shell=True)#executes the ffmpeg command in a shell\n"
      ],
      "metadata": {
        "id": "wpDqgiYMbC2w"
      },
      "execution_count": null,
      "outputs": []
    },
    {
      "cell_type": "markdown",
      "source": [
        "AUDIO FEATURE PROCESSING"
      ],
      "metadata": {
        "id": "MTLbB_kkbe_8"
      }
    },
    {
      "cell_type": "code",
      "execution_count": null,
      "metadata": {
        "id": "MDTV6HpxWcsM"
      },
      "outputs": [],
      "source": [
        "import numpy as np\n",
        "import h5py\n",
        "import pandas as pd\n",
        "import math\n",
        "import random\n",
        "import matplotlib.pyplot as plt\n",
        "import os"
      ]
    },
    {
      "cell_type": "code",
      "source": [
        "# Audio  MFCC Package\n",
        "import librosa\n",
        "import soundfile as sf"
      ],
      "metadata": {
        "id": "herLTFlxYGkp"
      },
      "execution_count": null,
      "outputs": []
    },
    {
      "cell_type": "code",
      "source": [
        "# Keep randomness the same\n",
        "np.random.seed(0)"
      ],
      "metadata": {
        "id": "ndRtb6yiYRnj"
      },
      "execution_count": null,
      "outputs": []
    },
    {
      "cell_type": "code",
      "source": [
        "#to adjust the display options for DataFrames when they are printed\n",
        "pd.set_option('display.max_rows', 500)\n",
        "pd.set_option('display.max_columns', 500)\n",
        "#pd.set_option('display.height', 1000)\n",
        "pd.set_option('display.width', 1000)"
      ],
      "metadata": {
        "id": "GKkIPeksYXDf"
      },
      "execution_count": null,
      "outputs": []
    },
    {
      "cell_type": "code",
      "source": [
        "# Downsample all the laughs to 2.5 seconds = (44100 samples/sec * 2.5)   @44KHz\n",
        "num_samples = 110250  # Each audio file should have a length of 110,250 samples\n",
        "num_MFCC = 20  # Number of MFCC features (this will result in each audio having 20x216 input shape)"
      ],
      "metadata": {
        "id": "IRc8wfPzYcJ8"
      },
      "execution_count": null,
      "outputs": []
    },
    {
      "cell_type": "code",
      "source": [
        "input_data = []"
      ],
      "metadata": {
        "id": "ajxGs86BYe0n"
      },
      "execution_count": null,
      "outputs": []
    },
    {
      "cell_type": "code",
      "source": [
        "# Empty Annotations File\n",
        "df_annotations = pd.DataFrame(index=range(0,0), columns=['Type', 'Start Time (sec)', 'End Time (sec)'])\n"
      ],
      "metadata": {
        "id": "sE8AzMLFYjkX"
      },
      "execution_count": null,
      "outputs": []
    },
    {
      "cell_type": "markdown",
      "source": [
        "Section to save audio subclips - optional"
      ],
      "metadata": {
        "id": "helX8rK6YKkK"
      }
    },
    {
      "cell_type": "code",
      "source": [
        "\n",
        "# # Create a folder for audio subclips if it doesn't exist\n",
        "# audio_subclips_folder = os.path.join(data_folder, \"audio_subclips\")\n",
        "# if not os.path.exists(audio_subclips_folder):\n",
        "#     os.makedirs(audio_subclips_folder)\n",
        "\n",
        "# for directory, subdirs, files in os.walk(os.path.join(data_folder, \"Sessions\")):\n",
        "#     subdirs = [int(i) for i in subdirs]\n",
        "#     subdirs.sort()\n",
        "#     subdirs = [str(i) for i in subdirs]\n",
        "#     for subdir in subdirs:\n",
        "#         session_folder_path = os.path.join(data_folder, directory, subdir)\n",
        "#         os.chdir(session_folder_path)\n",
        "\n",
        "#         print(f\"Current Working Directory: {os.getcwd()}\")\n",
        "\n",
        "#         # List the files in the current directory\n",
        "#         print(f\"Files in Current Directory: {os.listdir('.')}\")\n",
        "\n",
        "#         audio_files = [f for f in os.listdir('.') if (os.path.isfile(f) and f.endswith('.wav'))]\n",
        "\n",
        "#         if not audio_files:\n",
        "#             print(f\"No audio files found in {session_folder_path}. Skipping.\")\n",
        "#             continue\n",
        "\n",
        "#         # Create a subfolder for each session within the audio subclips folder\n",
        "#         session_output_folder = os.path.join(audio_subclips_folder, f\"session_{subdir}\")\n",
        "#         if not os.path.exists(session_output_folder):\n",
        "#             os.makedirs(session_output_folder)\n",
        "\n",
        "#         # Iterate over annotation files\n",
        "#         for audio_file in audio_files:\n",
        "#             # Construct the full path to the CSV file\n",
        "#             csv_file_path = os.path.join(session_folder_path, 'laughterAnnotation.csv')\n",
        "#             if not os.path.exists(csv_file_path):\n",
        "#                 print(f\"Skipping {session_folder_path} as 'laughterAnnotation.csv' does not exist.\")\n",
        "#                 continue\n",
        "\n",
        "#             # Read the CSV file if it exists\n",
        "#             df_annotation = pd.read_csv(csv_file_path, encoding=\"ISO-8859-1\")\n",
        "#             df_annotation = df_annotation.loc[(df_annotation['Type'] == 'Laughter') | (df_annotation['Type'] == 'PosedLaughter')].iloc[:, 1:4]\n",
        "\n",
        "#             # Iterate over annotation rows\n",
        "#             for index, row in df_annotation.iterrows():\n",
        "#                 start_time = row[1]\n",
        "#                 end_time = row[2]\n",
        "\n",
        "#                 y, sr = librosa.load(audio_file, offset=start_time, duration=(end_time - start_time), sr=None)\n",
        "\n",
        "#                 num_samples = 44100  # Example value, adjust according to your requirements\n",
        "#                 if len(y) > num_samples:\n",
        "#                     downsampled_audio = y[:num_samples]\n",
        "#                 else:\n",
        "#                     padded_zeros = np.zeros(num_samples - len(y))\n",
        "#                     downsampled_audio = np.concatenate((y, padded_zeros))\n",
        "\n",
        "#                 # Save subclip\n",
        "#                 subclip_filename = f\"subclip_{index}.wav\"\n",
        "#                 subclip_path = os.path.join(session_output_folder, subclip_filename)\n",
        "#                 sf.write(subclip_path, downsampled_audio, sr)\n",
        "\n",
        "#         os.chdir(data_folder)\n"
      ],
      "metadata": {
        "id": "gTUIw_7De9je"
      },
      "execution_count": null,
      "outputs": []
    },
    {
      "cell_type": "markdown",
      "source": [
        "Section to process .wav files"
      ],
      "metadata": {
        "id": "mxvaeYNEYQCY"
      }
    },
    {
      "cell_type": "code",
      "source": [
        "for directory, subdirs, files in os.walk(os.path.join(data_folder, \"Sessions\")):\n",
        "    subdirs = [int(i) for i in subdirs]\n",
        "    subdirs.sort()\n",
        "    subdirs = [str(i) for i in subdirs]\n",
        "    for subdir in subdirs:\n",
        "      #changes the current working dir to the path of the current session folder\n",
        "        session_folder_path = os.path.join(data_folder, directory, subdir)\n",
        "        os.chdir(session_folder_path)\n",
        "\n",
        "        print(f\"Current Working Directory: {os.getcwd()}\")\n",
        "\n",
        "        # List the files in the current directory\n",
        "        print(f\"Files in Current Directory: {os.listdir('.')}\")\n",
        "        #Looks for audio files with .wav extension\n",
        "        audio_file = [f for f in os.listdir('.') if (os.path.isfile(f) and '.wav' in f)]\n",
        "\n",
        "        # Construct the full path to the CSV file\n",
        "        csv_file_path = os.path.join(session_folder_path, 'laughterAnnotation.csv')\n",
        "        if 'laughterAnnotation.csv' in os.listdir('.'):\n",
        "            csv_file_path = os.path.join(session_folder_path, 'laughterAnnotation.csv')\n",
        "\n",
        "            # Read the CSV file if it exists\n",
        "            df_annotation = pd.read_csv(csv_file_path, encoding=\"ISO-8859-1\")\n",
        "            #Locate the rows where 'type' is true and select columns from index 1 to 3\n",
        "            df_annotation = df_annotation.loc[(df_annotation['Type'] == 'Laughter') | (df_annotation['Type'] == 'PosedLaughter')].iloc[:, 1:4]\n",
        "\n",
        "            # Concatenate it to the main annotations file+ as df\n",
        "            df_annotations = pd.concat([df_annotations, df_annotation])\n",
        "        else:\n",
        "            print(f\"Skipping {session_folder_path} as 'laughterAnnotation.csv' does not exist.\")\n",
        "\n",
        "        #Audio Processing.\n",
        "        #Loop over each row in the df\n",
        "        for row in np.array(df_annotation):\n",
        "            start_time = row[1]\n",
        "            end_time = row[2]\n",
        "            #Load an audio file. Result is time series 'y' and sr\n",
        "            y, sr = librosa.load(audio_file[0], offset=start_time, duration=(end_time-start_time), sr=None)\n",
        "\n",
        "            if len(y) > num_samples:\n",
        "              #Linear interpolation to downsample the audio\n",
        "                downsampled_audio = [y[int(np.floor(i))] for i in np.linspace(0, len(y)-1, num_samples)]\n",
        "            else:\n",
        "              #pads the audio with zeros\n",
        "                padded_zeros = [0 for i in range(0, num_samples-len(y))]\n",
        "                downsampled_audio = list(y) + padded_zeros\n",
        "            downsampled_audio = np.array(downsampled_audio)\n",
        "            #Extract MFCC features and append them to ' input_data' list.\n",
        "            MFCCs = librosa.feature.mfcc(y=downsampled_audio, sr=sr, n_mfcc=num_MFCC)\n",
        "            input_data.append(MFCCs)\n",
        "\n",
        "        os.chdir(data_folder)"
      ],
      "metadata": {
        "id": "RR-goSuDYsAE",
        "colab": {
          "base_uri": "https://localhost:8080/"
        },
        "outputId": "b3bb0df3-c9a9-42aa-a36a-81625c0d9a4b"
      },
      "execution_count": null,
      "outputs": [
        {
          "output_type": "stream",
          "name": "stdout",
          "text": [
            "Current Working Directory: /content/drive/MyDrive/data/Sessions/9\n",
            "Files in Current Directory: ['S002-001_cam.wav', 'S002-001_synchPoints.csv', 'S002-001.eaf', 'laughterAnnotation.csv', 'S002-001.avi', 'session.xml', 'S002-001_mic.wav', 'S002-001_th.avi', 'S002-001_cam.wav_S002-001.mkv']\n",
            "Current Working Directory: /content/drive/MyDrive/data/Sessions/11\n",
            "Files in Current Directory: ['laughterAnnotation.csv', 'S002-003_1_cam.wav', 'S002-003_th_1.avi', 'S002-003_1.avi', 'S002-003_1_mic.wav', 'session.xml', 'S002-003_1.eaf', 'S002-003_synchPoints_1.csv', 'S002-003_1_mic.wav_S002-003_th_1.mkv']\n",
            "Current Working Directory: /content/drive/MyDrive/data/Sessions/14\n",
            "Files in Current Directory: ['S002-008.avi', 'S002-008_cam.wav', 'S002-008.eaf', 'S002-008_mic.wav', 'session.xml', 'laughterAnnotation.csv', 'S002-008_th.avi', 'S002-008_synchPoints.csv', 'S002-008_mic.wav_S002-008_th.mkv']\n",
            "Current Working Directory: /content/drive/MyDrive/data/Sessions/20\n",
            "Files in Current Directory: ['S003-001_mic.wav', 'laughterAnnotation.csv', 'S003-001_th.avi', 'S003-001_cam.wav', 'S003-001.eaf', 'S003-001.avi', 'S003-001_synchPoints.csv', 'session.xml', 'S003-001_mic.wav_S003-001.mkv']\n",
            "Current Working Directory: /content/drive/MyDrive/data/Sessions/27\n",
            "Files in Current Directory: ['S003-011_mic.wav']\n",
            "Skipping /content/drive/MyDrive/data/Sessions/27 as 'laughterAnnotation.csv' does not exist.\n",
            "Current Working Directory: /content/drive/MyDrive/data/Sessions/28\n",
            "Files in Current Directory: ['S003-012_synchPoints.csv', 'S003-012.eaf', 'S003-012_th.avi', 'S003-012_mic.wav', 'session.xml', 'S003-012_cam.wav', 'S003-012.avi', 'laughterAnnotation.csv', 'S003-012_cam.wav_S003-012.mkv']\n",
            "Current Working Directory: /content/drive/MyDrive/data/Sessions/33\n",
            "Files in Current Directory: ['S004-002_cam.wav', 'session.xml', 'S004-002_mic.wav', 'laughterAnnotation.csv', 'S004-002.eaf', 'S004-002.avi', 'S004-002_mic.wav_S004-002.mkv']\n",
            "Current Working Directory: /content/drive/MyDrive/data/Sessions/35\n",
            "Files in Current Directory: ['S004-005_mic.wav', 'S004-005.eaf', 'S004-005_cam.wav', 'S004-005_th.avi', 'S004-005.avi', 'session.xml', 'laughterAnnotation.csv', 'S004-005_synchPoints.csv', 'S004-005_mic.wav_S004-005.mkv']\n",
            "Current Working Directory: /content/drive/MyDrive/data/Sessions/37\n",
            "Files in Current Directory: ['S004-007_synchPoints.csv', 'S004-007_mic.wav', 'laughterAnnotation.csv', 'S004-007.avi', 'S004-007.eaf', 'S004-007_cam.wav', 'session.xml', 'S004-007_th.avi', 'S004-007_cam.wav_S004-007.mkv']\n",
            "Current Working Directory: /content/drive/MyDrive/data/Sessions/42\n",
            "Files in Current Directory: ['S005-002_th.avi', 'S005-002_mic.wav', 'S005-002_synchPoints.csv', 'laughterAnnotation.csv', 'S005-002_cam.wav', 'S005-002.eaf', 'S005-002.avi', 'session.xml', 'S005-002_mic.wav_S005-002.mkv']\n",
            "Current Working Directory: /content/drive/MyDrive/data/Sessions/43\n",
            "Files in Current Directory: ['laughterAnnotation.csv', 'S005-003_synchPoints.csv', 'S005-003_th.avi', 'session.xml', 'S005-003.eaf', 'S005-003_cam.wav', 'S005-003_mic.wav', 'S005-003.avi', 'S005-003_mic.wav_S005-003_th.mkv']\n",
            "Current Working Directory: /content/drive/MyDrive/data/Sessions/44\n",
            "Files in Current Directory: ['S005-004_mic.wav', 'S005-004.eaf', 'laughterAnnotation.csv', 'S005-004_cam.wav', 'S005-004_th.avi', 'S005-004.avi', 'session.xml', 'S005-004_synchPoints.csv', 'S005-004_cam.wav_S005-004_th.mkv']\n",
            "Current Working Directory: /content/drive/MyDrive/data/Sessions/45\n",
            "Files in Current Directory: ['S005-004_1_mic.wav', 'session.xml', 'S005-004_1_cam.wav', 'S005-004_synchPoints_1.csv', 'laughterAnnotation.csv', 'S005-004_1.eaf', 'S005-004_th_1.avi', 'S005-004_1.avi', 'S005-004_1_mic.wav_S005-004_1.mkv', 'S005-004_1_mic.wav_S005-004_th_1.mkv']\n",
            "Current Working Directory: /content/drive/MyDrive/data/Sessions/46\n",
            "Files in Current Directory: ['S005-005.eaf', 'S005-005_cam.wav', 'S005-005_th.avi', 'laughterAnnotation.csv', 'session.xml', 'S005-005_mic.wav', 'S005-005_synchPoints.csv', 'S005-005.avi', 'S005-005_cam.wav_S005-005.mkv', 'S005-005_cam.wav_S005-005_th.mkv']\n",
            "Current Working Directory: /content/drive/MyDrive/data/Sessions/48\n",
            "Files in Current Directory: ['S005-007_synchPoints.csv', 'S005-007_cam.wav', 'S005-007_mic.wav', 'S005-007_th.avi', 'session.xml', 'laughterAnnotation.csv', 'S005-007.eaf', 'S005-007.avi', 'S005-007_mic.wav_S005-007.mkv', 'S005-007_cam.wav_S005-007_th.mkv']\n",
            "Current Working Directory: /content/drive/MyDrive/data/Sessions/56\n",
            "Files in Current Directory: ['laughterAnnotation.csv', 'S007-001_cam.wav', 'S007-001_mic.wav', 'S007-001.eaf', 'S007-001.avi', 'session.xml', 'S007-001_mic.wav_S007-001.mkv', 'S007-001_cam.wav_S007-001.mkv']\n",
            "Current Working Directory: /content/drive/MyDrive/data/Sessions/65\n",
            "Files in Current Directory: ['S008-001_cam.wav', 'S008-001.avi', 'S008-001.eaf', 'S008-001_synchPoints.csv', 'laughterAnnotation.csv', 'session.xml', 'S008-001_mic.wav', 'S008-001_th.avi', 'S008-001_mic.wav_S008-001_th.mkv', 'S008-001_cam.wav_S008-001.mkv']\n",
            "Current Working Directory: /content/drive/MyDrive/data/Sessions/67\n",
            "Files in Current Directory: ['S008-003.avi', 'S008-003.eaf', 'laughterAnnotation.csv', 'S008-003_th.avi', 'session.xml', 'S008-003_cam.wav', 'S008-003_synchPoints.csv', 'S008-003_mic.wav', 'S008-003_mic.wav_S008-003.mkv', 'S008-003_cam.wav_S008-003.mkv']\n",
            "Current Working Directory: /content/drive/MyDrive/data/Sessions/89\n",
            "Files in Current Directory: ['S013-004_synchPoints.csv', 'S013-004_mic.wav', 'S013-004.eaf', 'S013-004_cam.wav', 'S013-004_th.avi', 'session.xml', 'S013-004.avi', 'laughterAnnotation.csv', 'S013-004_mic.wav_S013-004.mkv', 'S013-004_mic.wav_S013-004_th.mkv']\n",
            "Current Working Directory: /content/drive/MyDrive/data/Sessions/90\n",
            "Files in Current Directory: ['session.xml', 'S013-004_1_cam.wav', 'S013-004_1_mic.wav', 'S013-004_th_1.avi', 'S013-004_synchPoints_1.csv', 'S013-004_1.avi', 'laughterAnnotation.csv', 'S013-004_1.eaf', 'S013-004_1_mic.wav_S013-004_th_1.mkv', 'S013-004_1_cam.wav_S013-004_th_1.mkv']\n",
            "Current Working Directory: /content/drive/MyDrive/data/Sessions/91\n",
            "Files in Current Directory: ['S013-004_2_mic.wav', 'S013-004_2_cam.wav', 'S013-004_synchPoints_2.csv', 'S013-004_2.avi', 'laughterAnnotation.csv', 'S013-004_th_2.avi', 'S013-004_2.eaf', 'session.xml', 'S013-004_2_cam.wav_S013-004_2.mkv', 'S013-004_2_mic.wav_S013-004_2.mkv']\n",
            "Current Working Directory: /content/drive/MyDrive/data/Sessions/102\n",
            "Files in Current Directory: ['S014-007_synchPoints.csv', 'laughterAnnotation.csv', 'S014-007.eaf', 'S014-007_th.avi', 'S014-007.avi', 'S014-007_cam.wav', 'S014-007_mic.wav', 'session.xml', 'S014-007_cam.wav_S014-007_th.mkv', 'audio_weights_emotion.hdf5']\n"
          ]
        }
      ]
    },
    {
      "cell_type": "markdown",
      "source": [
        "Convert processed audio input into HDF5 file"
      ],
      "metadata": {
        "id": "OjffigI5YUSu"
      }
    },
    {
      "cell_type": "code",
      "source": [
        "# Convert input_data to NumPy array\n",
        "x_train = np.array(input_data)\n",
        "\n",
        "#Original shape is (number_of_samples, number_of_MFCC_features, number_of_timesteps)\n",
        "# LSTM expects timesteps x features (216 x 20 MFCC features)\n",
        "x_train = np.swapaxes(x_train, 1, 2)\n",
        "\n",
        "# Write the data into an HDF5 File\n",
        "h5f = h5py.File('/content/drive/MyDrive/data/Models/Audio_Features_DL.h5', 'w')\n",
        "h5f.create_dataset('dataset_features', data=x_train)\n"
      ],
      "metadata": {
        "id": "zW3FT7E3YuSQ",
        "colab": {
          "base_uri": "https://localhost:8080/"
        },
        "outputId": "820cf891-3952-47f0-8dc4-af54d299cd42"
      },
      "execution_count": null,
      "outputs": [
        {
          "output_type": "execute_result",
          "data": {
            "text/plain": [
              "<HDF5 dataset \"dataset_features\": shape (98, 216, 20), type \"<f8\">"
            ]
          },
          "metadata": {},
          "execution_count": 13
        }
      ]
    },
    {
      "cell_type": "code",
      "source": [
        "h5f.close()"
      ],
      "metadata": {
        "id": "lLpFBaNGCaIk"
      },
      "execution_count": null,
      "outputs": []
    },
    {
      "cell_type": "code",
      "source": [
        "print(\"Shape of x_train_audio:\", x_train.shape)"
      ],
      "metadata": {
        "id": "OFUGE4jKVLvG",
        "colab": {
          "base_uri": "https://localhost:8080/"
        },
        "outputId": "7b770ff0-8fff-4953-95e8-2453d48a9ea6"
      },
      "execution_count": null,
      "outputs": [
        {
          "output_type": "stream",
          "name": "stdout",
          "text": [
            "Shape of x_train_audio: (98, 216, 20)\n"
          ]
        }
      ]
    },
    {
      "cell_type": "markdown",
      "source": [
        "VIDEO FEATURE PROCESSING"
      ],
      "metadata": {
        "id": "t6Ei_Lb7dlzt"
      }
    },
    {
      "cell_type": "code",
      "source": [
        "import numpy as np\n",
        "import pandas as pd\n",
        "import math\n",
        "import random\n",
        "import matplotlib.pyplot as plt\n",
        "import os\n",
        "import shutil\n",
        "\n",
        "import keras\n",
        "#from keras.utils import np_utils as np_utils_keras\n",
        "\n",
        "from keras.models import Sequential\n",
        "from keras.layers import Conv2D, MaxPooling2D, LSTM, Dense, Dropout, Flatten\n",
        "from keras.layers import Conv3D\n",
        "from keras.layers import ConvLSTM2D\n",
        "from keras.layers import BatchNormalization\n",
        "\n",
        "from keras.applications.inception_v3 import InceptionV3, preprocess_input\n",
        "from keras.applications.inception_v3 import InceptionV3, preprocess_input\n",
        "from keras.applications.vgg16 import VGG16, preprocess_input\n",
        "\n",
        "from keras.preprocessing import image\n",
        "\n",
        "import cv2  # Computer Vision\n",
        "from moviepy.editor import *\n",
        "from moviepy.video.io.ffmpeg_tools import ffmpeg_extract_subclip\n",
        "import imageio\n",
        "!pip install imageio-ffmpeg\n",
        "import time\n",
        "\n",
        "import h5py"
      ],
      "metadata": {
        "id": "iw_8o3gVdqCG",
        "colab": {
          "base_uri": "https://localhost:8080/"
        },
        "outputId": "580f7cb1-c8e7-44f5-ac94-24785dad162c"
      },
      "execution_count": null,
      "outputs": [
        {
          "output_type": "stream",
          "name": "stdout",
          "text": [
            "Requirement already satisfied: imageio-ffmpeg in /usr/local/lib/python3.10/dist-packages (0.4.9)\n",
            "Requirement already satisfied: setuptools in /usr/local/lib/python3.10/dist-packages (from imageio-ffmpeg) (67.7.2)\n"
          ]
        }
      ]
    },
    {
      "cell_type": "code",
      "source": [
        "# Keep randomness the same\n",
        "np.random.seed(0)\n",
        "\n",
        "fps = 25 # original video recorded at 25fps\n",
        "num_frames_to_use = 25  # Only use 25 frames from the laughter segment\n",
        "img_size = 70  #Downsample the frames to 70x70 each, originally its (576, 720)\n",
        "num_classes = 5"
      ],
      "metadata": {
        "id": "snduJfeIdua1"
      },
      "execution_count": null,
      "outputs": []
    },
    {
      "cell_type": "code",
      "source": [
        "input_data = []"
      ],
      "metadata": {
        "id": "U7nXK43Ld2Hb"
      },
      "execution_count": null,
      "outputs": []
    },
    {
      "cell_type": "code",
      "source": [
        "# Save home directory\n",
        "project_home_dir = os.getcwd()"
      ],
      "metadata": {
        "id": "vYNQmnD0d5kM"
      },
      "execution_count": null,
      "outputs": []
    },
    {
      "cell_type": "code",
      "source": [
        "# Empty Annotations File\n",
        "df_annotations = pd.DataFrame(index=range(0,0), columns=['Type', 'Start Time (sec)', 'End Time (sec)'])\n",
        "\n",
        "main_labelling_annotations = []\n",
        "\n",
        "# Create a folder to store subclips\n",
        "target_folder = os.path.join(data_folder, \"Subclips\")\n",
        "os.makedirs(target_folder, exist_ok=True)"
      ],
      "metadata": {
        "id": "1-Cf72ppd9kG"
      },
      "execution_count": null,
      "outputs": []
    },
    {
      "cell_type": "code",
      "source": [
        "# Create a folder to store subclips\n",
        "target1_folder = os.path.join(data_folder, \"SubclipswithAudio\")\n",
        "os.makedirs(target1_folder, exist_ok=True)"
      ],
      "metadata": {
        "id": "yBxZytLhLJXr"
      },
      "execution_count": null,
      "outputs": []
    },
    {
      "cell_type": "markdown",
      "source": [
        "processing .mkv files and saving them in SubclipswithAudio for labelling purpose"
      ],
      "metadata": {
        "id": "hoUBGb75yueE"
      }
    },
    {
      "cell_type": "code",
      "source": [
        "# for directory, subdirs, files in os.walk(os.path.join(data_folder, \"Sessions\")):\n",
        "#     subdirs = [int(i) for i in subdirs]\n",
        "#     subdirs.sort()\n",
        "#     subdirs = [str(i) for i in subdirs]\n",
        "\n",
        "#     for subdir in subdirs:\n",
        "#         session_folder_path = os.path.join(data_folder, directory, subdir)\n",
        "#         os.chdir(session_folder_path)\n",
        "\n",
        "#         video_file = [f for f in os.listdir('.') if (os.path.isfile(f) and '.mkv' in f)]\n",
        "\n",
        "#         if 'laughterAnnotation.csv' in os.listdir('.'):\n",
        "#             csv_file_path = os.path.join(session_folder_path, 'laughterAnnotation.csv')\n",
        "\n",
        "#             df_annotation = pd.read_csv(csv_file_path, encoding=\"ISO-8859-1\")\n",
        "#             df_annotation = df_annotation.loc[(df_annotation['Type'] == 'Laughter') | (df_annotation['Type'] == 'PosedLaughter')].iloc[:, 1:4]\n",
        "\n",
        "#             # Concatenate it to the main annotations file\n",
        "#             df_annotations = pd.concat([df_annotations, df_annotation])\n",
        "\n",
        "#             # Portion to test\n",
        "#             df_temp = pd.read_csv('laughterAnnotation.csv', encoding=\"ISO-8859-1\")\n",
        "#             for index, row in enumerate(np.array(df_temp)):\n",
        "#                 type = row[1]\n",
        "#                 if type == 'Laughter' or type == 'PosedLaughter':\n",
        "#                     main_labelling_annotations.append(video_file[0].strip('.mkv') + '-l' + str(index).zfill(3))\n",
        "\n",
        "#             # Go through the annotations for this audio file only\n",
        "#             for index, row in enumerate(np.array(df_annotation)):\n",
        "#                 start_time = row[1]\n",
        "#                 end_time = row[2]\n",
        "#                 # Read each video and edit it\n",
        "#                 try:\n",
        "#                     if start_time > end_time:\n",
        "#                       start_time, end_time = end_time, start_time  # Swap start_time and end_time if needed\n",
        "#                     editted_vid = VideoFileClip(video_file[0]).subclip(max(start_time, 0), end_time)\n",
        "#                 except (OSError, ValueError) as ve:\n",
        "#                     print(f\"Error processing {video_file[0]}: {ve}\")\n",
        "#                     continue\n",
        "\n",
        "\n",
        "#                 # Write it back to the target folder\n",
        "#                 editted_name = f\"session_{subdir}_clip{start_time}_{end_time}.mp4\"\n",
        "#                 target_path = os.path.join(target1_folder, editted_name)\n",
        "\n",
        "#                 try:\n",
        "#                   editted_vid.write_videofile(target_path, codec=\"libx264\", audio_codec=\"aac\")\n",
        "#                   print(f\"Video clip saved: {target_path}\")\n",
        "#                 except Exception as e:\n",
        "#                   print(f\"Error saving video clip: {e}\")\n",
        "\n",
        "#                 editted_vid.close()\n",
        "#                 time.sleep(1)\n",
        "\n",
        "#         else:\n",
        "#             print(f\"Skipping {session_folder_path} as 'laughterAnnotation.csv' does not exist.\")"
      ],
      "metadata": {
        "id": "KTP2rDtAx8g6"
      },
      "execution_count": null,
      "outputs": []
    },
    {
      "cell_type": "markdown",
      "source": [
        "PROCESSING .avi file and saving subclips"
      ],
      "metadata": {
        "id": "rpIrrch8RArj"
      }
    },
    {
      "cell_type": "code",
      "source": [
        "for directory, subdirs, files in os.walk(os.path.join(data_folder, \"Sessions\")):\n",
        "    subdirs = [int(i) for i in subdirs]\n",
        "    subdirs.sort()\n",
        "    subdirs = [str(i) for i in subdirs]\n",
        "\n",
        "    for subdir in subdirs:\n",
        "        session_folder_path = os.path.join(data_folder, directory, subdir)\n",
        "        os.chdir(session_folder_path)\n",
        "        #Reads video file with .avi extension\n",
        "        video_file = [f for f in os.listdir('.') if (os.path.isfile(f) and '.avi' in f)]\n",
        "\n",
        "        if 'laughterAnnotation.csv' in os.listdir('.'):\n",
        "            csv_file_path = os.path.join(session_folder_path, 'laughterAnnotation.csv')\n",
        "\n",
        "            df_annotation = pd.read_csv(csv_file_path, encoding=\"ISO-8859-1\")\n",
        "            df_annotation = df_annotation.loc[(df_annotation['Type'] == 'Laughter') | (df_annotation['Type'] == 'PosedLaughter')].iloc[:, 1:4]\n",
        "\n",
        "            # Concatenate it to the main annotations file\n",
        "            df_annotations = pd.concat([df_annotations, df_annotation])\n",
        "\n",
        "            # Portion to process video clips\n",
        "            df_temp = pd.read_csv('laughterAnnotation.csv', encoding=\"ISO-8859-1\")\n",
        "            for index, row in enumerate(np.array(df_temp)):\n",
        "                type = row[1]\n",
        "                if type == 'Laughter' or type == 'PosedLaughter':\n",
        "                  #it appends a string to the list main_labelling_annotations.\n",
        "                  #This string includes the name of the video file and a zero-padded index\n",
        "                    main_labelling_annotations.append(video_file[0].strip('.avi') + '-l' + str(index).zfill(3))\n",
        "\n",
        "            # Go through the annotations for this audio file only\n",
        "            for index, row in enumerate(np.array(df_annotation)):\n",
        "                start_time = row[1]\n",
        "                end_time = row[2]\n",
        "                # Read each video and edit it\n",
        "                try:\n",
        "                    if start_time > end_time:\n",
        "                      start_time, end_time = end_time, start_time\n",
        "                    #It loads a video clip using the VideoFileClip function from the moviepy library\n",
        "                    #subclipping it based on the start and end times.\n",
        "                    editted_vid = VideoFileClip(video_file[0]).subclip(max(start_time, 0), end_time)\n",
        "                except (OSError, ValueError) as ve:\n",
        "                    print(f\"Error processing {video_file[0]}: {ve}\")\n",
        "                    continue\n",
        "\n",
        "\n",
        "                # Write it back to the target folder\n",
        "                editted_name = f\"session_{subdir}_clip{start_time}_{end_time}.mp4\"\n",
        "                target_path = os.path.join(target_folder, editted_name)\n",
        "\n",
        "                try:\n",
        "                  editted_vid.write_videofile(target_path, codec=\"libx264\", audio_codec=\"aac\")\n",
        "                  print(f\"Video clip saved: {target_path}\")\n",
        "                except Exception as e:\n",
        "                  print(f\"Error saving video clip: {e}\")\n",
        "\n",
        "                editted_vid.close()\n",
        "                time.sleep(1)\n",
        "\n",
        "                #It uses OpenCV to capture video frames, resize them, and store them in image_frames.\n",
        "                vidcap = cv2.VideoCapture(target_path)\n",
        "                num_frames = int(vidcap.get(cv2.CAP_PROP_FRAME_COUNT))\n",
        "                image_frames = [cv2.resize(vidcap.read()[1], (img_size, img_size)) for i in range(0, int(num_frames))]\n",
        "\n",
        "\n",
        "                # If the number of frames is bigger than the desired number of frames, downsample it\n",
        "                if len(image_frames) > num_frames_to_use:\n",
        "                    # Downsample the frames to 25 frames using linear interpolation\n",
        "                    downsampled_frames = [image_frames[int(np.floor(i))] for i in np.linspace(0, len(image_frames)-1, num_frames_to_use)]\n",
        "\n",
        "                # Else Just pad the end with zeros (black frames)\n",
        "                else:\n",
        "                    w, h, c = image_frames[0].shape  # width, height, channel\n",
        "                    padded_frames = [np.zeros((w, h, c)) for i in range(0, num_frames_to_use-len(image_frames))]\n",
        "                    downsampled_frames = image_frames + padded_frames\n",
        "\n",
        "                downsampled_frames = np.array(downsampled_frames)\n",
        "                input_data.append(downsampled_frames)\n",
        "        else:\n",
        "            print(f\"Skipping {session_folder_path} as 'laughterAnnotation.csv' does not exist.\")"
      ],
      "metadata": {
        "id": "xB-98xcAeCv2",
        "colab": {
          "base_uri": "https://localhost:8080/"
        },
        "outputId": "2f7252f8-1bf8-4fb4-c9f1-5eb1efb7f564"
      },
      "execution_count": null,
      "outputs": [
        {
          "metadata": {
            "tags": null
          },
          "name": "stdout",
          "output_type": "stream",
          "text": [
            "Moviepy - Building video /content/drive/MyDrive/data/Subclips/session_9_clip0.576_7.542.mp4.\n",
            "Moviepy - Writing video /content/drive/MyDrive/data/Subclips/session_9_clip0.576_7.542.mp4\n",
            "\n"
          ]
        },
        {
          "metadata": {
            "tags": null
          },
          "name": "stderr",
          "output_type": "stream",
          "text": [
            ""
          ]
        },
        {
          "metadata": {
            "tags": null
          },
          "name": "stdout",
          "output_type": "stream",
          "text": [
            "Moviepy - Done !\n",
            "Moviepy - video ready /content/drive/MyDrive/data/Subclips/session_9_clip0.576_7.542.mp4\n",
            "Video clip saved: /content/drive/MyDrive/data/Subclips/session_9_clip0.576_7.542.mp4\n",
            "Moviepy - Building video /content/drive/MyDrive/data/Subclips/session_9_clip9.636_13.038.mp4.\n",
            "Moviepy - Writing video /content/drive/MyDrive/data/Subclips/session_9_clip9.636_13.038.mp4\n",
            "\n"
          ]
        },
        {
          "metadata": {
            "tags": null
          },
          "name": "stderr",
          "output_type": "stream",
          "text": [
            ""
          ]
        },
        {
          "metadata": {
            "tags": null
          },
          "name": "stdout",
          "output_type": "stream",
          "text": [
            "Moviepy - Done !\n",
            "Moviepy - video ready /content/drive/MyDrive/data/Subclips/session_9_clip9.636_13.038.mp4\n",
            "Video clip saved: /content/drive/MyDrive/data/Subclips/session_9_clip9.636_13.038.mp4\n",
            "Moviepy - Building video /content/drive/MyDrive/data/Subclips/session_9_clip17.226_31.812.mp4.\n",
            "Moviepy - Writing video /content/drive/MyDrive/data/Subclips/session_9_clip17.226_31.812.mp4\n",
            "\n"
          ]
        },
        {
          "metadata": {
            "tags": null
          },
          "name": "stderr",
          "output_type": "stream",
          "text": [
            ""
          ]
        },
        {
          "metadata": {
            "tags": null
          },
          "name": "stdout",
          "output_type": "stream",
          "text": [
            "Moviepy - Done !\n",
            "Moviepy - video ready /content/drive/MyDrive/data/Subclips/session_9_clip17.226_31.812.mp4\n",
            "Video clip saved: /content/drive/MyDrive/data/Subclips/session_9_clip17.226_31.812.mp4\n",
            "Moviepy - Building video /content/drive/MyDrive/data/Subclips/session_9_clip33.828_61.96.mp4.\n",
            "Moviepy - Writing video /content/drive/MyDrive/data/Subclips/session_9_clip33.828_61.96.mp4\n",
            "\n"
          ]
        },
        {
          "metadata": {
            "tags": null
          },
          "name": "stderr",
          "output_type": "stream",
          "text": [
            ""
          ]
        },
        {
          "metadata": {
            "tags": null
          },
          "name": "stdout",
          "output_type": "stream",
          "text": [
            "Moviepy - Done !\n",
            "Moviepy - video ready /content/drive/MyDrive/data/Subclips/session_9_clip33.828_61.96.mp4\n",
            "Video clip saved: /content/drive/MyDrive/data/Subclips/session_9_clip33.828_61.96.mp4\n",
            "Moviepy - Building video /content/drive/MyDrive/data/Subclips/session_9_clip63.75_64.92.mp4.\n",
            "Moviepy - Writing video /content/drive/MyDrive/data/Subclips/session_9_clip63.75_64.92.mp4\n",
            "\n"
          ]
        },
        {
          "metadata": {
            "tags": null
          },
          "name": "stderr",
          "output_type": "stream",
          "text": [
            ""
          ]
        },
        {
          "metadata": {
            "tags": null
          },
          "name": "stdout",
          "output_type": "stream",
          "text": [
            "Moviepy - Done !\n",
            "Moviepy - video ready /content/drive/MyDrive/data/Subclips/session_9_clip63.75_64.92.mp4\n",
            "Video clip saved: /content/drive/MyDrive/data/Subclips/session_9_clip63.75_64.92.mp4\n",
            "Moviepy - Building video /content/drive/MyDrive/data/Subclips/session_9_clip66.654_70.576.mp4.\n",
            "Moviepy - Writing video /content/drive/MyDrive/data/Subclips/session_9_clip66.654_70.576.mp4\n",
            "\n"
          ]
        },
        {
          "metadata": {
            "tags": null
          },
          "name": "stderr",
          "output_type": "stream",
          "text": [
            ""
          ]
        },
        {
          "metadata": {
            "tags": null
          },
          "name": "stdout",
          "output_type": "stream",
          "text": [
            "Moviepy - Done !\n",
            "Moviepy - video ready /content/drive/MyDrive/data/Subclips/session_9_clip66.654_70.576.mp4\n",
            "Video clip saved: /content/drive/MyDrive/data/Subclips/session_9_clip66.654_70.576.mp4\n",
            "Moviepy - Building video /content/drive/MyDrive/data/Subclips/session_9_clip71.58_84.846.mp4.\n",
            "Moviepy - Writing video /content/drive/MyDrive/data/Subclips/session_9_clip71.58_84.846.mp4\n",
            "\n"
          ]
        },
        {
          "metadata": {
            "tags": null
          },
          "name": "stderr",
          "output_type": "stream",
          "text": [
            ""
          ]
        },
        {
          "metadata": {
            "tags": null
          },
          "name": "stdout",
          "output_type": "stream",
          "text": [
            "Moviepy - Done !\n",
            "Moviepy - video ready /content/drive/MyDrive/data/Subclips/session_9_clip71.58_84.846.mp4\n",
            "Video clip saved: /content/drive/MyDrive/data/Subclips/session_9_clip71.58_84.846.mp4\n",
            "Moviepy - Building video /content/drive/MyDrive/data/Subclips/session_9_clip86.19_87.576.mp4.\n",
            "Moviepy - Writing video /content/drive/MyDrive/data/Subclips/session_9_clip86.19_87.576.mp4\n",
            "\n"
          ]
        },
        {
          "metadata": {
            "tags": null
          },
          "name": "stderr",
          "output_type": "stream",
          "text": [
            ""
          ]
        },
        {
          "metadata": {
            "tags": null
          },
          "name": "stdout",
          "output_type": "stream",
          "text": [
            "Moviepy - Done !\n",
            "Moviepy - video ready /content/drive/MyDrive/data/Subclips/session_9_clip86.19_87.576.mp4\n",
            "Video clip saved: /content/drive/MyDrive/data/Subclips/session_9_clip86.19_87.576.mp4\n",
            "Moviepy - Building video /content/drive/MyDrive/data/Subclips/session_9_clip88.428_93.414.mp4.\n",
            "Moviepy - Writing video /content/drive/MyDrive/data/Subclips/session_9_clip88.428_93.414.mp4\n",
            "\n"
          ]
        },
        {
          "metadata": {
            "tags": null
          },
          "name": "stderr",
          "output_type": "stream",
          "text": [
            ""
          ]
        },
        {
          "metadata": {
            "tags": null
          },
          "name": "stdout",
          "output_type": "stream",
          "text": [
            "Moviepy - Done !\n",
            "Moviepy - video ready /content/drive/MyDrive/data/Subclips/session_9_clip88.428_93.414.mp4\n",
            "Video clip saved: /content/drive/MyDrive/data/Subclips/session_9_clip88.428_93.414.mp4\n",
            "Moviepy - Building video /content/drive/MyDrive/data/Subclips/session_9_clip94.92_104.628.mp4.\n",
            "Moviepy - Writing video /content/drive/MyDrive/data/Subclips/session_9_clip94.92_104.628.mp4\n",
            "\n"
          ]
        },
        {
          "metadata": {
            "tags": null
          },
          "name": "stderr",
          "output_type": "stream",
          "text": [
            ""
          ]
        },
        {
          "metadata": {
            "tags": null
          },
          "name": "stdout",
          "output_type": "stream",
          "text": [
            "Moviepy - Done !\n",
            "Moviepy - video ready /content/drive/MyDrive/data/Subclips/session_9_clip94.92_104.628.mp4\n",
            "Video clip saved: /content/drive/MyDrive/data/Subclips/session_9_clip94.92_104.628.mp4\n",
            "Moviepy - Building video /content/drive/MyDrive/data/Subclips/session_9_clip107.398_108.946.mp4.\n",
            "Moviepy - Writing video /content/drive/MyDrive/data/Subclips/session_9_clip107.398_108.946.mp4\n",
            "\n"
          ]
        },
        {
          "metadata": {
            "tags": null
          },
          "name": "stderr",
          "output_type": "stream",
          "text": [
            ""
          ]
        },
        {
          "metadata": {
            "tags": null
          },
          "name": "stdout",
          "output_type": "stream",
          "text": [
            "Moviepy - Done !\n",
            "Moviepy - video ready /content/drive/MyDrive/data/Subclips/session_9_clip107.398_108.946.mp4\n",
            "Video clip saved: /content/drive/MyDrive/data/Subclips/session_9_clip107.398_108.946.mp4\n",
            "Moviepy - Building video /content/drive/MyDrive/data/Subclips/session_11_clip4.794_5.088.mp4.\n",
            "Moviepy - Writing video /content/drive/MyDrive/data/Subclips/session_11_clip4.794_5.088.mp4\n",
            "\n"
          ]
        },
        {
          "metadata": {
            "tags": null
          },
          "name": "stderr",
          "output_type": "stream",
          "text": [
            ""
          ]
        },
        {
          "metadata": {
            "tags": null
          },
          "name": "stdout",
          "output_type": "stream",
          "text": [
            "Moviepy - Done !\n",
            "Moviepy - video ready /content/drive/MyDrive/data/Subclips/session_11_clip4.794_5.088.mp4\n",
            "Video clip saved: /content/drive/MyDrive/data/Subclips/session_11_clip4.794_5.088.mp4\n",
            "Moviepy - Building video /content/drive/MyDrive/data/Subclips/session_14_clip0.57_2.304.mp4.\n",
            "Moviepy - Writing video /content/drive/MyDrive/data/Subclips/session_14_clip0.57_2.304.mp4\n",
            "\n"
          ]
        },
        {
          "metadata": {
            "tags": null
          },
          "name": "stderr",
          "output_type": "stream",
          "text": [
            ""
          ]
        },
        {
          "metadata": {
            "tags": null
          },
          "name": "stdout",
          "output_type": "stream",
          "text": [
            "Moviepy - Done !\n",
            "Moviepy - video ready /content/drive/MyDrive/data/Subclips/session_14_clip0.57_2.304.mp4\n",
            "Video clip saved: /content/drive/MyDrive/data/Subclips/session_14_clip0.57_2.304.mp4\n",
            "Moviepy - Building video /content/drive/MyDrive/data/Subclips/session_20_clip11.226_11.652.mp4.\n",
            "Moviepy - Writing video /content/drive/MyDrive/data/Subclips/session_20_clip11.226_11.652.mp4\n",
            "\n"
          ]
        },
        {
          "metadata": {
            "tags": null
          },
          "name": "stderr",
          "output_type": "stream",
          "text": [
            ""
          ]
        },
        {
          "metadata": {
            "tags": null
          },
          "name": "stdout",
          "output_type": "stream",
          "text": [
            "Moviepy - Done !\n",
            "Moviepy - video ready /content/drive/MyDrive/data/Subclips/session_20_clip11.226_11.652.mp4\n",
            "Video clip saved: /content/drive/MyDrive/data/Subclips/session_20_clip11.226_11.652.mp4\n",
            "Skipping /content/drive/MyDrive/data/Sessions/27 as 'laughterAnnotation.csv' does not exist.\n",
            "Moviepy - Building video /content/drive/MyDrive/data/Subclips/session_28_clip3.162_3.444.mp4.\n",
            "Moviepy - Writing video /content/drive/MyDrive/data/Subclips/session_28_clip3.162_3.444.mp4\n",
            "\n"
          ]
        },
        {
          "metadata": {
            "tags": null
          },
          "name": "stderr",
          "output_type": "stream",
          "text": [
            ""
          ]
        },
        {
          "metadata": {
            "tags": null
          },
          "name": "stdout",
          "output_type": "stream",
          "text": [
            "Moviepy - Done !\n",
            "Moviepy - video ready /content/drive/MyDrive/data/Subclips/session_28_clip3.162_3.444.mp4\n",
            "Video clip saved: /content/drive/MyDrive/data/Subclips/session_28_clip3.162_3.444.mp4\n",
            "Moviepy - Building video /content/drive/MyDrive/data/Subclips/session_28_clip22.8_24.318.mp4.\n",
            "Moviepy - Writing video /content/drive/MyDrive/data/Subclips/session_28_clip22.8_24.318.mp4\n",
            "\n"
          ]
        },
        {
          "metadata": {
            "tags": null
          },
          "name": "stderr",
          "output_type": "stream",
          "text": [
            ""
          ]
        },
        {
          "metadata": {
            "tags": null
          },
          "name": "stdout",
          "output_type": "stream",
          "text": [
            "Moviepy - Done !\n",
            "Moviepy - video ready /content/drive/MyDrive/data/Subclips/session_28_clip22.8_24.318.mp4\n",
            "Video clip saved: /content/drive/MyDrive/data/Subclips/session_28_clip22.8_24.318.mp4\n",
            "Moviepy - Building video /content/drive/MyDrive/data/Subclips/session_28_clip44.634_45.06.mp4.\n",
            "Moviepy - Writing video /content/drive/MyDrive/data/Subclips/session_28_clip44.634_45.06.mp4\n",
            "\n"
          ]
        },
        {
          "metadata": {
            "tags": null
          },
          "name": "stderr",
          "output_type": "stream",
          "text": [
            ""
          ]
        },
        {
          "metadata": {
            "tags": null
          },
          "name": "stdout",
          "output_type": "stream",
          "text": [
            "Moviepy - Done !\n",
            "Moviepy - video ready /content/drive/MyDrive/data/Subclips/session_28_clip44.634_45.06.mp4\n",
            "Video clip saved: /content/drive/MyDrive/data/Subclips/session_28_clip44.634_45.06.mp4\n",
            "Moviepy - Building video /content/drive/MyDrive/data/Subclips/session_28_clip60.444_61.038.mp4.\n",
            "Moviepy - Writing video /content/drive/MyDrive/data/Subclips/session_28_clip60.444_61.038.mp4\n",
            "\n"
          ]
        },
        {
          "metadata": {
            "tags": null
          },
          "name": "stderr",
          "output_type": "stream",
          "text": [
            ""
          ]
        },
        {
          "metadata": {
            "tags": null
          },
          "name": "stdout",
          "output_type": "stream",
          "text": [
            "Moviepy - Done !\n",
            "Moviepy - video ready /content/drive/MyDrive/data/Subclips/session_28_clip60.444_61.038.mp4\n",
            "Video clip saved: /content/drive/MyDrive/data/Subclips/session_28_clip60.444_61.038.mp4\n",
            "Moviepy - Building video /content/drive/MyDrive/data/Subclips/session_28_clip69.942_71.202.mp4.\n",
            "Moviepy - Writing video /content/drive/MyDrive/data/Subclips/session_28_clip69.942_71.202.mp4\n",
            "\n"
          ]
        },
        {
          "metadata": {
            "tags": null
          },
          "name": "stderr",
          "output_type": "stream",
          "text": [
            ""
          ]
        },
        {
          "metadata": {
            "tags": null
          },
          "name": "stdout",
          "output_type": "stream",
          "text": [
            "Moviepy - Done !\n",
            "Moviepy - video ready /content/drive/MyDrive/data/Subclips/session_28_clip69.942_71.202.mp4\n",
            "Video clip saved: /content/drive/MyDrive/data/Subclips/session_28_clip69.942_71.202.mp4\n",
            "Moviepy - Building video /content/drive/MyDrive/data/Subclips/session_28_clip89.208_90.396.mp4.\n",
            "Moviepy - Writing video /content/drive/MyDrive/data/Subclips/session_28_clip89.208_90.396.mp4\n",
            "\n"
          ]
        },
        {
          "metadata": {
            "tags": null
          },
          "name": "stderr",
          "output_type": "stream",
          "text": [
            ""
          ]
        },
        {
          "metadata": {
            "tags": null
          },
          "name": "stdout",
          "output_type": "stream",
          "text": [
            "Moviepy - Done !\n",
            "Moviepy - video ready /content/drive/MyDrive/data/Subclips/session_28_clip89.208_90.396.mp4\n",
            "Video clip saved: /content/drive/MyDrive/data/Subclips/session_28_clip89.208_90.396.mp4\n",
            "Moviepy - Building video /content/drive/MyDrive/data/Subclips/session_28_clip106.8_107.7.mp4.\n",
            "Moviepy - Writing video /content/drive/MyDrive/data/Subclips/session_28_clip106.8_107.7.mp4\n",
            "\n"
          ]
        },
        {
          "metadata": {
            "tags": null
          },
          "name": "stderr",
          "output_type": "stream",
          "text": [
            ""
          ]
        },
        {
          "metadata": {
            "tags": null
          },
          "name": "stdout",
          "output_type": "stream",
          "text": [
            "Moviepy - Done !\n",
            "Moviepy - video ready /content/drive/MyDrive/data/Subclips/session_28_clip106.8_107.7.mp4\n",
            "Video clip saved: /content/drive/MyDrive/data/Subclips/session_28_clip106.8_107.7.mp4\n",
            "Moviepy - Building video /content/drive/MyDrive/data/Subclips/session_33_clip6.492_6.882.mp4.\n",
            "Moviepy - Writing video /content/drive/MyDrive/data/Subclips/session_33_clip6.492_6.882.mp4\n",
            "\n"
          ]
        },
        {
          "metadata": {
            "tags": null
          },
          "name": "stderr",
          "output_type": "stream",
          "text": [
            ""
          ]
        },
        {
          "metadata": {
            "tags": null
          },
          "name": "stdout",
          "output_type": "stream",
          "text": [
            "Moviepy - Done !\n",
            "Moviepy - video ready /content/drive/MyDrive/data/Subclips/session_33_clip6.492_6.882.mp4\n",
            "Video clip saved: /content/drive/MyDrive/data/Subclips/session_33_clip6.492_6.882.mp4\n",
            "Moviepy - Building video /content/drive/MyDrive/data/Subclips/session_33_clip17.826_18.252.mp4.\n",
            "Moviepy - Writing video /content/drive/MyDrive/data/Subclips/session_33_clip17.826_18.252.mp4\n",
            "\n"
          ]
        },
        {
          "metadata": {
            "tags": null
          },
          "name": "stderr",
          "output_type": "stream",
          "text": [
            ""
          ]
        },
        {
          "metadata": {
            "tags": null
          },
          "name": "stdout",
          "output_type": "stream",
          "text": [
            "Moviepy - Done !\n",
            "Moviepy - video ready /content/drive/MyDrive/data/Subclips/session_33_clip17.826_18.252.mp4\n",
            "Video clip saved: /content/drive/MyDrive/data/Subclips/session_33_clip17.826_18.252.mp4\n",
            "Moviepy - Building video /content/drive/MyDrive/data/Subclips/session_33_clip20.622_21.156.mp4.\n",
            "Moviepy - Writing video /content/drive/MyDrive/data/Subclips/session_33_clip20.622_21.156.mp4\n",
            "\n"
          ]
        },
        {
          "metadata": {
            "tags": null
          },
          "name": "stderr",
          "output_type": "stream",
          "text": [
            ""
          ]
        },
        {
          "metadata": {
            "tags": null
          },
          "name": "stdout",
          "output_type": "stream",
          "text": [
            "Moviepy - Done !\n",
            "Moviepy - video ready /content/drive/MyDrive/data/Subclips/session_33_clip20.622_21.156.mp4\n",
            "Video clip saved: /content/drive/MyDrive/data/Subclips/session_33_clip20.622_21.156.mp4\n",
            "Moviepy - Building video /content/drive/MyDrive/data/Subclips/session_33_clip33.054_33.342.mp4.\n",
            "Moviepy - Writing video /content/drive/MyDrive/data/Subclips/session_33_clip33.054_33.342.mp4\n",
            "\n"
          ]
        },
        {
          "metadata": {
            "tags": null
          },
          "name": "stderr",
          "output_type": "stream",
          "text": [
            ""
          ]
        },
        {
          "metadata": {
            "tags": null
          },
          "name": "stdout",
          "output_type": "stream",
          "text": [
            "Moviepy - Done !\n",
            "Moviepy - video ready /content/drive/MyDrive/data/Subclips/session_33_clip33.054_33.342.mp4\n",
            "Video clip saved: /content/drive/MyDrive/data/Subclips/session_33_clip33.054_33.342.mp4\n",
            "Moviepy - Building video /content/drive/MyDrive/data/Subclips/session_33_clip38.478_38.898.mp4.\n",
            "Moviepy - Writing video /content/drive/MyDrive/data/Subclips/session_33_clip38.478_38.898.mp4\n",
            "\n"
          ]
        },
        {
          "metadata": {
            "tags": null
          },
          "name": "stderr",
          "output_type": "stream",
          "text": [
            ""
          ]
        },
        {
          "metadata": {
            "tags": null
          },
          "name": "stdout",
          "output_type": "stream",
          "text": [
            "Moviepy - Done !\n",
            "Moviepy - video ready /content/drive/MyDrive/data/Subclips/session_33_clip38.478_38.898.mp4\n",
            "Video clip saved: /content/drive/MyDrive/data/Subclips/session_33_clip38.478_38.898.mp4\n",
            "Moviepy - Building video /content/drive/MyDrive/data/Subclips/session_33_clip39.906_40.278.mp4.\n",
            "Moviepy - Writing video /content/drive/MyDrive/data/Subclips/session_33_clip39.906_40.278.mp4\n",
            "\n"
          ]
        },
        {
          "metadata": {
            "tags": null
          },
          "name": "stderr",
          "output_type": "stream",
          "text": [
            ""
          ]
        },
        {
          "metadata": {
            "tags": null
          },
          "name": "stdout",
          "output_type": "stream",
          "text": [
            "Moviepy - Done !\n",
            "Moviepy - video ready /content/drive/MyDrive/data/Subclips/session_33_clip39.906_40.278.mp4\n",
            "Video clip saved: /content/drive/MyDrive/data/Subclips/session_33_clip39.906_40.278.mp4\n",
            "Moviepy - Building video /content/drive/MyDrive/data/Subclips/session_35_clip3.456_12.636.mp4.\n",
            "Moviepy - Writing video /content/drive/MyDrive/data/Subclips/session_35_clip3.456_12.636.mp4\n",
            "\n"
          ]
        },
        {
          "metadata": {
            "tags": null
          },
          "name": "stderr",
          "output_type": "stream",
          "text": [
            ""
          ]
        },
        {
          "metadata": {
            "tags": null
          },
          "name": "stdout",
          "output_type": "stream",
          "text": [
            "Moviepy - Done !\n",
            "Moviepy - video ready /content/drive/MyDrive/data/Subclips/session_35_clip3.456_12.636.mp4\n",
            "Video clip saved: /content/drive/MyDrive/data/Subclips/session_35_clip3.456_12.636.mp4\n",
            "Moviepy - Building video /content/drive/MyDrive/data/Subclips/session_35_clip15.138_19.032.mp4.\n",
            "Moviepy - Writing video /content/drive/MyDrive/data/Subclips/session_35_clip15.138_19.032.mp4\n",
            "\n"
          ]
        },
        {
          "metadata": {
            "tags": null
          },
          "name": "stderr",
          "output_type": "stream",
          "text": [
            ""
          ]
        },
        {
          "metadata": {
            "tags": null
          },
          "name": "stdout",
          "output_type": "stream",
          "text": [
            "Moviepy - Done !\n",
            "Moviepy - video ready /content/drive/MyDrive/data/Subclips/session_35_clip15.138_19.032.mp4\n",
            "Video clip saved: /content/drive/MyDrive/data/Subclips/session_35_clip15.138_19.032.mp4\n",
            "Moviepy - Building video /content/drive/MyDrive/data/Subclips/session_35_clip23.508_24.462.mp4.\n",
            "Moviepy - Writing video /content/drive/MyDrive/data/Subclips/session_35_clip23.508_24.462.mp4\n",
            "\n"
          ]
        },
        {
          "metadata": {
            "tags": null
          },
          "name": "stderr",
          "output_type": "stream",
          "text": [
            ""
          ]
        },
        {
          "metadata": {
            "tags": null
          },
          "name": "stdout",
          "output_type": "stream",
          "text": [
            "Moviepy - Done !\n",
            "Moviepy - video ready /content/drive/MyDrive/data/Subclips/session_35_clip23.508_24.462.mp4\n",
            "Video clip saved: /content/drive/MyDrive/data/Subclips/session_35_clip23.508_24.462.mp4\n",
            "Moviepy - Building video /content/drive/MyDrive/data/Subclips/session_35_clip38.58_39.924.mp4.\n",
            "Moviepy - Writing video /content/drive/MyDrive/data/Subclips/session_35_clip38.58_39.924.mp4\n",
            "\n"
          ]
        },
        {
          "metadata": {
            "tags": null
          },
          "name": "stderr",
          "output_type": "stream",
          "text": [
            ""
          ]
        },
        {
          "metadata": {
            "tags": null
          },
          "name": "stdout",
          "output_type": "stream",
          "text": [
            "Moviepy - Done !\n",
            "Moviepy - video ready /content/drive/MyDrive/data/Subclips/session_35_clip38.58_39.924.mp4\n",
            "Video clip saved: /content/drive/MyDrive/data/Subclips/session_35_clip38.58_39.924.mp4\n",
            "Moviepy - Building video /content/drive/MyDrive/data/Subclips/session_35_clip44.172_47.304.mp4.\n",
            "Moviepy - Writing video /content/drive/MyDrive/data/Subclips/session_35_clip44.172_47.304.mp4\n",
            "\n"
          ]
        },
        {
          "metadata": {
            "tags": null
          },
          "name": "stderr",
          "output_type": "stream",
          "text": [
            ""
          ]
        },
        {
          "metadata": {
            "tags": null
          },
          "name": "stdout",
          "output_type": "stream",
          "text": [
            "Moviepy - Done !\n",
            "Moviepy - video ready /content/drive/MyDrive/data/Subclips/session_35_clip44.172_47.304.mp4\n",
            "Video clip saved: /content/drive/MyDrive/data/Subclips/session_35_clip44.172_47.304.mp4\n",
            "Moviepy - Building video /content/drive/MyDrive/data/Subclips/session_35_clip49.506_51.696.mp4.\n",
            "Moviepy - Writing video /content/drive/MyDrive/data/Subclips/session_35_clip49.506_51.696.mp4\n",
            "\n"
          ]
        },
        {
          "metadata": {
            "tags": null
          },
          "name": "stderr",
          "output_type": "stream",
          "text": [
            ""
          ]
        },
        {
          "metadata": {
            "tags": null
          },
          "name": "stdout",
          "output_type": "stream",
          "text": [
            "Moviepy - Done !\n",
            "Moviepy - video ready /content/drive/MyDrive/data/Subclips/session_35_clip49.506_51.696.mp4\n",
            "Video clip saved: /content/drive/MyDrive/data/Subclips/session_35_clip49.506_51.696.mp4\n",
            "Moviepy - Building video /content/drive/MyDrive/data/Subclips/session_35_clip57.468_59.796.mp4.\n",
            "Moviepy - Writing video /content/drive/MyDrive/data/Subclips/session_35_clip57.468_59.796.mp4\n",
            "\n"
          ]
        },
        {
          "metadata": {
            "tags": null
          },
          "name": "stderr",
          "output_type": "stream",
          "text": [
            ""
          ]
        },
        {
          "metadata": {
            "tags": null
          },
          "name": "stdout",
          "output_type": "stream",
          "text": [
            "Moviepy - Done !\n",
            "Moviepy - video ready /content/drive/MyDrive/data/Subclips/session_35_clip57.468_59.796.mp4\n",
            "Video clip saved: /content/drive/MyDrive/data/Subclips/session_35_clip57.468_59.796.mp4\n",
            "Moviepy - Building video /content/drive/MyDrive/data/Subclips/session_35_clip86.22_86.778.mp4.\n",
            "Moviepy - Writing video /content/drive/MyDrive/data/Subclips/session_35_clip86.22_86.778.mp4\n",
            "\n"
          ]
        },
        {
          "metadata": {
            "tags": null
          },
          "name": "stderr",
          "output_type": "stream",
          "text": [
            ""
          ]
        },
        {
          "metadata": {
            "tags": null
          },
          "name": "stdout",
          "output_type": "stream",
          "text": [
            "Moviepy - Done !\n",
            "Moviepy - video ready /content/drive/MyDrive/data/Subclips/session_35_clip86.22_86.778.mp4\n",
            "Video clip saved: /content/drive/MyDrive/data/Subclips/session_35_clip86.22_86.778.mp4\n",
            "Moviepy - Building video /content/drive/MyDrive/data/Subclips/session_35_clip99.462_100.788.mp4.\n",
            "Moviepy - Writing video /content/drive/MyDrive/data/Subclips/session_35_clip99.462_100.788.mp4\n",
            "\n"
          ]
        },
        {
          "metadata": {
            "tags": null
          },
          "name": "stderr",
          "output_type": "stream",
          "text": [
            ""
          ]
        },
        {
          "metadata": {
            "tags": null
          },
          "name": "stdout",
          "output_type": "stream",
          "text": [
            "Moviepy - Done !\n",
            "Moviepy - video ready /content/drive/MyDrive/data/Subclips/session_35_clip99.462_100.788.mp4\n",
            "Video clip saved: /content/drive/MyDrive/data/Subclips/session_35_clip99.462_100.788.mp4\n",
            "Error processing S004-005_th.avi: t_start (102.40) should be smaller than the clip's duration (101.16).\n",
            "Error processing S004-005_th.avi: t_start (110.19) should be smaller than the clip's duration (101.16).\n",
            "Moviepy - Building video /content/drive/MyDrive/data/Subclips/session_37_clip1.428_5.46.mp4.\n",
            "Moviepy - Writing video /content/drive/MyDrive/data/Subclips/session_37_clip1.428_5.46.mp4\n",
            "\n"
          ]
        },
        {
          "metadata": {
            "tags": null
          },
          "name": "stderr",
          "output_type": "stream",
          "text": [
            ""
          ]
        },
        {
          "metadata": {
            "tags": null
          },
          "name": "stdout",
          "output_type": "stream",
          "text": [
            "Moviepy - Done !\n",
            "Moviepy - video ready /content/drive/MyDrive/data/Subclips/session_37_clip1.428_5.46.mp4\n",
            "Video clip saved: /content/drive/MyDrive/data/Subclips/session_37_clip1.428_5.46.mp4\n",
            "Moviepy - Building video /content/drive/MyDrive/data/Subclips/session_37_clip8.856_11.64.mp4.\n",
            "Moviepy - Writing video /content/drive/MyDrive/data/Subclips/session_37_clip8.856_11.64.mp4\n",
            "\n"
          ]
        },
        {
          "metadata": {
            "tags": null
          },
          "name": "stderr",
          "output_type": "stream",
          "text": [
            ""
          ]
        },
        {
          "metadata": {
            "tags": null
          },
          "name": "stdout",
          "output_type": "stream",
          "text": [
            "Moviepy - Done !\n",
            "Moviepy - video ready /content/drive/MyDrive/data/Subclips/session_37_clip8.856_11.64.mp4\n",
            "Video clip saved: /content/drive/MyDrive/data/Subclips/session_37_clip8.856_11.64.mp4\n",
            "Moviepy - Building video /content/drive/MyDrive/data/Subclips/session_37_clip15.594_17.934.mp4.\n",
            "Moviepy - Writing video /content/drive/MyDrive/data/Subclips/session_37_clip15.594_17.934.mp4\n",
            "\n"
          ]
        },
        {
          "metadata": {
            "tags": null
          },
          "name": "stderr",
          "output_type": "stream",
          "text": [
            ""
          ]
        },
        {
          "metadata": {
            "tags": null
          },
          "name": "stdout",
          "output_type": "stream",
          "text": [
            "Moviepy - Done !\n",
            "Moviepy - video ready /content/drive/MyDrive/data/Subclips/session_37_clip15.594_17.934.mp4\n",
            "Video clip saved: /content/drive/MyDrive/data/Subclips/session_37_clip15.594_17.934.mp4\n",
            "Moviepy - Building video /content/drive/MyDrive/data/Subclips/session_37_clip20.73_21.672.mp4.\n",
            "Moviepy - Writing video /content/drive/MyDrive/data/Subclips/session_37_clip20.73_21.672.mp4\n",
            "\n"
          ]
        },
        {
          "metadata": {
            "tags": null
          },
          "name": "stderr",
          "output_type": "stream",
          "text": [
            ""
          ]
        },
        {
          "metadata": {
            "tags": null
          },
          "name": "stdout",
          "output_type": "stream",
          "text": [
            "Moviepy - Done !\n",
            "Moviepy - video ready /content/drive/MyDrive/data/Subclips/session_37_clip20.73_21.672.mp4\n",
            "Video clip saved: /content/drive/MyDrive/data/Subclips/session_37_clip20.73_21.672.mp4\n",
            "Moviepy - Building video /content/drive/MyDrive/data/Subclips/session_37_clip25.002_28.038.mp4.\n",
            "Moviepy - Writing video /content/drive/MyDrive/data/Subclips/session_37_clip25.002_28.038.mp4\n",
            "\n"
          ]
        },
        {
          "metadata": {
            "tags": null
          },
          "name": "stderr",
          "output_type": "stream",
          "text": [
            ""
          ]
        },
        {
          "metadata": {
            "tags": null
          },
          "name": "stdout",
          "output_type": "stream",
          "text": [
            "Moviepy - Done !\n",
            "Moviepy - video ready /content/drive/MyDrive/data/Subclips/session_37_clip25.002_28.038.mp4\n",
            "Video clip saved: /content/drive/MyDrive/data/Subclips/session_37_clip25.002_28.038.mp4\n",
            "Moviepy - Building video /content/drive/MyDrive/data/Subclips/session_37_clip29.562_31.008.mp4.\n",
            "Moviepy - Writing video /content/drive/MyDrive/data/Subclips/session_37_clip29.562_31.008.mp4\n",
            "\n"
          ]
        },
        {
          "metadata": {
            "tags": null
          },
          "name": "stderr",
          "output_type": "stream",
          "text": [
            ""
          ]
        },
        {
          "metadata": {
            "tags": null
          },
          "name": "stdout",
          "output_type": "stream",
          "text": [
            "Moviepy - Done !\n",
            "Moviepy - video ready /content/drive/MyDrive/data/Subclips/session_37_clip29.562_31.008.mp4\n",
            "Video clip saved: /content/drive/MyDrive/data/Subclips/session_37_clip29.562_31.008.mp4\n",
            "Moviepy - Building video /content/drive/MyDrive/data/Subclips/session_37_clip35.382_37.248.mp4.\n",
            "Moviepy - Writing video /content/drive/MyDrive/data/Subclips/session_37_clip35.382_37.248.mp4\n",
            "\n"
          ]
        },
        {
          "metadata": {
            "tags": null
          },
          "name": "stderr",
          "output_type": "stream",
          "text": [
            ""
          ]
        },
        {
          "metadata": {
            "tags": null
          },
          "name": "stdout",
          "output_type": "stream",
          "text": [
            "Moviepy - Done !\n",
            "Moviepy - video ready /content/drive/MyDrive/data/Subclips/session_37_clip35.382_37.248.mp4\n",
            "Video clip saved: /content/drive/MyDrive/data/Subclips/session_37_clip35.382_37.248.mp4\n",
            "Moviepy - Building video /content/drive/MyDrive/data/Subclips/session_37_clip42.432_48.708.mp4.\n",
            "Moviepy - Writing video /content/drive/MyDrive/data/Subclips/session_37_clip42.432_48.708.mp4\n",
            "\n"
          ]
        },
        {
          "metadata": {
            "tags": null
          },
          "name": "stderr",
          "output_type": "stream",
          "text": [
            ""
          ]
        },
        {
          "metadata": {
            "tags": null
          },
          "name": "stdout",
          "output_type": "stream",
          "text": [
            "Moviepy - Done !\n",
            "Moviepy - video ready /content/drive/MyDrive/data/Subclips/session_37_clip42.432_48.708.mp4\n",
            "Video clip saved: /content/drive/MyDrive/data/Subclips/session_37_clip42.432_48.708.mp4\n",
            "Moviepy - Building video /content/drive/MyDrive/data/Subclips/session_37_clip52.29_53.202.mp4.\n",
            "Moviepy - Writing video /content/drive/MyDrive/data/Subclips/session_37_clip52.29_53.202.mp4\n",
            "\n"
          ]
        },
        {
          "metadata": {
            "tags": null
          },
          "name": "stderr",
          "output_type": "stream",
          "text": [
            ""
          ]
        },
        {
          "metadata": {
            "tags": null
          },
          "name": "stdout",
          "output_type": "stream",
          "text": [
            "Moviepy - Done !\n",
            "Moviepy - video ready /content/drive/MyDrive/data/Subclips/session_37_clip52.29_53.202.mp4\n",
            "Video clip saved: /content/drive/MyDrive/data/Subclips/session_37_clip52.29_53.202.mp4\n",
            "Moviepy - Building video /content/drive/MyDrive/data/Subclips/session_37_clip55.266_59.872.mp4.\n",
            "Moviepy - Writing video /content/drive/MyDrive/data/Subclips/session_37_clip55.266_59.872.mp4\n",
            "\n"
          ]
        },
        {
          "metadata": {
            "tags": null
          },
          "name": "stderr",
          "output_type": "stream",
          "text": [
            ""
          ]
        },
        {
          "metadata": {
            "tags": null
          },
          "name": "stdout",
          "output_type": "stream",
          "text": [
            "Moviepy - Done !\n",
            "Moviepy - video ready /content/drive/MyDrive/data/Subclips/session_37_clip55.266_59.872.mp4\n",
            "Video clip saved: /content/drive/MyDrive/data/Subclips/session_37_clip55.266_59.872.mp4\n",
            "Moviepy - Building video /content/drive/MyDrive/data/Subclips/session_37_clip61.458_63.588.mp4.\n",
            "Moviepy - Writing video /content/drive/MyDrive/data/Subclips/session_37_clip61.458_63.588.mp4\n",
            "\n"
          ]
        },
        {
          "metadata": {
            "tags": null
          },
          "name": "stderr",
          "output_type": "stream",
          "text": [
            ""
          ]
        },
        {
          "metadata": {
            "tags": null
          },
          "name": "stdout",
          "output_type": "stream",
          "text": [
            "Moviepy - Done !\n",
            "Moviepy - video ready /content/drive/MyDrive/data/Subclips/session_37_clip61.458_63.588.mp4\n",
            "Video clip saved: /content/drive/MyDrive/data/Subclips/session_37_clip61.458_63.588.mp4\n",
            "Moviepy - Building video /content/drive/MyDrive/data/Subclips/session_37_clip68.484_69.054.mp4.\n",
            "Moviepy - Writing video /content/drive/MyDrive/data/Subclips/session_37_clip68.484_69.054.mp4\n",
            "\n"
          ]
        },
        {
          "metadata": {
            "tags": null
          },
          "name": "stderr",
          "output_type": "stream",
          "text": [
            ""
          ]
        },
        {
          "metadata": {
            "tags": null
          },
          "name": "stdout",
          "output_type": "stream",
          "text": [
            "Moviepy - Done !\n",
            "Moviepy - video ready /content/drive/MyDrive/data/Subclips/session_37_clip68.484_69.054.mp4\n",
            "Video clip saved: /content/drive/MyDrive/data/Subclips/session_37_clip68.484_69.054.mp4\n",
            "Moviepy - Building video /content/drive/MyDrive/data/Subclips/session_37_clip74.97_77.13.mp4.\n",
            "Moviepy - Writing video /content/drive/MyDrive/data/Subclips/session_37_clip74.97_77.13.mp4\n",
            "\n"
          ]
        },
        {
          "metadata": {
            "tags": null
          },
          "name": "stderr",
          "output_type": "stream",
          "text": [
            ""
          ]
        },
        {
          "output_type": "stream",
          "name": "stdout",
          "text": [
            "Moviepy - Done !\n",
            "Moviepy - video ready /content/drive/MyDrive/data/Subclips/session_37_clip74.97_77.13.mp4\n",
            "Video clip saved: /content/drive/MyDrive/data/Subclips/session_37_clip74.97_77.13.mp4\n",
            "Moviepy - Building video /content/drive/MyDrive/data/Subclips/session_37_clip85.65_86.184.mp4.\n",
            "Moviepy - Writing video /content/drive/MyDrive/data/Subclips/session_37_clip85.65_86.184.mp4\n",
            "\n"
          ]
        },
        {
          "output_type": "stream",
          "name": "stderr",
          "text": []
        },
        {
          "output_type": "stream",
          "name": "stdout",
          "text": [
            "Moviepy - Done !\n",
            "Moviepy - video ready /content/drive/MyDrive/data/Subclips/session_37_clip85.65_86.184.mp4\n",
            "Video clip saved: /content/drive/MyDrive/data/Subclips/session_37_clip85.65_86.184.mp4\n",
            "Moviepy - Building video /content/drive/MyDrive/data/Subclips/session_37_clip91.698_92.604.mp4.\n",
            "Moviepy - Writing video /content/drive/MyDrive/data/Subclips/session_37_clip91.698_92.604.mp4\n",
            "\n"
          ]
        },
        {
          "output_type": "stream",
          "name": "stderr",
          "text": []
        },
        {
          "output_type": "stream",
          "name": "stdout",
          "text": [
            "Moviepy - Done !\n",
            "Moviepy - video ready /content/drive/MyDrive/data/Subclips/session_37_clip91.698_92.604.mp4\n",
            "Video clip saved: /content/drive/MyDrive/data/Subclips/session_37_clip91.698_92.604.mp4\n",
            "Moviepy - Building video /content/drive/MyDrive/data/Subclips/session_37_clip94.74_95.418.mp4.\n",
            "Moviepy - Writing video /content/drive/MyDrive/data/Subclips/session_37_clip94.74_95.418.mp4\n",
            "\n"
          ]
        },
        {
          "output_type": "stream",
          "name": "stderr",
          "text": []
        },
        {
          "output_type": "stream",
          "name": "stdout",
          "text": [
            "Moviepy - Done !\n",
            "Moviepy - video ready /content/drive/MyDrive/data/Subclips/session_37_clip94.74_95.418.mp4\n",
            "Video clip saved: /content/drive/MyDrive/data/Subclips/session_37_clip94.74_95.418.mp4\n",
            "Moviepy - Building video /content/drive/MyDrive/data/Subclips/session_37_clip97.53_98.268.mp4.\n",
            "Moviepy - Writing video /content/drive/MyDrive/data/Subclips/session_37_clip97.53_98.268.mp4\n",
            "\n"
          ]
        },
        {
          "output_type": "stream",
          "name": "stderr",
          "text": []
        },
        {
          "output_type": "stream",
          "name": "stdout",
          "text": [
            "Moviepy - Done !\n",
            "Moviepy - video ready /content/drive/MyDrive/data/Subclips/session_37_clip97.53_98.268.mp4\n",
            "Video clip saved: /content/drive/MyDrive/data/Subclips/session_37_clip97.53_98.268.mp4\n",
            "Moviepy - Building video /content/drive/MyDrive/data/Subclips/session_37_clip109.698_112.998.mp4.\n",
            "Moviepy - Writing video /content/drive/MyDrive/data/Subclips/session_37_clip109.698_112.998.mp4\n",
            "\n"
          ]
        },
        {
          "output_type": "stream",
          "name": "stderr",
          "text": []
        },
        {
          "output_type": "stream",
          "name": "stdout",
          "text": [
            "Moviepy - Done !\n",
            "Moviepy - video ready /content/drive/MyDrive/data/Subclips/session_37_clip109.698_112.998.mp4\n",
            "Video clip saved: /content/drive/MyDrive/data/Subclips/session_37_clip109.698_112.998.mp4\n",
            "Moviepy - Building video /content/drive/MyDrive/data/Subclips/session_37_clip118.2_118.494.mp4.\n",
            "Moviepy - Writing video /content/drive/MyDrive/data/Subclips/session_37_clip118.2_118.494.mp4\n",
            "\n"
          ]
        },
        {
          "output_type": "stream",
          "name": "stderr",
          "text": []
        },
        {
          "output_type": "stream",
          "name": "stdout",
          "text": [
            "Moviepy - Done !\n",
            "Moviepy - video ready /content/drive/MyDrive/data/Subclips/session_37_clip118.2_118.494.mp4\n",
            "Video clip saved: /content/drive/MyDrive/data/Subclips/session_37_clip118.2_118.494.mp4\n",
            "Moviepy - Building video /content/drive/MyDrive/data/Subclips/session_42_clip0.804_1.194.mp4.\n",
            "Moviepy - Writing video /content/drive/MyDrive/data/Subclips/session_42_clip0.804_1.194.mp4\n",
            "\n"
          ]
        },
        {
          "output_type": "stream",
          "name": "stderr",
          "text": []
        },
        {
          "output_type": "stream",
          "name": "stdout",
          "text": [
            "Moviepy - Done !\n",
            "Moviepy - video ready /content/drive/MyDrive/data/Subclips/session_42_clip0.804_1.194.mp4\n",
            "Video clip saved: /content/drive/MyDrive/data/Subclips/session_42_clip0.804_1.194.mp4\n",
            "Moviepy - Building video /content/drive/MyDrive/data/Subclips/session_43_clip30.822_31.23.mp4.\n",
            "Moviepy - Writing video /content/drive/MyDrive/data/Subclips/session_43_clip30.822_31.23.mp4\n",
            "\n"
          ]
        },
        {
          "output_type": "stream",
          "name": "stderr",
          "text": []
        },
        {
          "output_type": "stream",
          "name": "stdout",
          "text": [
            "Moviepy - Done !\n",
            "Moviepy - video ready /content/drive/MyDrive/data/Subclips/session_43_clip30.822_31.23.mp4\n",
            "Video clip saved: /content/drive/MyDrive/data/Subclips/session_43_clip30.822_31.23.mp4\n",
            "Moviepy - Building video /content/drive/MyDrive/data/Subclips/session_44_clip0.96_2.754.mp4.\n",
            "Moviepy - Writing video /content/drive/MyDrive/data/Subclips/session_44_clip0.96_2.754.mp4\n",
            "\n"
          ]
        },
        {
          "output_type": "stream",
          "name": "stderr",
          "text": []
        },
        {
          "output_type": "stream",
          "name": "stdout",
          "text": [
            "Moviepy - Done !\n",
            "Moviepy - video ready /content/drive/MyDrive/data/Subclips/session_44_clip0.96_2.754.mp4\n",
            "Video clip saved: /content/drive/MyDrive/data/Subclips/session_44_clip0.96_2.754.mp4\n",
            "Moviepy - Building video /content/drive/MyDrive/data/Subclips/session_45_clip1.098_6.378.mp4.\n",
            "Moviepy - Writing video /content/drive/MyDrive/data/Subclips/session_45_clip1.098_6.378.mp4\n",
            "\n"
          ]
        },
        {
          "output_type": "stream",
          "name": "stderr",
          "text": []
        },
        {
          "output_type": "stream",
          "name": "stdout",
          "text": [
            "Moviepy - Done !\n",
            "Moviepy - video ready /content/drive/MyDrive/data/Subclips/session_45_clip1.098_6.378.mp4\n",
            "Video clip saved: /content/drive/MyDrive/data/Subclips/session_45_clip1.098_6.378.mp4\n",
            "Moviepy - Building video /content/drive/MyDrive/data/Subclips/session_48_clip11.49_11.856.mp4.\n",
            "Moviepy - Writing video /content/drive/MyDrive/data/Subclips/session_48_clip11.49_11.856.mp4\n",
            "\n"
          ]
        },
        {
          "output_type": "stream",
          "name": "stderr",
          "text": []
        },
        {
          "output_type": "stream",
          "name": "stdout",
          "text": [
            "Moviepy - Done !\n",
            "Moviepy - video ready /content/drive/MyDrive/data/Subclips/session_48_clip11.49_11.856.mp4\n",
            "Video clip saved: /content/drive/MyDrive/data/Subclips/session_48_clip11.49_11.856.mp4\n",
            "Moviepy - Building video /content/drive/MyDrive/data/Subclips/session_48_clip13.86_14.994.mp4.\n",
            "Moviepy - Writing video /content/drive/MyDrive/data/Subclips/session_48_clip13.86_14.994.mp4\n",
            "\n"
          ]
        },
        {
          "output_type": "stream",
          "name": "stderr",
          "text": []
        },
        {
          "output_type": "stream",
          "name": "stdout",
          "text": [
            "Moviepy - Done !\n",
            "Moviepy - video ready /content/drive/MyDrive/data/Subclips/session_48_clip13.86_14.994.mp4\n",
            "Video clip saved: /content/drive/MyDrive/data/Subclips/session_48_clip13.86_14.994.mp4\n",
            "Moviepy - Building video /content/drive/MyDrive/data/Subclips/session_48_clip29.568_29.862.mp4.\n",
            "Moviepy - Writing video /content/drive/MyDrive/data/Subclips/session_48_clip29.568_29.862.mp4\n",
            "\n"
          ]
        },
        {
          "output_type": "stream",
          "name": "stderr",
          "text": []
        },
        {
          "output_type": "stream",
          "name": "stdout",
          "text": [
            "Moviepy - Done !\n",
            "Moviepy - video ready /content/drive/MyDrive/data/Subclips/session_48_clip29.568_29.862.mp4\n",
            "Video clip saved: /content/drive/MyDrive/data/Subclips/session_48_clip29.568_29.862.mp4\n",
            "Moviepy - Building video /content/drive/MyDrive/data/Subclips/session_48_clip31.974_33.0.mp4.\n",
            "Moviepy - Writing video /content/drive/MyDrive/data/Subclips/session_48_clip31.974_33.0.mp4\n",
            "\n"
          ]
        },
        {
          "output_type": "stream",
          "name": "stderr",
          "text": []
        },
        {
          "output_type": "stream",
          "name": "stdout",
          "text": [
            "Moviepy - Done !\n",
            "Moviepy - video ready /content/drive/MyDrive/data/Subclips/session_48_clip31.974_33.0.mp4\n",
            "Video clip saved: /content/drive/MyDrive/data/Subclips/session_48_clip31.974_33.0.mp4\n",
            "Moviepy - Building video /content/drive/MyDrive/data/Subclips/session_48_clip33.24_33.696.mp4.\n",
            "Moviepy - Writing video /content/drive/MyDrive/data/Subclips/session_48_clip33.24_33.696.mp4\n",
            "\n"
          ]
        },
        {
          "output_type": "stream",
          "name": "stderr",
          "text": []
        },
        {
          "output_type": "stream",
          "name": "stdout",
          "text": [
            "Moviepy - Done !\n",
            "Moviepy - video ready /content/drive/MyDrive/data/Subclips/session_48_clip33.24_33.696.mp4\n",
            "Video clip saved: /content/drive/MyDrive/data/Subclips/session_48_clip33.24_33.696.mp4\n",
            "Moviepy - Building video /content/drive/MyDrive/data/Subclips/session_48_clip52.266_52.656.mp4.\n",
            "Moviepy - Writing video /content/drive/MyDrive/data/Subclips/session_48_clip52.266_52.656.mp4\n",
            "\n"
          ]
        },
        {
          "output_type": "stream",
          "name": "stderr",
          "text": []
        },
        {
          "output_type": "stream",
          "name": "stdout",
          "text": [
            "Moviepy - Done !\n",
            "Moviepy - video ready /content/drive/MyDrive/data/Subclips/session_48_clip52.266_52.656.mp4\n",
            "Video clip saved: /content/drive/MyDrive/data/Subclips/session_48_clip52.266_52.656.mp4\n",
            "Moviepy - Building video /content/drive/MyDrive/data/Subclips/session_48_clip70.446_72.336.mp4.\n",
            "Moviepy - Writing video /content/drive/MyDrive/data/Subclips/session_48_clip70.446_72.336.mp4\n",
            "\n"
          ]
        },
        {
          "output_type": "stream",
          "name": "stderr",
          "text": []
        },
        {
          "output_type": "stream",
          "name": "stdout",
          "text": [
            "Moviepy - Done !\n",
            "Moviepy - video ready /content/drive/MyDrive/data/Subclips/session_48_clip70.446_72.336.mp4\n",
            "Video clip saved: /content/drive/MyDrive/data/Subclips/session_48_clip70.446_72.336.mp4\n",
            "Moviepy - Building video /content/drive/MyDrive/data/Subclips/session_48_clip76.836_77.886.mp4.\n",
            "Moviepy - Writing video /content/drive/MyDrive/data/Subclips/session_48_clip76.836_77.886.mp4\n",
            "\n"
          ]
        },
        {
          "output_type": "stream",
          "name": "stderr",
          "text": []
        },
        {
          "output_type": "stream",
          "name": "stdout",
          "text": [
            "Moviepy - Done !\n",
            "Moviepy - video ready /content/drive/MyDrive/data/Subclips/session_48_clip76.836_77.886.mp4\n",
            "Video clip saved: /content/drive/MyDrive/data/Subclips/session_48_clip76.836_77.886.mp4\n",
            "Moviepy - Building video /content/drive/MyDrive/data/Subclips/session_48_clip105.414_106.734.mp4.\n",
            "Moviepy - Writing video /content/drive/MyDrive/data/Subclips/session_48_clip105.414_106.734.mp4\n",
            "\n"
          ]
        },
        {
          "output_type": "stream",
          "name": "stderr",
          "text": []
        },
        {
          "output_type": "stream",
          "name": "stdout",
          "text": [
            "Moviepy - Done !\n",
            "Moviepy - video ready /content/drive/MyDrive/data/Subclips/session_48_clip105.414_106.734.mp4\n",
            "Video clip saved: /content/drive/MyDrive/data/Subclips/session_48_clip105.414_106.734.mp4\n",
            "Moviepy - Building video /content/drive/MyDrive/data/Subclips/session_48_clip107.112_107.838.mp4.\n",
            "Moviepy - Writing video /content/drive/MyDrive/data/Subclips/session_48_clip107.112_107.838.mp4\n",
            "\n"
          ]
        },
        {
          "output_type": "stream",
          "name": "stderr",
          "text": []
        },
        {
          "output_type": "stream",
          "name": "stdout",
          "text": [
            "Moviepy - Done !\n",
            "Moviepy - video ready /content/drive/MyDrive/data/Subclips/session_48_clip107.112_107.838.mp4\n",
            "Video clip saved: /content/drive/MyDrive/data/Subclips/session_48_clip107.112_107.838.mp4\n",
            "Moviepy - Building video /content/drive/MyDrive/data/Subclips/session_48_clip109.992_110.37.mp4.\n",
            "Moviepy - Writing video /content/drive/MyDrive/data/Subclips/session_48_clip109.992_110.37.mp4\n",
            "\n"
          ]
        },
        {
          "output_type": "stream",
          "name": "stderr",
          "text": []
        },
        {
          "output_type": "stream",
          "name": "stdout",
          "text": [
            "Moviepy - Done !\n",
            "Moviepy - video ready /content/drive/MyDrive/data/Subclips/session_48_clip109.992_110.37.mp4\n",
            "Video clip saved: /content/drive/MyDrive/data/Subclips/session_48_clip109.992_110.37.mp4\n",
            "Moviepy - Building video /content/drive/MyDrive/data/Subclips/session_56_clip15.18_15.834.mp4.\n",
            "Moviepy - Writing video /content/drive/MyDrive/data/Subclips/session_56_clip15.18_15.834.mp4\n",
            "\n"
          ]
        },
        {
          "output_type": "stream",
          "name": "stderr",
          "text": []
        },
        {
          "output_type": "stream",
          "name": "stdout",
          "text": [
            "Moviepy - Done !\n",
            "Moviepy - video ready /content/drive/MyDrive/data/Subclips/session_56_clip15.18_15.834.mp4\n",
            "Video clip saved: /content/drive/MyDrive/data/Subclips/session_56_clip15.18_15.834.mp4\n",
            "Moviepy - Building video /content/drive/MyDrive/data/Subclips/session_65_clip2.556_3.342.mp4.\n",
            "Moviepy - Writing video /content/drive/MyDrive/data/Subclips/session_65_clip2.556_3.342.mp4\n",
            "\n"
          ]
        },
        {
          "output_type": "stream",
          "name": "stderr",
          "text": []
        },
        {
          "output_type": "stream",
          "name": "stdout",
          "text": [
            "Moviepy - Done !\n",
            "Moviepy - video ready /content/drive/MyDrive/data/Subclips/session_65_clip2.556_3.342.mp4\n",
            "Video clip saved: /content/drive/MyDrive/data/Subclips/session_65_clip2.556_3.342.mp4\n",
            "Moviepy - Building video /content/drive/MyDrive/data/Subclips/session_65_clip14.118_15.78.mp4.\n",
            "Moviepy - Writing video /content/drive/MyDrive/data/Subclips/session_65_clip14.118_15.78.mp4\n",
            "\n"
          ]
        },
        {
          "output_type": "stream",
          "name": "stderr",
          "text": []
        },
        {
          "output_type": "stream",
          "name": "stdout",
          "text": [
            "Moviepy - Done !\n",
            "Moviepy - video ready /content/drive/MyDrive/data/Subclips/session_65_clip14.118_15.78.mp4\n",
            "Video clip saved: /content/drive/MyDrive/data/Subclips/session_65_clip14.118_15.78.mp4\n",
            "Moviepy - Building video /content/drive/MyDrive/data/Subclips/session_65_clip28.41_29.226.mp4.\n",
            "Moviepy - Writing video /content/drive/MyDrive/data/Subclips/session_65_clip28.41_29.226.mp4\n",
            "\n"
          ]
        },
        {
          "output_type": "stream",
          "name": "stderr",
          "text": []
        },
        {
          "output_type": "stream",
          "name": "stdout",
          "text": [
            "Moviepy - Done !\n",
            "Moviepy - video ready /content/drive/MyDrive/data/Subclips/session_65_clip28.41_29.226.mp4\n",
            "Video clip saved: /content/drive/MyDrive/data/Subclips/session_65_clip28.41_29.226.mp4\n",
            "Moviepy - Building video /content/drive/MyDrive/data/Subclips/session_65_clip36.192_36.75.mp4.\n",
            "Moviepy - Writing video /content/drive/MyDrive/data/Subclips/session_65_clip36.192_36.75.mp4\n",
            "\n"
          ]
        },
        {
          "output_type": "stream",
          "name": "stderr",
          "text": []
        },
        {
          "output_type": "stream",
          "name": "stdout",
          "text": [
            "Moviepy - Done !\n",
            "Moviepy - video ready /content/drive/MyDrive/data/Subclips/session_65_clip36.192_36.75.mp4\n",
            "Video clip saved: /content/drive/MyDrive/data/Subclips/session_65_clip36.192_36.75.mp4\n",
            "Moviepy - Building video /content/drive/MyDrive/data/Subclips/session_65_clip39.6_40.44.mp4.\n",
            "Moviepy - Writing video /content/drive/MyDrive/data/Subclips/session_65_clip39.6_40.44.mp4\n",
            "\n"
          ]
        },
        {
          "output_type": "stream",
          "name": "stderr",
          "text": []
        },
        {
          "output_type": "stream",
          "name": "stdout",
          "text": [
            "Moviepy - Done !\n",
            "Moviepy - video ready /content/drive/MyDrive/data/Subclips/session_65_clip39.6_40.44.mp4\n",
            "Video clip saved: /content/drive/MyDrive/data/Subclips/session_65_clip39.6_40.44.mp4\n",
            "Moviepy - Building video /content/drive/MyDrive/data/Subclips/session_65_clip52.8_53.712.mp4.\n",
            "Moviepy - Writing video /content/drive/MyDrive/data/Subclips/session_65_clip52.8_53.712.mp4\n",
            "\n"
          ]
        },
        {
          "output_type": "stream",
          "name": "stderr",
          "text": []
        },
        {
          "output_type": "stream",
          "name": "stdout",
          "text": [
            "Moviepy - Done !\n",
            "Moviepy - video ready /content/drive/MyDrive/data/Subclips/session_65_clip52.8_53.712.mp4\n",
            "Video clip saved: /content/drive/MyDrive/data/Subclips/session_65_clip52.8_53.712.mp4\n",
            "Moviepy - Building video /content/drive/MyDrive/data/Subclips/session_67_clip5.064_6.396.mp4.\n",
            "Moviepy - Writing video /content/drive/MyDrive/data/Subclips/session_67_clip5.064_6.396.mp4\n",
            "\n"
          ]
        },
        {
          "output_type": "stream",
          "name": "stderr",
          "text": []
        },
        {
          "output_type": "stream",
          "name": "stdout",
          "text": [
            "Moviepy - Done !\n",
            "Moviepy - video ready /content/drive/MyDrive/data/Subclips/session_67_clip5.064_6.396.mp4\n",
            "Video clip saved: /content/drive/MyDrive/data/Subclips/session_67_clip5.064_6.396.mp4\n",
            "Moviepy - Building video /content/drive/MyDrive/data/Subclips/session_67_clip9.348_9.864.mp4.\n",
            "Moviepy - Writing video /content/drive/MyDrive/data/Subclips/session_67_clip9.348_9.864.mp4\n",
            "\n"
          ]
        },
        {
          "output_type": "stream",
          "name": "stderr",
          "text": []
        },
        {
          "output_type": "stream",
          "name": "stdout",
          "text": [
            "Moviepy - Done !\n",
            "Moviepy - video ready /content/drive/MyDrive/data/Subclips/session_67_clip9.348_9.864.mp4\n",
            "Video clip saved: /content/drive/MyDrive/data/Subclips/session_67_clip9.348_9.864.mp4\n",
            "Moviepy - Building video /content/drive/MyDrive/data/Subclips/session_67_clip11.124_11.352.mp4.\n",
            "Moviepy - Writing video /content/drive/MyDrive/data/Subclips/session_67_clip11.124_11.352.mp4\n",
            "\n"
          ]
        },
        {
          "output_type": "stream",
          "name": "stderr",
          "text": []
        },
        {
          "output_type": "stream",
          "name": "stdout",
          "text": [
            "Moviepy - Done !\n",
            "Moviepy - video ready /content/drive/MyDrive/data/Subclips/session_67_clip11.124_11.352.mp4\n",
            "Video clip saved: /content/drive/MyDrive/data/Subclips/session_67_clip11.124_11.352.mp4\n",
            "Moviepy - Building video /content/drive/MyDrive/data/Subclips/session_67_clip13.428_15.568.mp4.\n",
            "Moviepy - Writing video /content/drive/MyDrive/data/Subclips/session_67_clip13.428_15.568.mp4\n",
            "\n"
          ]
        },
        {
          "output_type": "stream",
          "name": "stderr",
          "text": []
        },
        {
          "output_type": "stream",
          "name": "stdout",
          "text": [
            "Moviepy - Done !\n",
            "Moviepy - video ready /content/drive/MyDrive/data/Subclips/session_67_clip13.428_15.568.mp4\n",
            "Video clip saved: /content/drive/MyDrive/data/Subclips/session_67_clip13.428_15.568.mp4\n",
            "Moviepy - Building video /content/drive/MyDrive/data/Subclips/session_67_clip17.964_18.3.mp4.\n",
            "Moviepy - Writing video /content/drive/MyDrive/data/Subclips/session_67_clip17.964_18.3.mp4\n",
            "\n"
          ]
        },
        {
          "output_type": "stream",
          "name": "stderr",
          "text": []
        },
        {
          "output_type": "stream",
          "name": "stdout",
          "text": [
            "Moviepy - Done !\n",
            "Moviepy - video ready /content/drive/MyDrive/data/Subclips/session_67_clip17.964_18.3.mp4\n",
            "Video clip saved: /content/drive/MyDrive/data/Subclips/session_67_clip17.964_18.3.mp4\n",
            "Moviepy - Building video /content/drive/MyDrive/data/Subclips/session_67_clip19.8_20.7.mp4.\n",
            "Moviepy - Writing video /content/drive/MyDrive/data/Subclips/session_67_clip19.8_20.7.mp4\n",
            "\n"
          ]
        },
        {
          "output_type": "stream",
          "name": "stderr",
          "text": []
        },
        {
          "output_type": "stream",
          "name": "stdout",
          "text": [
            "Moviepy - Done !\n",
            "Moviepy - video ready /content/drive/MyDrive/data/Subclips/session_67_clip19.8_20.7.mp4\n",
            "Video clip saved: /content/drive/MyDrive/data/Subclips/session_67_clip19.8_20.7.mp4\n",
            "Moviepy - Building video /content/drive/MyDrive/data/Subclips/session_67_clip21.792_22.626.mp4.\n",
            "Moviepy - Writing video /content/drive/MyDrive/data/Subclips/session_67_clip21.792_22.626.mp4\n",
            "\n"
          ]
        },
        {
          "output_type": "stream",
          "name": "stderr",
          "text": []
        },
        {
          "output_type": "stream",
          "name": "stdout",
          "text": [
            "Moviepy - Done !\n",
            "Moviepy - video ready /content/drive/MyDrive/data/Subclips/session_67_clip21.792_22.626.mp4\n",
            "Video clip saved: /content/drive/MyDrive/data/Subclips/session_67_clip21.792_22.626.mp4\n",
            "Moviepy - Building video /content/drive/MyDrive/data/Subclips/session_67_clip24.978_25.356.mp4.\n",
            "Moviepy - Writing video /content/drive/MyDrive/data/Subclips/session_67_clip24.978_25.356.mp4\n",
            "\n"
          ]
        },
        {
          "output_type": "stream",
          "name": "stderr",
          "text": []
        },
        {
          "output_type": "stream",
          "name": "stdout",
          "text": [
            "Moviepy - Done !\n",
            "Moviepy - video ready /content/drive/MyDrive/data/Subclips/session_67_clip24.978_25.356.mp4\n",
            "Video clip saved: /content/drive/MyDrive/data/Subclips/session_67_clip24.978_25.356.mp4\n",
            "Moviepy - Building video /content/drive/MyDrive/data/Subclips/session_67_clip25.89_26.496.mp4.\n",
            "Moviepy - Writing video /content/drive/MyDrive/data/Subclips/session_67_clip25.89_26.496.mp4\n",
            "\n"
          ]
        },
        {
          "output_type": "stream",
          "name": "stderr",
          "text": []
        },
        {
          "output_type": "stream",
          "name": "stdout",
          "text": [
            "Moviepy - Done !\n",
            "Moviepy - video ready /content/drive/MyDrive/data/Subclips/session_67_clip25.89_26.496.mp4\n",
            "Video clip saved: /content/drive/MyDrive/data/Subclips/session_67_clip25.89_26.496.mp4\n",
            "Moviepy - Building video /content/drive/MyDrive/data/Subclips/session_67_clip28.542_33.546.mp4.\n",
            "Moviepy - Writing video /content/drive/MyDrive/data/Subclips/session_67_clip28.542_33.546.mp4\n",
            "\n"
          ]
        },
        {
          "output_type": "stream",
          "name": "stderr",
          "text": []
        },
        {
          "output_type": "stream",
          "name": "stdout",
          "text": [
            "Moviepy - Done !\n",
            "Moviepy - video ready /content/drive/MyDrive/data/Subclips/session_67_clip28.542_33.546.mp4\n",
            "Video clip saved: /content/drive/MyDrive/data/Subclips/session_67_clip28.542_33.546.mp4\n",
            "Moviepy - Building video /content/drive/MyDrive/data/Subclips/session_67_clip42.51_43.428.mp4.\n",
            "Moviepy - Writing video /content/drive/MyDrive/data/Subclips/session_67_clip42.51_43.428.mp4\n",
            "\n"
          ]
        },
        {
          "output_type": "stream",
          "name": "stderr",
          "text": []
        },
        {
          "output_type": "stream",
          "name": "stdout",
          "text": [
            "Moviepy - Done !\n",
            "Moviepy - video ready /content/drive/MyDrive/data/Subclips/session_67_clip42.51_43.428.mp4\n",
            "Video clip saved: /content/drive/MyDrive/data/Subclips/session_67_clip42.51_43.428.mp4\n",
            "Moviepy - Building video /content/drive/MyDrive/data/Subclips/session_89_clip0.564_2.882.mp4.\n",
            "Moviepy - Writing video /content/drive/MyDrive/data/Subclips/session_89_clip0.564_2.882.mp4\n",
            "\n"
          ]
        },
        {
          "output_type": "stream",
          "name": "stderr",
          "text": []
        },
        {
          "output_type": "stream",
          "name": "stdout",
          "text": [
            "Moviepy - Done !\n",
            "Moviepy - video ready /content/drive/MyDrive/data/Subclips/session_89_clip0.564_2.882.mp4\n",
            "Video clip saved: /content/drive/MyDrive/data/Subclips/session_89_clip0.564_2.882.mp4\n",
            "Moviepy - Building video /content/drive/MyDrive/data/Subclips/session_89_clip5.886_7.08.mp4.\n",
            "Moviepy - Writing video /content/drive/MyDrive/data/Subclips/session_89_clip5.886_7.08.mp4\n",
            "\n"
          ]
        },
        {
          "output_type": "stream",
          "name": "stderr",
          "text": []
        },
        {
          "output_type": "stream",
          "name": "stdout",
          "text": [
            "Moviepy - Done !\n",
            "Moviepy - video ready /content/drive/MyDrive/data/Subclips/session_89_clip5.886_7.08.mp4\n",
            "Video clip saved: /content/drive/MyDrive/data/Subclips/session_89_clip5.886_7.08.mp4\n",
            "Moviepy - Building video /content/drive/MyDrive/data/Subclips/session_89_clip7.71_9.102.mp4.\n",
            "Moviepy - Writing video /content/drive/MyDrive/data/Subclips/session_89_clip7.71_9.102.mp4\n",
            "\n"
          ]
        },
        {
          "output_type": "stream",
          "name": "stderr",
          "text": [
            "t:   9%|▊         | 3/35 [00:00<00:03,  8.16it/s, now=None]WARNING:py.warnings:/usr/local/lib/python3.10/dist-packages/moviepy/video/io/ffmpeg_reader.py:123: UserWarning: Warning: in file S013-004_th.avi, 746496 bytes wanted but 0 bytes read,at frame 204/205, at time 8.16/8.20 sec. Using the last valid frame instead.\n",
            "  warnings.warn(\"Warning: in file %s, \"%(self.filename)+\n",
            "\n",
            "WARNING:py.warnings:/usr/local/lib/python3.10/dist-packages/moviepy/video/io/ffmpeg_reader.py:123: UserWarning: Warning: in file S013-004_th.avi, 746496 bytes wanted but 0 bytes read,at frame 205/205, at time 8.20/8.20 sec. Using the last valid frame instead.\n",
            "  warnings.warn(\"Warning: in file %s, \"%(self.filename)+\n",
            "\n",
            "WARNING:py.warnings:/usr/local/lib/python3.10/dist-packages/moviepy/video/io/ffmpeg_reader.py:123: UserWarning: Warning: in file S013-004_th.avi, 746496 bytes wanted but 0 bytes read,at frame 206/205, at time 8.24/8.20 sec. Using the last valid frame instead.\n",
            "  warnings.warn(\"Warning: in file %s, \"%(self.filename)+\n",
            "\n",
            "WARNING:py.warnings:/usr/local/lib/python3.10/dist-packages/moviepy/video/io/ffmpeg_reader.py:123: UserWarning: Warning: in file S013-004_th.avi, 746496 bytes wanted but 0 bytes read,at frame 207/205, at time 8.28/8.20 sec. Using the last valid frame instead.\n",
            "  warnings.warn(\"Warning: in file %s, \"%(self.filename)+\n",
            "\n",
            "WARNING:py.warnings:/usr/local/lib/python3.10/dist-packages/moviepy/video/io/ffmpeg_reader.py:123: UserWarning: Warning: in file S013-004_th.avi, 746496 bytes wanted but 0 bytes read,at frame 208/205, at time 8.32/8.20 sec. Using the last valid frame instead.\n",
            "  warnings.warn(\"Warning: in file %s, \"%(self.filename)+\n",
            "\n",
            "t:  51%|█████▏    | 18/35 [00:00<00:00, 47.11it/s, now=None]WARNING:py.warnings:/usr/local/lib/python3.10/dist-packages/moviepy/video/io/ffmpeg_reader.py:123: UserWarning: Warning: in file S013-004_th.avi, 746496 bytes wanted but 0 bytes read,at frame 209/205, at time 8.36/8.20 sec. Using the last valid frame instead.\n",
            "  warnings.warn(\"Warning: in file %s, \"%(self.filename)+\n",
            "\n",
            "WARNING:py.warnings:/usr/local/lib/python3.10/dist-packages/moviepy/video/io/ffmpeg_reader.py:123: UserWarning: Warning: in file S013-004_th.avi, 746496 bytes wanted but 0 bytes read,at frame 210/205, at time 8.40/8.20 sec. Using the last valid frame instead.\n",
            "  warnings.warn(\"Warning: in file %s, \"%(self.filename)+\n",
            "\n",
            "WARNING:py.warnings:/usr/local/lib/python3.10/dist-packages/moviepy/video/io/ffmpeg_reader.py:123: UserWarning: Warning: in file S013-004_th.avi, 746496 bytes wanted but 0 bytes read,at frame 211/205, at time 8.44/8.20 sec. Using the last valid frame instead.\n",
            "  warnings.warn(\"Warning: in file %s, \"%(self.filename)+\n",
            "\n",
            "WARNING:py.warnings:/usr/local/lib/python3.10/dist-packages/moviepy/video/io/ffmpeg_reader.py:123: UserWarning: Warning: in file S013-004_th.avi, 746496 bytes wanted but 0 bytes read,at frame 212/205, at time 8.48/8.20 sec. Using the last valid frame instead.\n",
            "  warnings.warn(\"Warning: in file %s, \"%(self.filename)+\n",
            "\n",
            "WARNING:py.warnings:/usr/local/lib/python3.10/dist-packages/moviepy/video/io/ffmpeg_reader.py:123: UserWarning: Warning: in file S013-004_th.avi, 746496 bytes wanted but 0 bytes read,at frame 213/205, at time 8.52/8.20 sec. Using the last valid frame instead.\n",
            "  warnings.warn(\"Warning: in file %s, \"%(self.filename)+\n",
            "\n",
            "WARNING:py.warnings:/usr/local/lib/python3.10/dist-packages/moviepy/video/io/ffmpeg_reader.py:123: UserWarning: Warning: in file S013-004_th.avi, 746496 bytes wanted but 0 bytes read,at frame 214/205, at time 8.56/8.20 sec. Using the last valid frame instead.\n",
            "  warnings.warn(\"Warning: in file %s, \"%(self.filename)+\n",
            "\n",
            "WARNING:py.warnings:/usr/local/lib/python3.10/dist-packages/moviepy/video/io/ffmpeg_reader.py:123: UserWarning: Warning: in file S013-004_th.avi, 746496 bytes wanted but 0 bytes read,at frame 215/205, at time 8.60/8.20 sec. Using the last valid frame instead.\n",
            "  warnings.warn(\"Warning: in file %s, \"%(self.filename)+\n",
            "\n",
            "WARNING:py.warnings:/usr/local/lib/python3.10/dist-packages/moviepy/video/io/ffmpeg_reader.py:123: UserWarning: Warning: in file S013-004_th.avi, 746496 bytes wanted but 0 bytes read,at frame 216/205, at time 8.64/8.20 sec. Using the last valid frame instead.\n",
            "  warnings.warn(\"Warning: in file %s, \"%(self.filename)+\n",
            "\n",
            "WARNING:py.warnings:/usr/local/lib/python3.10/dist-packages/moviepy/video/io/ffmpeg_reader.py:123: UserWarning: Warning: in file S013-004_th.avi, 746496 bytes wanted but 0 bytes read,at frame 217/205, at time 8.68/8.20 sec. Using the last valid frame instead.\n",
            "  warnings.warn(\"Warning: in file %s, \"%(self.filename)+\n",
            "\n",
            "WARNING:py.warnings:/usr/local/lib/python3.10/dist-packages/moviepy/video/io/ffmpeg_reader.py:123: UserWarning: Warning: in file S013-004_th.avi, 746496 bytes wanted but 0 bytes read,at frame 218/205, at time 8.72/8.20 sec. Using the last valid frame instead.\n",
            "  warnings.warn(\"Warning: in file %s, \"%(self.filename)+\n",
            "\n",
            "WARNING:py.warnings:/usr/local/lib/python3.10/dist-packages/moviepy/video/io/ffmpeg_reader.py:123: UserWarning: Warning: in file S013-004_th.avi, 746496 bytes wanted but 0 bytes read,at frame 219/205, at time 8.76/8.20 sec. Using the last valid frame instead.\n",
            "  warnings.warn(\"Warning: in file %s, \"%(self.filename)+\n",
            "\n",
            "WARNING:py.warnings:/usr/local/lib/python3.10/dist-packages/moviepy/video/io/ffmpeg_reader.py:123: UserWarning: Warning: in file S013-004_th.avi, 746496 bytes wanted but 0 bytes read,at frame 220/205, at time 8.80/8.20 sec. Using the last valid frame instead.\n",
            "  warnings.warn(\"Warning: in file %s, \"%(self.filename)+\n",
            "\n",
            "WARNING:py.warnings:/usr/local/lib/python3.10/dist-packages/moviepy/video/io/ffmpeg_reader.py:123: UserWarning: Warning: in file S013-004_th.avi, 746496 bytes wanted but 0 bytes read,at frame 221/205, at time 8.84/8.20 sec. Using the last valid frame instead.\n",
            "  warnings.warn(\"Warning: in file %s, \"%(self.filename)+\n",
            "\n",
            "t:  89%|████████▊ | 31/35 [00:00<00:00, 69.47it/s, now=None]WARNING:py.warnings:/usr/local/lib/python3.10/dist-packages/moviepy/video/io/ffmpeg_reader.py:123: UserWarning: Warning: in file S013-004_th.avi, 746496 bytes wanted but 0 bytes read,at frame 222/205, at time 8.88/8.20 sec. Using the last valid frame instead.\n",
            "  warnings.warn(\"Warning: in file %s, \"%(self.filename)+\n",
            "\n",
            "WARNING:py.warnings:/usr/local/lib/python3.10/dist-packages/moviepy/video/io/ffmpeg_reader.py:123: UserWarning: Warning: in file S013-004_th.avi, 746496 bytes wanted but 0 bytes read,at frame 223/205, at time 8.92/8.20 sec. Using the last valid frame instead.\n",
            "  warnings.warn(\"Warning: in file %s, \"%(self.filename)+\n",
            "\n",
            "WARNING:py.warnings:/usr/local/lib/python3.10/dist-packages/moviepy/video/io/ffmpeg_reader.py:123: UserWarning: Warning: in file S013-004_th.avi, 746496 bytes wanted but 0 bytes read,at frame 224/205, at time 8.96/8.20 sec. Using the last valid frame instead.\n",
            "  warnings.warn(\"Warning: in file %s, \"%(self.filename)+\n",
            "\n",
            "WARNING:py.warnings:/usr/local/lib/python3.10/dist-packages/moviepy/video/io/ffmpeg_reader.py:123: UserWarning: Warning: in file S013-004_th.avi, 746496 bytes wanted but 0 bytes read,at frame 225/205, at time 9.00/8.20 sec. Using the last valid frame instead.\n",
            "  warnings.warn(\"Warning: in file %s, \"%(self.filename)+\n",
            "\n",
            "WARNING:py.warnings:/usr/local/lib/python3.10/dist-packages/moviepy/video/io/ffmpeg_reader.py:123: UserWarning: Warning: in file S013-004_th.avi, 746496 bytes wanted but 0 bytes read,at frame 226/205, at time 9.04/8.20 sec. Using the last valid frame instead.\n",
            "  warnings.warn(\"Warning: in file %s, \"%(self.filename)+\n",
            "\n"
          ]
        },
        {
          "output_type": "stream",
          "name": "stdout",
          "text": [
            "Moviepy - Done !\n",
            "Moviepy - video ready /content/drive/MyDrive/data/Subclips/session_89_clip7.71_9.102.mp4\n",
            "Video clip saved: /content/drive/MyDrive/data/Subclips/session_89_clip7.71_9.102.mp4\n",
            "Error processing S013-004_th.avi: t_start (11.38) should be smaller than the clip's duration (8.20).\n",
            "Moviepy - Building video /content/drive/MyDrive/data/Subclips/session_90_clip0.87_3.714.mp4.\n",
            "Moviepy - Writing video /content/drive/MyDrive/data/Subclips/session_90_clip0.87_3.714.mp4\n",
            "\n"
          ]
        },
        {
          "output_type": "stream",
          "name": "stderr",
          "text": []
        },
        {
          "output_type": "stream",
          "name": "stdout",
          "text": [
            "Moviepy - Done !\n",
            "Moviepy - video ready /content/drive/MyDrive/data/Subclips/session_90_clip0.87_3.714.mp4\n",
            "Video clip saved: /content/drive/MyDrive/data/Subclips/session_90_clip0.87_3.714.mp4\n",
            "Moviepy - Building video /content/drive/MyDrive/data/Subclips/session_91_clip0.336_2.43.mp4.\n",
            "Moviepy - Writing video /content/drive/MyDrive/data/Subclips/session_91_clip0.336_2.43.mp4\n",
            "\n"
          ]
        },
        {
          "output_type": "stream",
          "name": "stderr",
          "text": []
        },
        {
          "output_type": "stream",
          "name": "stdout",
          "text": [
            "Moviepy - Done !\n",
            "Moviepy - video ready /content/drive/MyDrive/data/Subclips/session_91_clip0.336_2.43.mp4\n",
            "Video clip saved: /content/drive/MyDrive/data/Subclips/session_91_clip0.336_2.43.mp4\n",
            "Moviepy - Building video /content/drive/MyDrive/data/Subclips/session_102_clip1.23_2.058.mp4.\n",
            "Moviepy - Writing video /content/drive/MyDrive/data/Subclips/session_102_clip1.23_2.058.mp4\n",
            "\n"
          ]
        },
        {
          "output_type": "stream",
          "name": "stderr",
          "text": []
        },
        {
          "output_type": "stream",
          "name": "stdout",
          "text": [
            "Moviepy - Done !\n",
            "Moviepy - video ready /content/drive/MyDrive/data/Subclips/session_102_clip1.23_2.058.mp4\n",
            "Video clip saved: /content/drive/MyDrive/data/Subclips/session_102_clip1.23_2.058.mp4\n"
          ]
        }
      ]
    },
    {
      "cell_type": "code",
      "source": [
        "folder_path = '/content/drive/MyDrive/data/Subclips'\n",
        "files_in_folder = os.listdir(folder_path)\n",
        "num_files = len(files_in_folder)\n",
        "print(\"Number of files in the folder:\", num_files)\n"
      ],
      "metadata": {
        "colab": {
          "base_uri": "https://localhost:8080/"
        },
        "id": "etbMc4aFxyt6",
        "outputId": "98a96b10-5174-499a-bd7d-ab5a4023bc58"
      },
      "execution_count": null,
      "outputs": [
        {
          "output_type": "stream",
          "name": "stdout",
          "text": [
            "Number of files in the folder: 94\n"
          ]
        }
      ]
    },
    {
      "cell_type": "code",
      "source": [
        "print(len(input_data))"
      ],
      "metadata": {
        "colab": {
          "base_uri": "https://localhost:8080/"
        },
        "id": "aY_HxkllFohu",
        "outputId": "54ac8953-bcce-4220-dc4f-4cdc7355f4c1"
      },
      "execution_count": null,
      "outputs": [
        {
          "output_type": "stream",
          "name": "stdout",
          "text": [
            "94\n"
          ]
        }
      ]
    },
    {
      "cell_type": "code",
      "source": [
        "# A single video/data sample is 4D: (frames, width, height, channels)  Our channel is 1 for grayscale\n",
        "x_train = np.array(input_data)\n",
        "\n",
        "# Scale and normalize the values, divide by 255\n",
        "x_train = x_train/255\n",
        "\n",
        "\n",
        "# Initialize success to the result of the first read\n",
        "success, image = vidcap.read()\n",
        "# image * 255 if the pixel values have been scaled\n",
        "count = 0\n",
        "#reads frames from the video, resizes, converts the frame to grayscale, reshapes it to 3D and saves it as a JPEG\n",
        "while success:\n",
        "\timage = cv2.resize(image, (img_size, img_size))\n",
        "\timage = cv2.cvtColor(image, cv2.COLOR_BGR2GRAY)\n",
        "\timage = image.reshape(img_size,img_size,1)   #no difference\n",
        "\tcv2.imwrite(\"frame%d.jpg\" % count, image)     # save frame as JPEG file\n",
        "\tsuccess,image = vidcap.read() #read the next frame\n",
        "\tcount += 1\n",
        "\n",
        "\n",
        "\n",
        "# CROP the faces to improve the model\n",
        "cropped_x_train = []\n",
        "\n",
        "for video in x_train:\n",
        "\tframes = []\n",
        "\t#It creates a directory for each frame and saves the frame as a JPEG file.\n",
        "\tfor ix, frame in enumerate(video):\n",
        "\t\tos.mkdir('./'+ str(ix))\n",
        "\t\tcv2.imwrite('./' + str(ix) + '/' + str(ix) +'.jpg', frame*255)\n",
        "\t\t#It uses the autocrop command-line tool to automatically crop faces from each saved image.\n",
        "\t\tcmd = 'yes | autocrop -i ' + './' + str(ix) + ' -o ./' + str(ix) + ' -w 70 -H 70'\n",
        "\t\tsubprocess.call(cmd, shell=True)\n",
        "\t\t#The cropped frames are then read and appended to the frames list\n",
        "\t\tframes.append( cv2.imread('./' + str(ix) + '/' + str(ix) +'.jpg',1)  )\n",
        "\t\tshutil.rmtree('./' + str(ix))\n",
        "\tcropped_x_train.append( np.array(frames) )\n",
        "\n",
        "\n",
        "cropped_x_train = np.array(cropped_x_train)\n",
        "\n",
        "# Scale and normalize the values, divide by 255\n",
        "cropped_x_train = cropped_x_train/255"
      ],
      "metadata": {
        "id": "mB6GOy4keDpr"
      },
      "execution_count": null,
      "outputs": []
    },
    {
      "cell_type": "code",
      "source": [
        "# Create and write to the first HDF5 file\n",
        "h5f1 = h5py.File('/content/drive/MyDrive/data/Models/Video_Features_RGB_DL.h5', 'w')\n",
        "h5f1.create_dataset('dataset_features', data=x_train)\n",
        "h5f1.close()\n",
        "\n",
        "# Create and write to the second HDF5 file\n",
        "h5f2 = h5py.File('/content/drive/MyDrive/data/Models/Cropped_Video_Features_RGB_DL.h5', 'w')\n",
        "h5f2.create_dataset('dataset_features', data=cropped_x_train)\n",
        "h5f2.close()\n",
        "\n",
        "# # Create and write to the third HDF5 file\n",
        "# h5f3 = h5py.File('/content/drive/MyDrive/data/Models/Video_Features_Grayscale_DL.h5', 'w')\n",
        "# h5f3.create_dataset('dataset_features', data=grayscale_x_train)\n",
        "# h5f3.close()\n"
      ],
      "metadata": {
        "id": "7oM-x8-tedii"
      },
      "execution_count": null,
      "outputs": []
    },
    {
      "cell_type": "code",
      "source": [
        "print(\"Shape of x_train_audio:\", x_train.shape)\n",
        "print(\"Shape of cropeped_x_train_audio:\",cropped_x_train.shape)\n",
        "#print(\"Shape of x_train_audio:\",grayscale_x_train.shape)"
      ],
      "metadata": {
        "colab": {
          "base_uri": "https://localhost:8080/"
        },
        "id": "HTKKGBrLeRAz",
        "outputId": "ee3a6f4f-29d3-486d-c111-6b2fbcca25dd"
      },
      "execution_count": null,
      "outputs": [
        {
          "output_type": "stream",
          "name": "stdout",
          "text": [
            "Shape of x_train_audio: (94, 25, 70, 70, 3)\n",
            "Shape of cropeped_x_train_audio: (94, 25, 70, 70, 3)\n"
          ]
        }
      ]
    },
    {
      "cell_type": "markdown",
      "source": [
        "AUDIO VIDEO EMOTION"
      ],
      "metadata": {
        "id": "AhkQYwQp6HQg"
      }
    },
    {
      "cell_type": "code",
      "source": [
        "import numpy as np\n",
        "import h5py\n",
        "import pandas as pd\n",
        "import math\n",
        "import random\n",
        "import matplotlib.pyplot as plt\n",
        "import os\n",
        "import itertools\n",
        "\n",
        "import keras\n",
        "\n",
        "\n",
        "from keras.models import Sequential, Model\n",
        "from keras.layers import Conv2D, MaxPooling2D, LSTM, Dense, Dropout, Bidirectional, Input, concatenate, Flatten\n",
        "from keras.layers import Permute, Reshape\n",
        "from keras.layers import Conv3D\n",
        "from keras.layers import ConvLSTM2D\n",
        "from keras.layers import BatchNormalization\n",
        "\n",
        "from keras.callbacks import EarlyStopping, ModelCheckpoint\n",
        "\n",
        "from sklearn import metrics\n",
        "from sklearn.metrics import confusion_matrix\n",
        "from sklearn.metrics import classification_report\n",
        "from sklearn.model_selection import train_test_split\n"
      ],
      "metadata": {
        "id": "5LwDrOQK6MRi"
      },
      "execution_count": null,
      "outputs": []
    },
    {
      "cell_type": "code",
      "source": [
        "# Keep randomness the same\n",
        "np.random.seed(0)\n",
        "\n",
        "\n",
        "pd.set_option('display.max_rows', 500)\n",
        "pd.set_option('display.max_columns', 500)\n",
        "#pd.set_option('display.height', 1000)\n",
        "pd.set_option('display.width', 1000)"
      ],
      "metadata": {
        "id": "5wg4zsha6aXk"
      },
      "execution_count": null,
      "outputs": []
    },
    {
      "cell_type": "code",
      "source": [
        "print(\"Files in the Directory:\", os.listdir('/content/drive/MyDrive/data/'))"
      ],
      "metadata": {
        "colab": {
          "base_uri": "https://localhost:8080/"
        },
        "id": "Z2Q_sraa_O3s",
        "outputId": "31b1b3a4-6c32-449d-fd09-19b9190efad0"
      },
      "execution_count": null,
      "outputs": [
        {
          "output_type": "stream",
          "name": "stdout",
          "text": [
            "Files in the Directory: ['Sessions', 'Models', '.ipynb_checkpoints', 'output_files', 'SubclipswithAudio', 'Subclips', 'merged_labels.csv', 'audio_subclips']\n"
          ]
        }
      ]
    },
    {
      "cell_type": "code",
      "source": [
        "df_labels = pd.read_csv('/content/drive/MyDrive/data/merged_labels.csv',  encoding=\"ISO-8859-1\")"
      ],
      "metadata": {
        "id": "lVpCJ75x1rrW"
      },
      "execution_count": null,
      "outputs": []
    },
    {
      "cell_type": "code",
      "source": [
        "def labelling(x):\n",
        "\tif x == 'happy':\n",
        "\t\treturn 0\n",
        "\telif x == 'schadenfreude':\n",
        "\t\treturn 1\n",
        "\telif x == 'embarassment':\n",
        "\t\treturn 2\n",
        "\telif x == 'courtesy':\n",
        "\t\treturn 3"
      ],
      "metadata": {
        "id": "DwORmPCi3ZtY"
      },
      "execution_count": null,
      "outputs": []
    },
    {
      "cell_type": "code",
      "source": [
        "missing_values = df_labels['Merged Emotion'].isnull().sum()\n",
        "print(missing_values)"
      ],
      "metadata": {
        "colab": {
          "base_uri": "https://localhost:8080/"
        },
        "id": "o5RgGEW246Qw",
        "outputId": "410605ce-8a64-43be-e6d3-85b99a977334"
      },
      "execution_count": null,
      "outputs": [
        {
          "output_type": "stream",
          "name": "stdout",
          "text": [
            "0\n"
          ]
        }
      ]
    },
    {
      "cell_type": "code",
      "source": [
        "df_labels['Merged Emotion'] = df_labels['Merged Emotion'].apply(lambda x:labelling(x)  )\n",
        "label_counts = df_labels['Merged Emotion'].value_counts()\n",
        "\n",
        "# Print the label counts\n",
        "print(label_counts)"
      ],
      "metadata": {
        "id": "5qVK33e2BXj5",
        "colab": {
          "base_uri": "https://localhost:8080/"
        },
        "outputId": "bc00b45b-9368-4a60-9a7f-c389dc80708a"
      },
      "execution_count": null,
      "outputs": [
        {
          "output_type": "stream",
          "name": "stdout",
          "text": [
            "0    42\n",
            "3    33\n",
            "1    17\n",
            "2     6\n",
            "Name: Merged Emotion, dtype: int64\n"
          ]
        }
      ]
    },
    {
      "cell_type": "code",
      "source": [
        "train_labels = np.array( df_labels['Merged Emotion'] )"
      ],
      "metadata": {
        "id": "srtXiAC1t8Fs"
      },
      "execution_count": null,
      "outputs": []
    },
    {
      "cell_type": "code",
      "source": [
        "# Print a sample of the encoded labels\n",
        "print(train_labels[:20])  # Print the first 10 labels as an example"
      ],
      "metadata": {
        "colab": {
          "base_uri": "https://localhost:8080/"
        },
        "id": "Ct6MdAYgthx1",
        "outputId": "5ee0c80c-8056-4fcc-ea5b-345bb0290bfe"
      },
      "execution_count": null,
      "outputs": [
        {
          "output_type": "stream",
          "name": "stdout",
          "text": [
            "[1 1 1 0 0 0 1 0 1 0 0 0 1 3 2 3 3 0 3 0]\n"
          ]
        }
      ]
    },
    {
      "cell_type": "code",
      "source": [
        "# Loading the File\n",
        "h5f = h5py.File('/content/drive/MyDrive/data/Models/Audio_Features_DL.h5','r')\n",
        "group_name = list(h5f.keys())[0]\n",
        "x_train_audio = h5f[group_name][:]\n",
        "h5f.close()"
      ],
      "metadata": {
        "id": "o0IYc692Kv-f"
      },
      "execution_count": null,
      "outputs": []
    },
    {
      "cell_type": "code",
      "source": [
        "len(df_labels['Merged Emotion'])"
      ],
      "metadata": {
        "colab": {
          "base_uri": "https://localhost:8080/"
        },
        "id": "ZkaudIhR7Tt9",
        "outputId": "08adf404-0adf-496d-9264-925647461174"
      },
      "execution_count": null,
      "outputs": [
        {
          "output_type": "execute_result",
          "data": {
            "text/plain": [
              "98"
            ]
          },
          "metadata": {},
          "execution_count": 16
        }
      ]
    },
    {
      "cell_type": "code",
      "source": [
        "print(\"Shape of x_train_audio:\", x_train_audio.shape)\n",
        "print(\"Length of train_labels:\", len(train_labels))"
      ],
      "metadata": {
        "id": "0sqQLkuhBrTV",
        "colab": {
          "base_uri": "https://localhost:8080/"
        },
        "outputId": "db537039-7f84-40c5-8ed5-94151b7bc2d7"
      },
      "execution_count": null,
      "outputs": [
        {
          "output_type": "stream",
          "name": "stdout",
          "text": [
            "Shape of x_train_audio: (98, 216, 20)\n",
            "Length of train_labels: 98\n"
          ]
        }
      ]
    },
    {
      "cell_type": "code",
      "source": [
        "num_classes = len(np.unique(train_labels))\n",
        "print(num_classes)"
      ],
      "metadata": {
        "colab": {
          "base_uri": "https://localhost:8080/"
        },
        "id": "Xah-EGNesCMd",
        "outputId": "8e818371-e6c4-4b44-e597-b3fb6271271e"
      },
      "execution_count": null,
      "outputs": [
        {
          "output_type": "stream",
          "name": "stdout",
          "text": [
            "4\n"
          ]
        }
      ]
    },
    {
      "cell_type": "code",
      "source": [
        "####################################### Audio Model  ##################################################\n",
        "\n",
        "# LSTM expects timesteps x features  (ie. 216 x 20 MFCC features)\n",
        "_, timesteps, data_dim = x_train_audio.shape\n",
        "\n",
        "x_train, x_cv, y_train_labels, y_cv_labels = train_test_split(x_train_audio, train_labels, test_size=0.20, random_state=42)\n",
        "\n",
        "y_train = keras.utils.to_categorical(y_train_labels, len(np.unique(train_labels)))\n",
        "y_cv = keras.utils.to_categorical(y_cv_labels, len(np.unique(train_labels)))\n",
        "\n",
        "# define hyperparameters for the model\n",
        "num_hidden_lstm = 128\n",
        "batch_size = 128\n",
        "epochs = 100\n",
        "model_patience = 10\n",
        "\n",
        "# LSTM expects 3D data (batch_size, timesteps, features)\n",
        "model_audio = Sequential()\n",
        "model_audio.add(BatchNormalization(input_shape=(timesteps, data_dim)))\n",
        "model_audio.add(LSTM(num_hidden_lstm, return_sequences=True))\n",
        "model_audio.add(BatchNormalization())\n",
        "model_audio.add(LSTM(num_hidden_lstm, return_sequences=False))\n",
        "model_audio.add(Dense(len(np.unique(train_labels)), activation='softmax'))\n",
        "\n",
        "model_audio.summary()\n",
        "\n",
        "model_audio.compile(\n",
        "    loss=keras.losses.categorical_crossentropy,   # For emotional expression\n",
        "    metrics=['accuracy'], \t\t\t\t\t\t# For emotional expression\n",
        "    optimizer='adam'\n",
        ")\n",
        "\n",
        "checkpoint = ModelCheckpoint(filepath=\"audio_weights_emotion.hdf5\", monitor='val_loss', verbose=1, save_best_only=True)\n",
        "\n",
        "# Removed EarlyStopping callback from callbacks list\n",
        "history = model_audio.fit(\n",
        "    x_train,\n",
        "    y_train,\n",
        "    batch_size=batch_size,\n",
        "    epochs=epochs,\n",
        "    verbose=1,\n",
        "    shuffle=True,\n",
        "    validation_data=(x_cv, y_cv),\n",
        "    callbacks=[checkpoint]  # Removed EarlyStopping callback\n",
        ")\n",
        "\n",
        "model_audio.load_weights(\"audio_weights_emotion.hdf5\")\n",
        "model_audio.save('/content/drive/MyDrive/data/Models/audio_model_emotion.h5')\n",
        "\n",
        "# Predict the scores\n",
        "predicted_audio_labels_probs = model_audio.predict(x_cv)\n",
        "predicted_audio_labels = np.argmax(predicted_audio_labels_probs, axis=1)\n",
        "\n",
        "# Evaluation Metric (Emotion)\n",
        "print('Test Accuracy: ', sum(predicted_audio_labels == y_cv_labels) / y_cv_labels.shape[0])\n"
      ],
      "metadata": {
        "id": "MFyQmcfE6ayS",
        "colab": {
          "base_uri": "https://localhost:8080/"
        },
        "outputId": "d1446295-dade-422e-dade-2c6d7fe854fc"
      },
      "execution_count": null,
      "outputs": [
        {
          "output_type": "stream",
          "name": "stdout",
          "text": [
            "Model: \"sequential\"\n",
            "_________________________________________________________________\n",
            " Layer (type)                Output Shape              Param #   \n",
            "=================================================================\n",
            " batch_normalization (Batch  (None, 216, 20)           80        \n",
            " Normalization)                                                  \n",
            "                                                                 \n",
            " lstm (LSTM)                 (None, 216, 128)          76288     \n",
            "                                                                 \n",
            " batch_normalization_1 (Bat  (None, 216, 128)          512       \n",
            " chNormalization)                                                \n",
            "                                                                 \n",
            " lstm_1 (LSTM)               (None, 128)               131584    \n",
            "                                                                 \n",
            " dense (Dense)               (None, 4)                 516       \n",
            "                                                                 \n",
            "=================================================================\n",
            "Total params: 208980 (816.33 KB)\n",
            "Trainable params: 208684 (815.17 KB)\n",
            "Non-trainable params: 296 (1.16 KB)\n",
            "_________________________________________________________________\n",
            "Epoch 1/100\n",
            "1/1 [==============================] - ETA: 0s - loss: 1.4632 - accuracy: 0.2564\n",
            "Epoch 1: val_loss improved from inf to 1.45898, saving model to audio_weights_emotion.hdf5\n",
            "1/1 [==============================] - 9s 9s/step - loss: 1.4632 - accuracy: 0.2564 - val_loss: 1.4590 - val_accuracy: 0.1000\n",
            "Epoch 2/100\n"
          ]
        },
        {
          "output_type": "stream",
          "name": "stderr",
          "text": [
            "/usr/local/lib/python3.10/dist-packages/keras/src/engine/training.py:3103: UserWarning: You are saving your model as an HDF5 file via `model.save()`. This file format is considered legacy. We recommend using instead the native Keras format, e.g. `model.save('my_model.keras')`.\n",
            "  saving_api.save_model(\n"
          ]
        },
        {
          "output_type": "stream",
          "name": "stdout",
          "text": [
            "\r1/1 [==============================] - ETA: 0s - loss: 1.2251 - accuracy: 0.4615\n",
            "Epoch 2: val_loss improved from 1.45898 to 1.42320, saving model to audio_weights_emotion.hdf5\n",
            "1/1 [==============================] - 1s 1s/step - loss: 1.2251 - accuracy: 0.4615 - val_loss: 1.4232 - val_accuracy: 0.3000\n",
            "Epoch 3/100\n",
            "1/1 [==============================] - ETA: 0s - loss: 1.1293 - accuracy: 0.5769\n",
            "Epoch 3: val_loss improved from 1.42320 to 1.40573, saving model to audio_weights_emotion.hdf5\n",
            "1/1 [==============================] - 1s 1s/step - loss: 1.1293 - accuracy: 0.5769 - val_loss: 1.4057 - val_accuracy: 0.2500\n",
            "Epoch 4/100\n",
            "1/1 [==============================] - ETA: 0s - loss: 1.0575 - accuracy: 0.6026\n",
            "Epoch 4: val_loss did not improve from 1.40573\n",
            "1/1 [==============================] - 1s 1s/step - loss: 1.0575 - accuracy: 0.6026 - val_loss: 1.4061 - val_accuracy: 0.1000\n",
            "Epoch 5/100\n",
            "1/1 [==============================] - ETA: 0s - loss: 0.9998 - accuracy: 0.6154\n",
            "Epoch 5: val_loss did not improve from 1.40573\n",
            "1/1 [==============================] - 1s 1s/step - loss: 0.9998 - accuracy: 0.6154 - val_loss: 1.4215 - val_accuracy: 0.1000\n",
            "Epoch 6/100\n",
            "1/1 [==============================] - ETA: 0s - loss: 0.9609 - accuracy: 0.6154\n",
            "Epoch 6: val_loss did not improve from 1.40573\n",
            "1/1 [==============================] - 1s 1s/step - loss: 0.9609 - accuracy: 0.6154 - val_loss: 1.4497 - val_accuracy: 0.0500\n",
            "Epoch 7/100\n",
            "1/1 [==============================] - ETA: 0s - loss: 0.9422 - accuracy: 0.6282\n",
            "Epoch 7: val_loss did not improve from 1.40573\n",
            "1/1 [==============================] - 1s 1s/step - loss: 0.9422 - accuracy: 0.6282 - val_loss: 1.4813 - val_accuracy: 0.0500\n",
            "Epoch 8/100\n",
            "1/1 [==============================] - ETA: 0s - loss: 0.9298 - accuracy: 0.6026\n",
            "Epoch 8: val_loss did not improve from 1.40573\n",
            "1/1 [==============================] - 2s 2s/step - loss: 0.9298 - accuracy: 0.6026 - val_loss: 1.5001 - val_accuracy: 0.0500\n",
            "Epoch 9/100\n",
            "1/1 [==============================] - ETA: 0s - loss: 0.9147 - accuracy: 0.6154\n",
            "Epoch 9: val_loss did not improve from 1.40573\n",
            "1/1 [==============================] - 2s 2s/step - loss: 0.9147 - accuracy: 0.6154 - val_loss: 1.4999 - val_accuracy: 0.0500\n",
            "Epoch 10/100\n",
            "1/1 [==============================] - ETA: 0s - loss: 0.8955 - accuracy: 0.6154\n",
            "Epoch 10: val_loss did not improve from 1.40573\n",
            "1/1 [==============================] - 1s 1s/step - loss: 0.8955 - accuracy: 0.6154 - val_loss: 1.4882 - val_accuracy: 0.0500\n",
            "Epoch 11/100\n",
            "1/1 [==============================] - ETA: 0s - loss: 0.8834 - accuracy: 0.6154\n",
            "Epoch 11: val_loss did not improve from 1.40573\n",
            "1/1 [==============================] - 1s 1s/step - loss: 0.8834 - accuracy: 0.6154 - val_loss: 1.4786 - val_accuracy: 0.1000\n",
            "Epoch 12/100\n",
            "1/1 [==============================] - ETA: 0s - loss: 0.8805 - accuracy: 0.6154\n",
            "Epoch 12: val_loss did not improve from 1.40573\n",
            "1/1 [==============================] - 1s 1s/step - loss: 0.8805 - accuracy: 0.6154 - val_loss: 1.4812 - val_accuracy: 0.1000\n",
            "Epoch 13/100\n",
            "1/1 [==============================] - ETA: 0s - loss: 0.8756 - accuracy: 0.6154\n",
            "Epoch 13: val_loss did not improve from 1.40573\n",
            "1/1 [==============================] - 1s 1s/step - loss: 0.8756 - accuracy: 0.6154 - val_loss: 1.4975 - val_accuracy: 0.1000\n",
            "Epoch 14/100\n",
            "1/1 [==============================] - ETA: 0s - loss: 0.8672 - accuracy: 0.6154\n",
            "Epoch 14: val_loss did not improve from 1.40573\n",
            "1/1 [==============================] - 1s 1s/step - loss: 0.8672 - accuracy: 0.6154 - val_loss: 1.5216 - val_accuracy: 0.1000\n",
            "Epoch 15/100\n",
            "1/1 [==============================] - ETA: 0s - loss: 0.8606 - accuracy: 0.6282\n",
            "Epoch 15: val_loss did not improve from 1.40573\n",
            "1/1 [==============================] - 1s 1s/step - loss: 0.8606 - accuracy: 0.6282 - val_loss: 1.5432 - val_accuracy: 0.1000\n",
            "Epoch 16/100\n",
            "1/1 [==============================] - ETA: 0s - loss: 0.8549 - accuracy: 0.6154\n",
            "Epoch 16: val_loss did not improve from 1.40573\n",
            "1/1 [==============================] - 1s 1s/step - loss: 0.8549 - accuracy: 0.6154 - val_loss: 1.5538 - val_accuracy: 0.1000\n",
            "Epoch 17/100\n",
            "1/1 [==============================] - ETA: 0s - loss: 0.8475 - accuracy: 0.6410\n",
            "Epoch 17: val_loss did not improve from 1.40573\n",
            "1/1 [==============================] - 1s 1s/step - loss: 0.8475 - accuracy: 0.6410 - val_loss: 1.5644 - val_accuracy: 0.1000\n",
            "Epoch 18/100\n",
            "1/1 [==============================] - ETA: 0s - loss: 0.8445 - accuracy: 0.6282\n",
            "Epoch 18: val_loss did not improve from 1.40573\n",
            "1/1 [==============================] - 1s 1s/step - loss: 0.8445 - accuracy: 0.6282 - val_loss: 1.5925 - val_accuracy: 0.1000\n",
            "Epoch 19/100\n",
            "1/1 [==============================] - ETA: 0s - loss: 0.8401 - accuracy: 0.6282\n",
            "Epoch 19: val_loss did not improve from 1.40573\n",
            "1/1 [==============================] - 2s 2s/step - loss: 0.8401 - accuracy: 0.6282 - val_loss: 1.6381 - val_accuracy: 0.1000\n",
            "Epoch 20/100\n",
            "1/1 [==============================] - ETA: 0s - loss: 0.8361 - accuracy: 0.6026\n",
            "Epoch 20: val_loss did not improve from 1.40573\n",
            "1/1 [==============================] - 2s 2s/step - loss: 0.8361 - accuracy: 0.6026 - val_loss: 1.6442 - val_accuracy: 0.1000\n",
            "Epoch 21/100\n",
            "1/1 [==============================] - ETA: 0s - loss: 0.8277 - accuracy: 0.6282\n",
            "Epoch 21: val_loss did not improve from 1.40573\n",
            "1/1 [==============================] - 1s 1s/step - loss: 0.8277 - accuracy: 0.6282 - val_loss: 1.6406 - val_accuracy: 0.1000\n",
            "Epoch 22/100\n",
            "1/1 [==============================] - ETA: 0s - loss: 0.8211 - accuracy: 0.6538\n",
            "Epoch 22: val_loss did not improve from 1.40573\n",
            "1/1 [==============================] - 1s 1s/step - loss: 0.8211 - accuracy: 0.6538 - val_loss: 1.6504 - val_accuracy: 0.1000\n",
            "Epoch 23/100\n",
            "1/1 [==============================] - ETA: 0s - loss: 0.8199 - accuracy: 0.6282\n",
            "Epoch 23: val_loss did not improve from 1.40573\n",
            "1/1 [==============================] - 1s 1s/step - loss: 0.8199 - accuracy: 0.6282 - val_loss: 1.6402 - val_accuracy: 0.1000\n",
            "Epoch 24/100\n",
            "1/1 [==============================] - ETA: 0s - loss: 0.8142 - accuracy: 0.6538\n",
            "Epoch 24: val_loss did not improve from 1.40573\n",
            "1/1 [==============================] - 1s 1s/step - loss: 0.8142 - accuracy: 0.6538 - val_loss: 1.6422 - val_accuracy: 0.1000\n",
            "Epoch 25/100\n",
            "1/1 [==============================] - ETA: 0s - loss: 0.8114 - accuracy: 0.6410\n",
            "Epoch 25: val_loss did not improve from 1.40573\n",
            "1/1 [==============================] - 1s 1s/step - loss: 0.8114 - accuracy: 0.6410 - val_loss: 1.6959 - val_accuracy: 0.1000\n",
            "Epoch 26/100\n",
            "1/1 [==============================] - ETA: 0s - loss: 0.8033 - accuracy: 0.6026\n",
            "Epoch 26: val_loss did not improve from 1.40573\n",
            "1/1 [==============================] - 1s 1s/step - loss: 0.8033 - accuracy: 0.6026 - val_loss: 1.7481 - val_accuracy: 0.1000\n",
            "Epoch 27/100\n",
            "1/1 [==============================] - ETA: 0s - loss: 0.7954 - accuracy: 0.6026\n",
            "Epoch 27: val_loss did not improve from 1.40573\n",
            "1/1 [==============================] - 1s 1s/step - loss: 0.7954 - accuracy: 0.6026 - val_loss: 1.7705 - val_accuracy: 0.1000\n",
            "Epoch 28/100\n",
            "1/1 [==============================] - ETA: 0s - loss: 0.8217 - accuracy: 0.6154\n",
            "Epoch 28: val_loss did not improve from 1.40573\n",
            "1/1 [==============================] - 1s 1s/step - loss: 0.8217 - accuracy: 0.6154 - val_loss: 1.8457 - val_accuracy: 0.1000\n",
            "Epoch 29/100\n",
            "1/1 [==============================] - ETA: 0s - loss: 0.8047 - accuracy: 0.6538\n",
            "Epoch 29: val_loss did not improve from 1.40573\n",
            "1/1 [==============================] - 2s 2s/step - loss: 0.8047 - accuracy: 0.6538 - val_loss: 1.9325 - val_accuracy: 0.1000\n",
            "Epoch 30/100\n",
            "1/1 [==============================] - ETA: 0s - loss: 0.8006 - accuracy: 0.5897\n",
            "Epoch 30: val_loss did not improve from 1.40573\n",
            "1/1 [==============================] - 2s 2s/step - loss: 0.8006 - accuracy: 0.5897 - val_loss: 1.8207 - val_accuracy: 0.1000\n",
            "Epoch 31/100\n",
            "1/1 [==============================] - ETA: 0s - loss: 0.7898 - accuracy: 0.6538\n",
            "Epoch 31: val_loss did not improve from 1.40573\n",
            "1/1 [==============================] - 1s 1s/step - loss: 0.7898 - accuracy: 0.6538 - val_loss: 1.6847 - val_accuracy: 0.1000\n",
            "Epoch 32/100\n",
            "1/1 [==============================] - ETA: 0s - loss: 0.7970 - accuracy: 0.6410\n",
            "Epoch 32: val_loss did not improve from 1.40573\n",
            "1/1 [==============================] - 1s 1s/step - loss: 0.7970 - accuracy: 0.6410 - val_loss: 1.6196 - val_accuracy: 0.1000\n",
            "Epoch 33/100\n",
            "1/1 [==============================] - ETA: 0s - loss: 0.7894 - accuracy: 0.6154\n",
            "Epoch 33: val_loss did not improve from 1.40573\n",
            "1/1 [==============================] - 1s 1s/step - loss: 0.7894 - accuracy: 0.6154 - val_loss: 1.6045 - val_accuracy: 0.1000\n",
            "Epoch 34/100\n",
            "1/1 [==============================] - ETA: 0s - loss: 0.7706 - accuracy: 0.6410\n",
            "Epoch 34: val_loss did not improve from 1.40573\n",
            "1/1 [==============================] - 1s 1s/step - loss: 0.7706 - accuracy: 0.6410 - val_loss: 1.6353 - val_accuracy: 0.1000\n",
            "Epoch 35/100\n",
            "1/1 [==============================] - ETA: 0s - loss: 0.7831 - accuracy: 0.6410\n",
            "Epoch 35: val_loss did not improve from 1.40573\n",
            "1/1 [==============================] - 1s 1s/step - loss: 0.7831 - accuracy: 0.6410 - val_loss: 1.6503 - val_accuracy: 0.1000\n",
            "Epoch 36/100\n",
            "1/1 [==============================] - ETA: 0s - loss: 0.7693 - accuracy: 0.6410\n",
            "Epoch 36: val_loss did not improve from 1.40573\n",
            "1/1 [==============================] - 1s 1s/step - loss: 0.7693 - accuracy: 0.6410 - val_loss: 1.6497 - val_accuracy: 0.1000\n",
            "Epoch 37/100\n",
            "1/1 [==============================] - ETA: 0s - loss: 0.7572 - accuracy: 0.6795\n",
            "Epoch 37: val_loss did not improve from 1.40573\n",
            "1/1 [==============================] - 1s 1s/step - loss: 0.7572 - accuracy: 0.6795 - val_loss: 1.6392 - val_accuracy: 0.1000\n",
            "Epoch 38/100\n",
            "1/1 [==============================] - ETA: 0s - loss: 0.7546 - accuracy: 0.6667\n",
            "Epoch 38: val_loss did not improve from 1.40573\n",
            "1/1 [==============================] - 1s 1s/step - loss: 0.7546 - accuracy: 0.6667 - val_loss: 1.6532 - val_accuracy: 0.1000\n",
            "Epoch 39/100\n",
            "1/1 [==============================] - ETA: 0s - loss: 0.7562 - accuracy: 0.6410\n",
            "Epoch 39: val_loss did not improve from 1.40573\n",
            "1/1 [==============================] - 1s 1s/step - loss: 0.7562 - accuracy: 0.6410 - val_loss: 1.6751 - val_accuracy: 0.1000\n",
            "Epoch 40/100\n",
            "1/1 [==============================] - ETA: 0s - loss: 0.7528 - accuracy: 0.6410\n",
            "Epoch 40: val_loss did not improve from 1.40573\n",
            "1/1 [==============================] - 2s 2s/step - loss: 0.7528 - accuracy: 0.6410 - val_loss: 1.6985 - val_accuracy: 0.1000\n",
            "Epoch 41/100\n",
            "1/1 [==============================] - ETA: 0s - loss: 0.7308 - accuracy: 0.6538\n",
            "Epoch 41: val_loss did not improve from 1.40573\n",
            "1/1 [==============================] - 2s 2s/step - loss: 0.7308 - accuracy: 0.6538 - val_loss: 1.6788 - val_accuracy: 0.1000\n",
            "Epoch 42/100\n",
            "1/1 [==============================] - ETA: 0s - loss: 0.7399 - accuracy: 0.6410\n",
            "Epoch 42: val_loss did not improve from 1.40573\n",
            "1/1 [==============================] - 1s 1s/step - loss: 0.7399 - accuracy: 0.6410 - val_loss: 1.6714 - val_accuracy: 0.1000\n",
            "Epoch 43/100\n",
            "1/1 [==============================] - ETA: 0s - loss: 0.7278 - accuracy: 0.6667\n",
            "Epoch 43: val_loss did not improve from 1.40573\n",
            "1/1 [==============================] - 1s 1s/step - loss: 0.7278 - accuracy: 0.6667 - val_loss: 1.6816 - val_accuracy: 0.1000\n",
            "Epoch 44/100\n",
            "1/1 [==============================] - ETA: 0s - loss: 0.7542 - accuracy: 0.6667\n",
            "Epoch 44: val_loss did not improve from 1.40573\n",
            "1/1 [==============================] - 1s 1s/step - loss: 0.7542 - accuracy: 0.6667 - val_loss: 1.7008 - val_accuracy: 0.1000\n",
            "Epoch 45/100\n",
            "1/1 [==============================] - ETA: 0s - loss: 0.7461 - accuracy: 0.6538\n",
            "Epoch 45: val_loss did not improve from 1.40573\n",
            "1/1 [==============================] - 1s 1s/step - loss: 0.7461 - accuracy: 0.6538 - val_loss: 1.6913 - val_accuracy: 0.1000\n",
            "Epoch 46/100\n",
            "1/1 [==============================] - ETA: 0s - loss: 0.7360 - accuracy: 0.6538\n",
            "Epoch 46: val_loss did not improve from 1.40573\n",
            "1/1 [==============================] - 1s 1s/step - loss: 0.7360 - accuracy: 0.6538 - val_loss: 1.6622 - val_accuracy: 0.1000\n",
            "Epoch 47/100\n",
            "1/1 [==============================] - ETA: 0s - loss: 0.7249 - accuracy: 0.6667\n",
            "Epoch 47: val_loss did not improve from 1.40573\n",
            "1/1 [==============================] - 1s 1s/step - loss: 0.7249 - accuracy: 0.6667 - val_loss: 1.6316 - val_accuracy: 0.1000\n",
            "Epoch 48/100\n",
            "1/1 [==============================] - ETA: 0s - loss: 0.7192 - accuracy: 0.6795\n",
            "Epoch 48: val_loss did not improve from 1.40573\n",
            "1/1 [==============================] - 1s 1s/step - loss: 0.7192 - accuracy: 0.6795 - val_loss: 1.6162 - val_accuracy: 0.1500\n",
            "Epoch 49/100\n",
            "1/1 [==============================] - ETA: 0s - loss: 0.7156 - accuracy: 0.7051\n",
            "Epoch 49: val_loss did not improve from 1.40573\n",
            "1/1 [==============================] - 1s 1s/step - loss: 0.7156 - accuracy: 0.7051 - val_loss: 1.6281 - val_accuracy: 0.1500\n",
            "Epoch 50/100\n",
            "1/1 [==============================] - ETA: 0s - loss: 0.7005 - accuracy: 0.6923\n",
            "Epoch 50: val_loss did not improve from 1.40573\n",
            "1/1 [==============================] - 2s 2s/step - loss: 0.7005 - accuracy: 0.6923 - val_loss: 1.6564 - val_accuracy: 0.1000\n",
            "Epoch 51/100\n",
            "1/1 [==============================] - ETA: 0s - loss: 0.6992 - accuracy: 0.6923\n",
            "Epoch 51: val_loss did not improve from 1.40573\n",
            "1/1 [==============================] - 2s 2s/step - loss: 0.6992 - accuracy: 0.6923 - val_loss: 1.6548 - val_accuracy: 0.1000\n",
            "Epoch 52/100\n",
            "1/1 [==============================] - ETA: 0s - loss: 0.6935 - accuracy: 0.7051\n",
            "Epoch 52: val_loss did not improve from 1.40573\n",
            "1/1 [==============================] - 1s 1s/step - loss: 0.6935 - accuracy: 0.7051 - val_loss: 1.6312 - val_accuracy: 0.1500\n",
            "Epoch 53/100\n",
            "1/1 [==============================] - ETA: 0s - loss: 0.6892 - accuracy: 0.7179\n",
            "Epoch 53: val_loss did not improve from 1.40573\n",
            "1/1 [==============================] - 1s 1s/step - loss: 0.6892 - accuracy: 0.7179 - val_loss: 1.6194 - val_accuracy: 0.1500\n",
            "Epoch 54/100\n",
            "1/1 [==============================] - ETA: 0s - loss: 0.6828 - accuracy: 0.7179\n",
            "Epoch 54: val_loss did not improve from 1.40573\n",
            "1/1 [==============================] - 1s 1s/step - loss: 0.6828 - accuracy: 0.7179 - val_loss: 1.6579 - val_accuracy: 0.1000\n",
            "Epoch 55/100\n",
            "1/1 [==============================] - ETA: 0s - loss: 0.7093 - accuracy: 0.6923\n",
            "Epoch 55: val_loss did not improve from 1.40573\n",
            "1/1 [==============================] - 1s 1s/step - loss: 0.7093 - accuracy: 0.6923 - val_loss: 1.6116 - val_accuracy: 0.1500\n",
            "Epoch 56/100\n",
            "1/1 [==============================] - ETA: 0s - loss: 0.6926 - accuracy: 0.6923\n",
            "Epoch 56: val_loss did not improve from 1.40573\n",
            "1/1 [==============================] - 1s 1s/step - loss: 0.6926 - accuracy: 0.6923 - val_loss: 1.5615 - val_accuracy: 0.1500\n",
            "Epoch 57/100\n",
            "1/1 [==============================] - ETA: 0s - loss: 0.7053 - accuracy: 0.6795\n",
            "Epoch 57: val_loss did not improve from 1.40573\n",
            "1/1 [==============================] - 1s 1s/step - loss: 0.7053 - accuracy: 0.6795 - val_loss: 1.6155 - val_accuracy: 0.1500\n",
            "Epoch 58/100\n",
            "1/1 [==============================] - ETA: 0s - loss: 0.6823 - accuracy: 0.7051\n",
            "Epoch 58: val_loss did not improve from 1.40573\n",
            "1/1 [==============================] - 1s 1s/step - loss: 0.6823 - accuracy: 0.7051 - val_loss: 1.6610 - val_accuracy: 0.1500\n",
            "Epoch 59/100\n",
            "1/1 [==============================] - ETA: 0s - loss: 0.6765 - accuracy: 0.7051\n",
            "Epoch 59: val_loss did not improve from 1.40573\n",
            "1/1 [==============================] - 1s 1s/step - loss: 0.6765 - accuracy: 0.7051 - val_loss: 1.6619 - val_accuracy: 0.1500\n",
            "Epoch 60/100\n",
            "1/1 [==============================] - ETA: 0s - loss: 0.6739 - accuracy: 0.6923\n",
            "Epoch 60: val_loss did not improve from 1.40573\n",
            "1/1 [==============================] - 1s 1s/step - loss: 0.6739 - accuracy: 0.6923 - val_loss: 1.7011 - val_accuracy: 0.1500\n",
            "Epoch 61/100\n",
            "1/1 [==============================] - ETA: 0s - loss: 0.6921 - accuracy: 0.6923\n",
            "Epoch 61: val_loss did not improve from 1.40573\n",
            "1/1 [==============================] - 4s 4s/step - loss: 0.6921 - accuracy: 0.6923 - val_loss: 1.7435 - val_accuracy: 0.1500\n",
            "Epoch 62/100\n",
            "1/1 [==============================] - ETA: 0s - loss: 0.6848 - accuracy: 0.7051\n",
            "Epoch 62: val_loss did not improve from 1.40573\n",
            "1/1 [==============================] - 2s 2s/step - loss: 0.6848 - accuracy: 0.7051 - val_loss: 1.7936 - val_accuracy: 0.1500\n",
            "Epoch 63/100\n",
            "1/1 [==============================] - ETA: 0s - loss: 0.7002 - accuracy: 0.6795\n",
            "Epoch 63: val_loss did not improve from 1.40573\n",
            "1/1 [==============================] - 1s 1s/step - loss: 0.7002 - accuracy: 0.6795 - val_loss: 1.8631 - val_accuracy: 0.1500\n",
            "Epoch 64/100\n",
            "1/1 [==============================] - ETA: 0s - loss: 0.6945 - accuracy: 0.7179\n",
            "Epoch 64: val_loss did not improve from 1.40573\n",
            "1/1 [==============================] - 1s 1s/step - loss: 0.6945 - accuracy: 0.7179 - val_loss: 1.9372 - val_accuracy: 0.1000\n",
            "Epoch 65/100\n",
            "1/1 [==============================] - ETA: 0s - loss: 0.7451 - accuracy: 0.6667\n",
            "Epoch 65: val_loss did not improve from 1.40573\n",
            "1/1 [==============================] - 1s 1s/step - loss: 0.7451 - accuracy: 0.6667 - val_loss: 1.6602 - val_accuracy: 0.2000\n",
            "Epoch 66/100\n",
            "1/1 [==============================] - ETA: 0s - loss: 0.7049 - accuracy: 0.6667\n",
            "Epoch 66: val_loss did not improve from 1.40573\n",
            "1/1 [==============================] - 1s 1s/step - loss: 0.7049 - accuracy: 0.6667 - val_loss: 1.4266 - val_accuracy: 0.3000\n",
            "Epoch 67/100\n",
            "1/1 [==============================] - ETA: 0s - loss: 0.7128 - accuracy: 0.6923\n",
            "Epoch 67: val_loss improved from 1.40573 to 1.31336, saving model to audio_weights_emotion.hdf5\n",
            "1/1 [==============================] - 1s 1s/step - loss: 0.7128 - accuracy: 0.6923 - val_loss: 1.3134 - val_accuracy: 0.2500\n",
            "Epoch 68/100\n",
            "1/1 [==============================] - ETA: 0s - loss: 0.7225 - accuracy: 0.6923\n",
            "Epoch 68: val_loss improved from 1.31336 to 1.27325, saving model to audio_weights_emotion.hdf5\n",
            "1/1 [==============================] - 1s 1s/step - loss: 0.7225 - accuracy: 0.6923 - val_loss: 1.2733 - val_accuracy: 0.2500\n",
            "Epoch 69/100\n",
            "1/1 [==============================] - ETA: 0s - loss: 0.7267 - accuracy: 0.7051\n",
            "Epoch 69: val_loss improved from 1.27325 to 1.26968, saving model to audio_weights_emotion.hdf5\n",
            "1/1 [==============================] - 1s 1s/step - loss: 0.7267 - accuracy: 0.7051 - val_loss: 1.2697 - val_accuracy: 0.2500\n",
            "Epoch 70/100\n",
            "1/1 [==============================] - ETA: 0s - loss: 0.7131 - accuracy: 0.7051\n",
            "Epoch 70: val_loss did not improve from 1.26968\n",
            "1/1 [==============================] - 1s 1s/step - loss: 0.7131 - accuracy: 0.7051 - val_loss: 1.2888 - val_accuracy: 0.2500\n",
            "Epoch 71/100\n",
            "1/1 [==============================] - ETA: 0s - loss: 0.6924 - accuracy: 0.7051\n",
            "Epoch 71: val_loss did not improve from 1.26968\n",
            "1/1 [==============================] - 2s 2s/step - loss: 0.6924 - accuracy: 0.7051 - val_loss: 1.3163 - val_accuracy: 0.2000\n",
            "Epoch 72/100\n",
            "1/1 [==============================] - ETA: 0s - loss: 0.6886 - accuracy: 0.7179\n",
            "Epoch 72: val_loss did not improve from 1.26968\n",
            "1/1 [==============================] - 2s 2s/step - loss: 0.6886 - accuracy: 0.7179 - val_loss: 1.3428 - val_accuracy: 0.2000\n",
            "Epoch 73/100\n",
            "1/1 [==============================] - ETA: 0s - loss: 0.6862 - accuracy: 0.7051\n",
            "Epoch 73: val_loss did not improve from 1.26968\n",
            "1/1 [==============================] - 1s 1s/step - loss: 0.6862 - accuracy: 0.7051 - val_loss: 1.3563 - val_accuracy: 0.2500\n",
            "Epoch 74/100\n",
            "1/1 [==============================] - ETA: 0s - loss: 0.6773 - accuracy: 0.7179\n",
            "Epoch 74: val_loss did not improve from 1.26968\n",
            "1/1 [==============================] - 1s 1s/step - loss: 0.6773 - accuracy: 0.7179 - val_loss: 1.3600 - val_accuracy: 0.2000\n",
            "Epoch 75/100\n",
            "1/1 [==============================] - ETA: 0s - loss: 0.6794 - accuracy: 0.7308\n",
            "Epoch 75: val_loss did not improve from 1.26968\n",
            "1/1 [==============================] - 1s 1s/step - loss: 0.6794 - accuracy: 0.7308 - val_loss: 1.3579 - val_accuracy: 0.2000\n",
            "Epoch 76/100\n",
            "1/1 [==============================] - ETA: 0s - loss: 0.6709 - accuracy: 0.7051\n",
            "Epoch 76: val_loss did not improve from 1.26968\n",
            "1/1 [==============================] - 1s 1s/step - loss: 0.6709 - accuracy: 0.7051 - val_loss: 1.3613 - val_accuracy: 0.2000\n",
            "Epoch 77/100\n",
            "1/1 [==============================] - ETA: 0s - loss: 0.6692 - accuracy: 0.7051\n",
            "Epoch 77: val_loss did not improve from 1.26968\n",
            "1/1 [==============================] - 1s 1s/step - loss: 0.6692 - accuracy: 0.7051 - val_loss: 1.3721 - val_accuracy: 0.2500\n",
            "Epoch 78/100\n",
            "1/1 [==============================] - ETA: 0s - loss: 0.6631 - accuracy: 0.6923\n",
            "Epoch 78: val_loss did not improve from 1.26968\n",
            "1/1 [==============================] - 1s 1s/step - loss: 0.6631 - accuracy: 0.6923 - val_loss: 1.3897 - val_accuracy: 0.2500\n",
            "Epoch 79/100\n",
            "1/1 [==============================] - ETA: 0s - loss: 0.6550 - accuracy: 0.7308\n",
            "Epoch 79: val_loss did not improve from 1.26968\n",
            "1/1 [==============================] - 1s 1s/step - loss: 0.6550 - accuracy: 0.7308 - val_loss: 1.4099 - val_accuracy: 0.2500\n",
            "Epoch 80/100\n",
            "1/1 [==============================] - ETA: 0s - loss: 0.6468 - accuracy: 0.7436\n",
            "Epoch 80: val_loss did not improve from 1.26968\n",
            "1/1 [==============================] - 1s 1s/step - loss: 0.6468 - accuracy: 0.7436 - val_loss: 1.4300 - val_accuracy: 0.2500\n",
            "Epoch 81/100\n",
            "1/1 [==============================] - ETA: 0s - loss: 0.6538 - accuracy: 0.7179\n",
            "Epoch 81: val_loss did not improve from 1.26968\n",
            "1/1 [==============================] - 2s 2s/step - loss: 0.6538 - accuracy: 0.7179 - val_loss: 1.4369 - val_accuracy: 0.2500\n",
            "Epoch 82/100\n",
            "1/1 [==============================] - ETA: 0s - loss: 0.6638 - accuracy: 0.7179\n",
            "Epoch 82: val_loss did not improve from 1.26968\n",
            "1/1 [==============================] - 2s 2s/step - loss: 0.6638 - accuracy: 0.7179 - val_loss: 1.4370 - val_accuracy: 0.2500\n",
            "Epoch 83/100\n",
            "1/1 [==============================] - ETA: 0s - loss: 0.6704 - accuracy: 0.7308\n",
            "Epoch 83: val_loss did not improve from 1.26968\n",
            "1/1 [==============================] - 1s 1s/step - loss: 0.6704 - accuracy: 0.7308 - val_loss: 1.4286 - val_accuracy: 0.2000\n",
            "Epoch 84/100\n",
            "1/1 [==============================] - ETA: 0s - loss: 0.6593 - accuracy: 0.7051\n",
            "Epoch 84: val_loss did not improve from 1.26968\n",
            "1/1 [==============================] - 1s 1s/step - loss: 0.6593 - accuracy: 0.7051 - val_loss: 1.4251 - val_accuracy: 0.2000\n",
            "Epoch 85/100\n",
            "1/1 [==============================] - ETA: 0s - loss: 0.6576 - accuracy: 0.6923\n",
            "Epoch 85: val_loss did not improve from 1.26968\n",
            "1/1 [==============================] - 1s 1s/step - loss: 0.6576 - accuracy: 0.6923 - val_loss: 1.4392 - val_accuracy: 0.2000\n",
            "Epoch 86/100\n",
            "1/1 [==============================] - ETA: 0s - loss: 0.6422 - accuracy: 0.7051\n",
            "Epoch 86: val_loss did not improve from 1.26968\n",
            "1/1 [==============================] - 1s 1s/step - loss: 0.6422 - accuracy: 0.7051 - val_loss: 1.4582 - val_accuracy: 0.2000\n",
            "Epoch 87/100\n",
            "1/1 [==============================] - ETA: 0s - loss: 0.6262 - accuracy: 0.7179\n",
            "Epoch 87: val_loss did not improve from 1.26968\n",
            "1/1 [==============================] - 1s 1s/step - loss: 0.6262 - accuracy: 0.7179 - val_loss: 1.4743 - val_accuracy: 0.2500\n",
            "Epoch 88/100\n",
            "1/1 [==============================] - ETA: 0s - loss: 0.6296 - accuracy: 0.7179\n",
            "Epoch 88: val_loss did not improve from 1.26968\n",
            "1/1 [==============================] - 1s 1s/step - loss: 0.6296 - accuracy: 0.7179 - val_loss: 1.4889 - val_accuracy: 0.2500\n",
            "Epoch 89/100\n",
            "1/1 [==============================] - ETA: 0s - loss: 0.6243 - accuracy: 0.7436\n",
            "Epoch 89: val_loss did not improve from 1.26968\n",
            "1/1 [==============================] - 1s 1s/step - loss: 0.6243 - accuracy: 0.7436 - val_loss: 1.4992 - val_accuracy: 0.2000\n",
            "Epoch 90/100\n",
            "1/1 [==============================] - ETA: 0s - loss: 0.6498 - accuracy: 0.7179\n",
            "Epoch 90: val_loss did not improve from 1.26968\n",
            "1/1 [==============================] - 1s 1s/step - loss: 0.6498 - accuracy: 0.7179 - val_loss: 1.4976 - val_accuracy: 0.2000\n",
            "Epoch 91/100\n",
            "1/1 [==============================] - ETA: 0s - loss: 0.6541 - accuracy: 0.7051\n",
            "Epoch 91: val_loss did not improve from 1.26968\n",
            "1/1 [==============================] - 1s 1s/step - loss: 0.6541 - accuracy: 0.7051 - val_loss: 1.4862 - val_accuracy: 0.2500\n",
            "Epoch 92/100\n",
            "1/1 [==============================] - ETA: 0s - loss: 0.6430 - accuracy: 0.7308\n",
            "Epoch 92: val_loss did not improve from 1.26968\n",
            "1/1 [==============================] - 2s 2s/step - loss: 0.6430 - accuracy: 0.7308 - val_loss: 1.4904 - val_accuracy: 0.3500\n",
            "Epoch 93/100\n",
            "1/1 [==============================] - ETA: 0s - loss: 0.6267 - accuracy: 0.7564\n",
            "Epoch 93: val_loss did not improve from 1.26968\n",
            "1/1 [==============================] - 2s 2s/step - loss: 0.6267 - accuracy: 0.7564 - val_loss: 1.5134 - val_accuracy: 0.4000\n",
            "Epoch 94/100\n",
            "1/1 [==============================] - ETA: 0s - loss: 0.6320 - accuracy: 0.7179\n",
            "Epoch 94: val_loss did not improve from 1.26968\n",
            "1/1 [==============================] - 1s 1s/step - loss: 0.6320 - accuracy: 0.7179 - val_loss: 1.5273 - val_accuracy: 0.4000\n",
            "Epoch 95/100\n",
            "1/1 [==============================] - ETA: 0s - loss: 0.6385 - accuracy: 0.7179\n",
            "Epoch 95: val_loss did not improve from 1.26968\n",
            "1/1 [==============================] - 1s 1s/step - loss: 0.6385 - accuracy: 0.7179 - val_loss: 1.5202 - val_accuracy: 0.4000\n",
            "Epoch 96/100\n",
            "1/1 [==============================] - ETA: 0s - loss: 0.6286 - accuracy: 0.7179\n",
            "Epoch 96: val_loss did not improve from 1.26968\n",
            "1/1 [==============================] - 1s 1s/step - loss: 0.6286 - accuracy: 0.7179 - val_loss: 1.5072 - val_accuracy: 0.3000\n",
            "Epoch 97/100\n",
            "1/1 [==============================] - ETA: 0s - loss: 0.6290 - accuracy: 0.7051\n",
            "Epoch 97: val_loss did not improve from 1.26968\n",
            "1/1 [==============================] - 1s 1s/step - loss: 0.6290 - accuracy: 0.7051 - val_loss: 1.5310 - val_accuracy: 0.2500\n",
            "Epoch 98/100\n",
            "1/1 [==============================] - ETA: 0s - loss: 0.6288 - accuracy: 0.7051\n",
            "Epoch 98: val_loss did not improve from 1.26968\n",
            "1/1 [==============================] - 1s 1s/step - loss: 0.6288 - accuracy: 0.7051 - val_loss: 1.5703 - val_accuracy: 0.2000\n",
            "Epoch 99/100\n",
            "1/1 [==============================] - ETA: 0s - loss: 0.6254 - accuracy: 0.7179\n",
            "Epoch 99: val_loss did not improve from 1.26968\n",
            "1/1 [==============================] - 1s 1s/step - loss: 0.6254 - accuracy: 0.7179 - val_loss: 1.6012 - val_accuracy: 0.2000\n",
            "Epoch 100/100\n",
            "1/1 [==============================] - ETA: 0s - loss: 0.6060 - accuracy: 0.7308\n",
            "Epoch 100: val_loss did not improve from 1.26968\n",
            "1/1 [==============================] - 1s 1s/step - loss: 0.6060 - accuracy: 0.7308 - val_loss: 1.6395 - val_accuracy: 0.2000\n",
            "1/1 [==============================] - 3s 3s/step\n",
            "Test Accuracy:  0.25\n"
          ]
        }
      ]
    },
    {
      "cell_type": "code",
      "source": [
        "from sklearn.metrics import accuracy_score, precision_score, recall_score, f1_score\n",
        "# Calculate accuracy, precision, and recall\n",
        "accuracy = accuracy_score(y_cv_labels, predicted_audio_labels)\n",
        "precision = precision_score(y_cv_labels, predicted_audio_labels, average='weighted')\n",
        "recall = recall_score(y_cv_labels, predicted_audio_labels, average='weighted')\n",
        "f1 = f1_score(y_cv_labels, predicted_audio_labels, average='weighted')\n",
        "final_training_accuracy = history.history['accuracy'][-1]\n",
        "\n",
        "print('Overall Training Accuracy:', final_training_accuracy)\n",
        "print('Test Accuracy:', accuracy)\n",
        "print('Precision:', precision)\n",
        "print('Recall:', recall)\n",
        "print('F1 Score:', f1)"
      ],
      "metadata": {
        "colab": {
          "base_uri": "https://localhost:8080/"
        },
        "id": "Qvarc6IUUWCe",
        "outputId": "ef9a0e7a-df91-4e8d-bde8-471188979705"
      },
      "execution_count": null,
      "outputs": [
        {
          "output_type": "stream",
          "name": "stderr",
          "text": [
            "WARNING:py.warnings:/usr/local/lib/python3.10/dist-packages/sklearn/metrics/_classification.py:1344: UndefinedMetricWarning:\n",
            "\n",
            "Precision is ill-defined and being set to 0.0 in labels with no predicted samples. Use `zero_division` parameter to control this behavior.\n",
            "\n",
            "\n"
          ]
        },
        {
          "output_type": "stream",
          "name": "stdout",
          "text": [
            "Overall Training Accuracy: 0.7179487347602844\n",
            "Test Accuracy: 0.3\n",
            "Precision: 0.28823529411764703\n",
            "Recall: 0.3\n",
            "F1 Score: 0.2104347826086957\n"
          ]
        }
      ]
    },
    {
      "cell_type": "code",
      "source": [
        "import plotly.graph_objects as go\n",
        "\n",
        "# Plot the training and validation accuracy and loss using Plotly\n",
        "fig = go.Figure()\n",
        "\n",
        "# Add training accuracy trace\n",
        "fig.add_trace(go.Scatter(x=list(range(1, epochs+1)), y=history.history['accuracy'], mode='lines', name='Training Accuracy'))\n",
        "\n",
        "# Add validation accuracy trace\n",
        "fig.add_trace(go.Scatter(x=list(range(1, epochs+1)), y=history.history['val_accuracy'], mode='lines', name='Validation Accuracy'))\n",
        "\n",
        "# Add training loss trace\n",
        "fig.add_trace(go.Scatter(x=list(range(1, epochs+1)), y=history.history['loss'], mode='lines', name='Training Loss'))\n",
        "\n",
        "# Add validation loss trace\n",
        "fig.add_trace(go.Scatter(x=list(range(1, epochs+1)), y=history.history['val_loss'], mode='lines', name='Validation Loss'))\n",
        "\n",
        "# Update layout\n",
        "fig.update_layout(\n",
        "    title='Model Accuracy and Loss',\n",
        "    xaxis_title='Epoch',\n",
        "    yaxis_title='Value',\n",
        "    legend=dict(\n",
        "        orientation='h',\n",
        "        yanchor='top',\n",
        "        y=1.1,\n",
        "        xanchor='right',\n",
        "        x=1\n",
        "    )\n",
        ")\n",
        "\n",
        "# Show the plot\n",
        "fig.show()"
      ],
      "metadata": {
        "colab": {
          "base_uri": "https://localhost:8080/",
          "height": 542
        },
        "id": "mRhtQ9X2TESW",
        "outputId": "c4726c95-e6f7-4cdb-9c51-38c40b96ca81"
      },
      "execution_count": null,
      "outputs": [
        {
          "output_type": "display_data",
          "data": {
            "text/html": [
              "<html>\n",
              "<head><meta charset=\"utf-8\" /></head>\n",
              "<body>\n",
              "    <div>            <script src=\"https://cdnjs.cloudflare.com/ajax/libs/mathjax/2.7.5/MathJax.js?config=TeX-AMS-MML_SVG\"></script><script type=\"text/javascript\">if (window.MathJax && window.MathJax.Hub && window.MathJax.Hub.Config) {window.MathJax.Hub.Config({SVG: {font: \"STIX-Web\"}});}</script>                <script type=\"text/javascript\">window.PlotlyConfig = {MathJaxConfig: 'local'};</script>\n",
              "        <script charset=\"utf-8\" src=\"https://cdn.plot.ly/plotly-2.24.1.min.js\"></script>                <div id=\"26b6ad2f-2c5c-4984-968f-6430572811ad\" class=\"plotly-graph-div\" style=\"height:525px; width:100%;\"></div>            <script type=\"text/javascript\">                                    window.PLOTLYENV=window.PLOTLYENV || {};                                    if (document.getElementById(\"26b6ad2f-2c5c-4984-968f-6430572811ad\")) {                    Plotly.newPlot(                        \"26b6ad2f-2c5c-4984-968f-6430572811ad\",                        [{\"mode\":\"lines\",\"name\":\"Training Accuracy\",\"x\":[1,2,3,4,5,6,7,8,9,10,11,12,13,14,15,16,17,18,19,20,21,22,23,24,25,26,27,28,29,30,31,32,33,34,35,36,37,38,39,40,41,42,43,44,45,46,47,48,49,50,51,52,53,54,55,56,57,58,59,60,61,62,63,64,65,66,67,68,69,70,71,72,73,74,75,76,77,78,79,80,81,82,83,84,85,86,87,88,89,90,91,92,93,94,95,96,97,98,99,100],\"y\":[0.3076923191547394,0.4743589758872986,0.5897436141967773,0.6153846383094788,0.6025640964508057,0.6153846383094788,0.6153846383094788,0.6025640964508057,0.6153846383094788,0.6153846383094788,0.6153846383094788,0.6153846383094788,0.6153846383094788,0.6153846383094788,0.5769230723381042,0.5641025900840759,0.5769230723381042,0.6153846383094788,0.6282051205635071,0.6282051205635071,0.6282051205635071,0.6282051205635071,0.6282051205635071,0.6282051205635071,0.6410256624221802,0.6153846383094788,0.6153846383094788,0.6282051205635071,0.6153846383094788,0.6153846383094788,0.6153846383094788,0.6282051205635071,0.6410256624221802,0.6410256624221802,0.6282051205635071,0.6538461446762085,0.6666666865348816,0.6666666865348816,0.6666666865348816,0.692307710647583,0.6666666865348816,0.6666666865348816,0.7307692170143127,0.6666666865348816,0.6538461446762085,0.6794871687889099,0.7051281929016113,0.692307710647583,0.6538461446762085,0.6282051205635071,0.6025640964508057,0.6282051205635071,0.6025640964508057,0.6153846383094788,0.6538461446762085,0.692307710647583,0.6794871687889099,0.6794871687889099,0.6794871687889099,0.6794871687889099,0.6794871687889099,0.6666666865348816,0.692307710647583,0.692307710647583,0.692307710647583,0.7051281929016113,0.6666666865348816,0.6794871687889099,0.7051281929016113,0.6666666865348816,0.6794871687889099,0.7179487347602844,0.7179487347602844,0.7051281929016113,0.7051281929016113,0.692307710647583,0.7051281929016113,0.7307692170143127,0.7051281929016113,0.7435897588729858,0.7179487347602844,0.7307692170143127,0.6666666865348816,0.6794871687889099,0.7051281929016113,0.692307710647583,0.7051281929016113,0.6794871687889099,0.7179487347602844,0.7051281929016113,0.7179487347602844,0.7179487347602844,0.7179487347602844,0.7307692170143127,0.7307692170143127,0.7051281929016113,0.7051281929016113,0.7179487347602844,0.7179487347602844,0.7179487347602844],\"type\":\"scatter\"},{\"mode\":\"lines\",\"name\":\"Validation Accuracy\",\"x\":[1,2,3,4,5,6,7,8,9,10,11,12,13,14,15,16,17,18,19,20,21,22,23,24,25,26,27,28,29,30,31,32,33,34,35,36,37,38,39,40,41,42,43,44,45,46,47,48,49,50,51,52,53,54,55,56,57,58,59,60,61,62,63,64,65,66,67,68,69,70,71,72,73,74,75,76,77,78,79,80,81,82,83,84,85,86,87,88,89,90,91,92,93,94,95,96,97,98,99,100],\"y\":[0.30000001192092896,0.30000001192092896,0.30000001192092896,0.30000001192092896,0.30000001192092896,0.30000001192092896,0.3499999940395355,0.3499999940395355,0.3499999940395355,0.3499999940395355,0.3499999940395355,0.3499999940395355,0.3499999940395355,0.4000000059604645,0.4000000059604645,0.4000000059604645,0.4000000059604645,0.4000000059604645,0.4000000059604645,0.4000000059604645,0.4000000059604645,0.15000000596046448,0.15000000596046448,0.10000000149011612,0.15000000596046448,0.15000000596046448,0.15000000596046448,0.15000000596046448,0.15000000596046448,0.15000000596046448,0.15000000596046448,0.15000000596046448,0.15000000596046448,0.15000000596046448,0.15000000596046448,0.15000000596046448,0.15000000596046448,0.10000000149011612,0.05000000074505806,0.10000000149011612,0.10000000149011612,0.10000000149011612,0.10000000149011612,0.10000000149011612,0.05000000074505806,0.05000000074505806,0.05000000074505806,0.05000000074505806,0.10000000149011612,0.10000000149011612,0.15000000596046448,0.20000000298023224,0.15000000596046448,0.15000000596046448,0.15000000596046448,0.15000000596046448,0.15000000596046448,0.15000000596046448,0.05000000074505806,0.05000000074505806,0.05000000074505806,0.05000000074505806,0.05000000074505806,0.05000000074505806,0.05000000074505806,0.05000000074505806,0.05000000074505806,0.05000000074505806,0.05000000074505806,0.05000000074505806,0.05000000074505806,0.05000000074505806,0.05000000074505806,0.05000000074505806,0.05000000074505806,0.05000000074505806,0.05000000074505806,0.05000000074505806,0.05000000074505806,0.05000000074505806,0.05000000074505806,0.05000000074505806,0.05000000074505806,0.15000000596046448,0.15000000596046448,0.15000000596046448,0.15000000596046448,0.20000000298023224,0.20000000298023224,0.30000001192092896,0.3499999940395355,0.3499999940395355,0.3499999940395355,0.3499999940395355,0.3499999940395355,0.3499999940395355,0.3499999940395355,0.3499999940395355,0.3499999940395355,0.3499999940395355],\"type\":\"scatter\"},{\"mode\":\"lines\",\"name\":\"Training Loss\",\"x\":[1,2,3,4,5,6,7,8,9,10,11,12,13,14,15,16,17,18,19,20,21,22,23,24,25,26,27,28,29,30,31,32,33,34,35,36,37,38,39,40,41,42,43,44,45,46,47,48,49,50,51,52,53,54,55,56,57,58,59,60,61,62,63,64,65,66,67,68,69,70,71,72,73,74,75,76,77,78,79,80,81,82,83,84,85,86,87,88,89,90,91,92,93,94,95,96,97,98,99,100],\"y\":[1.4221280813217163,1.1767728328704834,1.0947569608688354,1.0414551496505737,0.9943794012069702,0.9605482816696167,0.9402334690093994,0.9254395961761475,0.9140580296516418,0.9049980044364929,0.897198498249054,0.8907263278961182,0.8842941522598267,0.8779052495956421,0.8727877736091614,0.8679304718971252,0.8622502088546753,0.8567385673522949,0.8524683713912964,0.8486263751983643,0.8442217707633972,0.8394482135772705,0.8341447114944458,0.8274902701377869,0.8206153512001038,0.8163154721260071,0.8103860020637512,0.804210901260376,0.7977698445320129,0.7902834415435791,0.7830392718315125,0.7874048948287964,0.7772302031517029,0.7660476565361023,0.7742590308189392,0.7811065316200256,0.7522709965705872,0.7510401606559753,0.7504488825798035,0.7420824766159058,0.7585387229919434,0.7360604405403137,0.7294882535934448,0.7287510633468628,0.720736563205719,0.7263906598091125,0.7071809768676758,0.7029279470443726,0.7451140880584717,0.7645151019096375,0.7550805807113647,0.7473462820053101,0.7830660939216614,0.7731943130493164,0.756696879863739,0.7482746243476868,0.7286939024925232,0.7360479831695557,0.7364806532859802,0.7528926730155945,0.7519925236701965,0.7297881245613098,0.7085621953010559,0.7070344090461731,0.708241879940033,0.6991981863975525,0.6940969228744507,0.6890485286712646,0.6896069049835205,0.6799659729003906,0.6710151433944702,0.6675814390182495,0.6644212007522583,0.667146623134613,0.6576351523399353,0.6513192653656006,0.6509032845497131,0.6440573930740356,0.6367665529251099,0.6298419833183289,0.6314467787742615,0.6325013041496277,0.8208653330802917,0.7469760179519653,0.6722173690795898,0.673721194267273,0.6558753252029419,0.6702002882957458,0.6564944386482239,0.6670039296150208,0.654419481754303,0.6454833149909973,0.6459807753562927,0.6392820477485657,0.6323525309562683,0.6752611994743347,0.684690535068512,0.6554769277572632,0.6463501453399658,0.6476965546607971],\"type\":\"scatter\"},{\"mode\":\"lines\",\"name\":\"Validation Loss\",\"x\":[1,2,3,4,5,6,7,8,9,10,11,12,13,14,15,16,17,18,19,20,21,22,23,24,25,26,27,28,29,30,31,32,33,34,35,36,37,38,39,40,41,42,43,44,45,46,47,48,49,50,51,52,53,54,55,56,57,58,59,60,61,62,63,64,65,66,67,68,69,70,71,72,73,74,75,76,77,78,79,80,81,82,83,84,85,86,87,88,89,90,91,92,93,94,95,96,97,98,99,100],\"y\":[1.3743358850479126,1.391509771347046,1.411206603050232,1.4203882217407227,1.4250757694244385,1.4383827447891235,1.4612411260604858,1.484288215637207,1.4980131387710571,1.4985700845718384,1.4892048835754395,1.4759794473648071,1.4634816646575928,1.4540350437164307,1.4491556882858276,1.4506001472473145,1.4595375061035156,1.4742424488067627,1.4896419048309326,1.5006060600280762,1.5046679973602295,1.5023503303527832,1.497401475906372,1.4939247369766235,1.4925267696380615,1.4908196926116943,1.493391990661621,1.5013705492019653,1.5151638984680176,1.5341399908065796,1.554093360900879,1.5791645050048828,1.5972163677215576,1.6023982763290405,1.6205765008926392,1.6666393280029297,1.688002586364746,1.6759141683578491,1.6526215076446533,1.7171894311904907,1.7303593158721924,1.7279754877090454,1.7386796474456787,1.7305793762207031,1.681148886680603,1.6663519144058228,1.6583592891693115,1.6506267786026,1.6906893253326416,1.7356269359588623,1.7699390649795532,1.7799928188323975,1.7806370258331299,1.7686755657196045,1.7761344909667969,1.79645574092865,1.8143694400787354,1.775697946548462,1.7373729944229126,1.707214593887329,1.6903212070465088,1.6886403560638428,1.6978565454483032,1.7114322185516357,1.7222776412963867,1.7341629266738892,1.7453473806381226,1.7621498107910156,1.7898261547088623,1.8246101140975952,1.8569027185440063,1.8787803649902344,1.9006891250610352,1.9232803583145142,1.977712869644165,2.0061590671539307,2.0039284229278564,2.036433219909668,2.030182361602783,2.034161329269409,2.0250296592712402,2.1504454612731934,1.985609769821167,1.735887885093689,1.590707778930664,1.5221399068832397,1.4673922061920166,1.4126503467559814,1.381403923034668,1.3710089921951294,1.3831171989440918,1.397798776626587,1.4074912071228027,1.410276174545288,1.411041021347046,1.420718789100647,1.428804874420166,1.4252965450286865,1.4256970882415771,1.435304880142212],\"type\":\"scatter\"}],                        {\"template\":{\"data\":{\"histogram2dcontour\":[{\"type\":\"histogram2dcontour\",\"colorbar\":{\"outlinewidth\":0,\"ticks\":\"\"},\"colorscale\":[[0.0,\"#0d0887\"],[0.1111111111111111,\"#46039f\"],[0.2222222222222222,\"#7201a8\"],[0.3333333333333333,\"#9c179e\"],[0.4444444444444444,\"#bd3786\"],[0.5555555555555556,\"#d8576b\"],[0.6666666666666666,\"#ed7953\"],[0.7777777777777778,\"#fb9f3a\"],[0.8888888888888888,\"#fdca26\"],[1.0,\"#f0f921\"]]}],\"choropleth\":[{\"type\":\"choropleth\",\"colorbar\":{\"outlinewidth\":0,\"ticks\":\"\"}}],\"histogram2d\":[{\"type\":\"histogram2d\",\"colorbar\":{\"outlinewidth\":0,\"ticks\":\"\"},\"colorscale\":[[0.0,\"#0d0887\"],[0.1111111111111111,\"#46039f\"],[0.2222222222222222,\"#7201a8\"],[0.3333333333333333,\"#9c179e\"],[0.4444444444444444,\"#bd3786\"],[0.5555555555555556,\"#d8576b\"],[0.6666666666666666,\"#ed7953\"],[0.7777777777777778,\"#fb9f3a\"],[0.8888888888888888,\"#fdca26\"],[1.0,\"#f0f921\"]]}],\"heatmap\":[{\"type\":\"heatmap\",\"colorbar\":{\"outlinewidth\":0,\"ticks\":\"\"},\"colorscale\":[[0.0,\"#0d0887\"],[0.1111111111111111,\"#46039f\"],[0.2222222222222222,\"#7201a8\"],[0.3333333333333333,\"#9c179e\"],[0.4444444444444444,\"#bd3786\"],[0.5555555555555556,\"#d8576b\"],[0.6666666666666666,\"#ed7953\"],[0.7777777777777778,\"#fb9f3a\"],[0.8888888888888888,\"#fdca26\"],[1.0,\"#f0f921\"]]}],\"heatmapgl\":[{\"type\":\"heatmapgl\",\"colorbar\":{\"outlinewidth\":0,\"ticks\":\"\"},\"colorscale\":[[0.0,\"#0d0887\"],[0.1111111111111111,\"#46039f\"],[0.2222222222222222,\"#7201a8\"],[0.3333333333333333,\"#9c179e\"],[0.4444444444444444,\"#bd3786\"],[0.5555555555555556,\"#d8576b\"],[0.6666666666666666,\"#ed7953\"],[0.7777777777777778,\"#fb9f3a\"],[0.8888888888888888,\"#fdca26\"],[1.0,\"#f0f921\"]]}],\"contourcarpet\":[{\"type\":\"contourcarpet\",\"colorbar\":{\"outlinewidth\":0,\"ticks\":\"\"}}],\"contour\":[{\"type\":\"contour\",\"colorbar\":{\"outlinewidth\":0,\"ticks\":\"\"},\"colorscale\":[[0.0,\"#0d0887\"],[0.1111111111111111,\"#46039f\"],[0.2222222222222222,\"#7201a8\"],[0.3333333333333333,\"#9c179e\"],[0.4444444444444444,\"#bd3786\"],[0.5555555555555556,\"#d8576b\"],[0.6666666666666666,\"#ed7953\"],[0.7777777777777778,\"#fb9f3a\"],[0.8888888888888888,\"#fdca26\"],[1.0,\"#f0f921\"]]}],\"surface\":[{\"type\":\"surface\",\"colorbar\":{\"outlinewidth\":0,\"ticks\":\"\"},\"colorscale\":[[0.0,\"#0d0887\"],[0.1111111111111111,\"#46039f\"],[0.2222222222222222,\"#7201a8\"],[0.3333333333333333,\"#9c179e\"],[0.4444444444444444,\"#bd3786\"],[0.5555555555555556,\"#d8576b\"],[0.6666666666666666,\"#ed7953\"],[0.7777777777777778,\"#fb9f3a\"],[0.8888888888888888,\"#fdca26\"],[1.0,\"#f0f921\"]]}],\"mesh3d\":[{\"type\":\"mesh3d\",\"colorbar\":{\"outlinewidth\":0,\"ticks\":\"\"}}],\"scatter\":[{\"fillpattern\":{\"fillmode\":\"overlay\",\"size\":10,\"solidity\":0.2},\"type\":\"scatter\"}],\"parcoords\":[{\"type\":\"parcoords\",\"line\":{\"colorbar\":{\"outlinewidth\":0,\"ticks\":\"\"}}}],\"scatterpolargl\":[{\"type\":\"scatterpolargl\",\"marker\":{\"colorbar\":{\"outlinewidth\":0,\"ticks\":\"\"}}}],\"bar\":[{\"error_x\":{\"color\":\"#2a3f5f\"},\"error_y\":{\"color\":\"#2a3f5f\"},\"marker\":{\"line\":{\"color\":\"#E5ECF6\",\"width\":0.5},\"pattern\":{\"fillmode\":\"overlay\",\"size\":10,\"solidity\":0.2}},\"type\":\"bar\"}],\"scattergeo\":[{\"type\":\"scattergeo\",\"marker\":{\"colorbar\":{\"outlinewidth\":0,\"ticks\":\"\"}}}],\"scatterpolar\":[{\"type\":\"scatterpolar\",\"marker\":{\"colorbar\":{\"outlinewidth\":0,\"ticks\":\"\"}}}],\"histogram\":[{\"marker\":{\"pattern\":{\"fillmode\":\"overlay\",\"size\":10,\"solidity\":0.2}},\"type\":\"histogram\"}],\"scattergl\":[{\"type\":\"scattergl\",\"marker\":{\"colorbar\":{\"outlinewidth\":0,\"ticks\":\"\"}}}],\"scatter3d\":[{\"type\":\"scatter3d\",\"line\":{\"colorbar\":{\"outlinewidth\":0,\"ticks\":\"\"}},\"marker\":{\"colorbar\":{\"outlinewidth\":0,\"ticks\":\"\"}}}],\"scattermapbox\":[{\"type\":\"scattermapbox\",\"marker\":{\"colorbar\":{\"outlinewidth\":0,\"ticks\":\"\"}}}],\"scatterternary\":[{\"type\":\"scatterternary\",\"marker\":{\"colorbar\":{\"outlinewidth\":0,\"ticks\":\"\"}}}],\"scattercarpet\":[{\"type\":\"scattercarpet\",\"marker\":{\"colorbar\":{\"outlinewidth\":0,\"ticks\":\"\"}}}],\"carpet\":[{\"aaxis\":{\"endlinecolor\":\"#2a3f5f\",\"gridcolor\":\"white\",\"linecolor\":\"white\",\"minorgridcolor\":\"white\",\"startlinecolor\":\"#2a3f5f\"},\"baxis\":{\"endlinecolor\":\"#2a3f5f\",\"gridcolor\":\"white\",\"linecolor\":\"white\",\"minorgridcolor\":\"white\",\"startlinecolor\":\"#2a3f5f\"},\"type\":\"carpet\"}],\"table\":[{\"cells\":{\"fill\":{\"color\":\"#EBF0F8\"},\"line\":{\"color\":\"white\"}},\"header\":{\"fill\":{\"color\":\"#C8D4E3\"},\"line\":{\"color\":\"white\"}},\"type\":\"table\"}],\"barpolar\":[{\"marker\":{\"line\":{\"color\":\"#E5ECF6\",\"width\":0.5},\"pattern\":{\"fillmode\":\"overlay\",\"size\":10,\"solidity\":0.2}},\"type\":\"barpolar\"}],\"pie\":[{\"automargin\":true,\"type\":\"pie\"}]},\"layout\":{\"autotypenumbers\":\"strict\",\"colorway\":[\"#636efa\",\"#EF553B\",\"#00cc96\",\"#ab63fa\",\"#FFA15A\",\"#19d3f3\",\"#FF6692\",\"#B6E880\",\"#FF97FF\",\"#FECB52\"],\"font\":{\"color\":\"#2a3f5f\"},\"hovermode\":\"closest\",\"hoverlabel\":{\"align\":\"left\"},\"paper_bgcolor\":\"white\",\"plot_bgcolor\":\"#E5ECF6\",\"polar\":{\"bgcolor\":\"#E5ECF6\",\"angularaxis\":{\"gridcolor\":\"white\",\"linecolor\":\"white\",\"ticks\":\"\"},\"radialaxis\":{\"gridcolor\":\"white\",\"linecolor\":\"white\",\"ticks\":\"\"}},\"ternary\":{\"bgcolor\":\"#E5ECF6\",\"aaxis\":{\"gridcolor\":\"white\",\"linecolor\":\"white\",\"ticks\":\"\"},\"baxis\":{\"gridcolor\":\"white\",\"linecolor\":\"white\",\"ticks\":\"\"},\"caxis\":{\"gridcolor\":\"white\",\"linecolor\":\"white\",\"ticks\":\"\"}},\"coloraxis\":{\"colorbar\":{\"outlinewidth\":0,\"ticks\":\"\"}},\"colorscale\":{\"sequential\":[[0.0,\"#0d0887\"],[0.1111111111111111,\"#46039f\"],[0.2222222222222222,\"#7201a8\"],[0.3333333333333333,\"#9c179e\"],[0.4444444444444444,\"#bd3786\"],[0.5555555555555556,\"#d8576b\"],[0.6666666666666666,\"#ed7953\"],[0.7777777777777778,\"#fb9f3a\"],[0.8888888888888888,\"#fdca26\"],[1.0,\"#f0f921\"]],\"sequentialminus\":[[0.0,\"#0d0887\"],[0.1111111111111111,\"#46039f\"],[0.2222222222222222,\"#7201a8\"],[0.3333333333333333,\"#9c179e\"],[0.4444444444444444,\"#bd3786\"],[0.5555555555555556,\"#d8576b\"],[0.6666666666666666,\"#ed7953\"],[0.7777777777777778,\"#fb9f3a\"],[0.8888888888888888,\"#fdca26\"],[1.0,\"#f0f921\"]],\"diverging\":[[0,\"#8e0152\"],[0.1,\"#c51b7d\"],[0.2,\"#de77ae\"],[0.3,\"#f1b6da\"],[0.4,\"#fde0ef\"],[0.5,\"#f7f7f7\"],[0.6,\"#e6f5d0\"],[0.7,\"#b8e186\"],[0.8,\"#7fbc41\"],[0.9,\"#4d9221\"],[1,\"#276419\"]]},\"xaxis\":{\"gridcolor\":\"white\",\"linecolor\":\"white\",\"ticks\":\"\",\"title\":{\"standoff\":15},\"zerolinecolor\":\"white\",\"automargin\":true,\"zerolinewidth\":2},\"yaxis\":{\"gridcolor\":\"white\",\"linecolor\":\"white\",\"ticks\":\"\",\"title\":{\"standoff\":15},\"zerolinecolor\":\"white\",\"automargin\":true,\"zerolinewidth\":2},\"scene\":{\"xaxis\":{\"backgroundcolor\":\"#E5ECF6\",\"gridcolor\":\"white\",\"linecolor\":\"white\",\"showbackground\":true,\"ticks\":\"\",\"zerolinecolor\":\"white\",\"gridwidth\":2},\"yaxis\":{\"backgroundcolor\":\"#E5ECF6\",\"gridcolor\":\"white\",\"linecolor\":\"white\",\"showbackground\":true,\"ticks\":\"\",\"zerolinecolor\":\"white\",\"gridwidth\":2},\"zaxis\":{\"backgroundcolor\":\"#E5ECF6\",\"gridcolor\":\"white\",\"linecolor\":\"white\",\"showbackground\":true,\"ticks\":\"\",\"zerolinecolor\":\"white\",\"gridwidth\":2}},\"shapedefaults\":{\"line\":{\"color\":\"#2a3f5f\"}},\"annotationdefaults\":{\"arrowcolor\":\"#2a3f5f\",\"arrowhead\":0,\"arrowwidth\":1},\"geo\":{\"bgcolor\":\"white\",\"landcolor\":\"#E5ECF6\",\"subunitcolor\":\"white\",\"showland\":true,\"showlakes\":true,\"lakecolor\":\"white\"},\"title\":{\"x\":0.05},\"mapbox\":{\"style\":\"light\"}}},\"legend\":{\"orientation\":\"h\",\"yanchor\":\"top\",\"y\":1.1,\"xanchor\":\"right\",\"x\":1},\"title\":{\"text\":\"Model Accuracy and Loss\"},\"xaxis\":{\"title\":{\"text\":\"Epoch\"}},\"yaxis\":{\"title\":{\"text\":\"Value\"}}},                        {\"responsive\": true}                    ).then(function(){\n",
              "                            \n",
              "var gd = document.getElementById('26b6ad2f-2c5c-4984-968f-6430572811ad');\n",
              "var x = new MutationObserver(function (mutations, observer) {{\n",
              "        var display = window.getComputedStyle(gd).display;\n",
              "        if (!display || display === 'none') {{\n",
              "            console.log([gd, 'removed!']);\n",
              "            Plotly.purge(gd);\n",
              "            observer.disconnect();\n",
              "        }}\n",
              "}});\n",
              "\n",
              "// Listen for the removal of the full notebook cells\n",
              "var notebookContainer = gd.closest('#notebook-container');\n",
              "if (notebookContainer) {{\n",
              "    x.observe(notebookContainer, {childList: true});\n",
              "}}\n",
              "\n",
              "// Listen for the clearing of the current output cell\n",
              "var outputEl = gd.closest('.output');\n",
              "if (outputEl) {{\n",
              "    x.observe(outputEl, {childList: true});\n",
              "}}\n",
              "\n",
              "                        })                };                            </script>        </div>\n",
              "</body>\n",
              "</html>"
            ]
          },
          "metadata": {}
        }
      ]
    },
    {
      "cell_type": "code",
      "source": [
        "import plotly.figure_factory as ff\n",
        "from sklearn.metrics import confusion_matrix\n",
        "\n",
        "# Assuming you have imported your true labels and predicted labels as y_cv_labels and predicted_audio_labels respectively\n",
        "\n",
        "# Compute confusion matrix\n",
        "cm =confusion_matrix(y_cv_labels,predicted_audio_labels).T\n",
        "\n",
        "# Plot confusion matrix using Plotly\n",
        "fig = ff.create_annotated_heatmap(z=cm,\n",
        "                                  x=['Courtesy','Embarassment','Happy','Schadenfreude'] ,\n",
        "                                  y=['Schadenfreude', 'Happy','Embarassment', 'Courtesy'] ,\n",
        "                                  colorscale='Blues')\n",
        "# Update the layout to reduce the size\n",
        "fig.update_layout(\n",
        "    title='Confusion Matrix',\n",
        "    xaxis=dict(title='Predicted label'),\n",
        "    yaxis=dict(title='True label'),\n",
        "    width=600,\n",
        "    height=500,  # Adjust the height as needed\n",
        ")\n",
        "fig.show()\n"
      ],
      "metadata": {
        "colab": {
          "base_uri": "https://localhost:8080/",
          "height": 517
        },
        "id": "S31DPIjrwh9b",
        "outputId": "4e380bbe-1f01-443c-9977-c7e602555888"
      },
      "execution_count": null,
      "outputs": [
        {
          "output_type": "display_data",
          "data": {
            "text/html": [
              "<html>\n",
              "<head><meta charset=\"utf-8\" /></head>\n",
              "<body>\n",
              "    <div>            <script src=\"https://cdnjs.cloudflare.com/ajax/libs/mathjax/2.7.5/MathJax.js?config=TeX-AMS-MML_SVG\"></script><script type=\"text/javascript\">if (window.MathJax && window.MathJax.Hub && window.MathJax.Hub.Config) {window.MathJax.Hub.Config({SVG: {font: \"STIX-Web\"}});}</script>                <script type=\"text/javascript\">window.PlotlyConfig = {MathJaxConfig: 'local'};</script>\n",
              "        <script charset=\"utf-8\" src=\"https://cdn.plot.ly/plotly-2.24.1.min.js\"></script>                <div id=\"4955d317-d9e3-4d32-ac45-27b39ae7722a\" class=\"plotly-graph-div\" style=\"height:500px; width:600px;\"></div>            <script type=\"text/javascript\">                                    window.PLOTLYENV=window.PLOTLYENV || {};                                    if (document.getElementById(\"4955d317-d9e3-4d32-ac45-27b39ae7722a\")) {                    Plotly.newPlot(                        \"4955d317-d9e3-4d32-ac45-27b39ae7722a\",                        [{\"colorscale\":[[0.0,\"rgb(247,251,255)\"],[0.125,\"rgb(222,235,247)\"],[0.25,\"rgb(198,219,239)\"],[0.375,\"rgb(158,202,225)\"],[0.5,\"rgb(107,174,214)\"],[0.625,\"rgb(66,146,198)\"],[0.75,\"rgb(33,113,181)\"],[0.875,\"rgb(8,81,156)\"],[1.0,\"rgb(8,48,107)\"]],\"reversescale\":false,\"showscale\":false,\"x\":[\"Courtesy\",\"Embarassment\",\"Happy\",\"Schadenfreude\"],\"y\":[\"Schadenfreude\",\"Happy\",\"Embarassment\",\"Courtesy\"],\"z\":[[3,1,0,5],[0,0,0,0],[0,0,1,0],[5,4,0,1]],\"type\":\"heatmap\"}],                        {\"annotations\":[{\"font\":{\"color\":\"#FFFFFF\"},\"showarrow\":false,\"text\":\"3\",\"x\":\"Courtesy\",\"xref\":\"x\",\"y\":\"Schadenfreude\",\"yref\":\"y\"},{\"font\":{\"color\":\"#000000\"},\"showarrow\":false,\"text\":\"1\",\"x\":\"Embarassment\",\"xref\":\"x\",\"y\":\"Schadenfreude\",\"yref\":\"y\"},{\"font\":{\"color\":\"#000000\"},\"showarrow\":false,\"text\":\"0\",\"x\":\"Happy\",\"xref\":\"x\",\"y\":\"Schadenfreude\",\"yref\":\"y\"},{\"font\":{\"color\":\"#FFFFFF\"},\"showarrow\":false,\"text\":\"5\",\"x\":\"Schadenfreude\",\"xref\":\"x\",\"y\":\"Schadenfreude\",\"yref\":\"y\"},{\"font\":{\"color\":\"#000000\"},\"showarrow\":false,\"text\":\"0\",\"x\":\"Courtesy\",\"xref\":\"x\",\"y\":\"Happy\",\"yref\":\"y\"},{\"font\":{\"color\":\"#000000\"},\"showarrow\":false,\"text\":\"0\",\"x\":\"Embarassment\",\"xref\":\"x\",\"y\":\"Happy\",\"yref\":\"y\"},{\"font\":{\"color\":\"#000000\"},\"showarrow\":false,\"text\":\"0\",\"x\":\"Happy\",\"xref\":\"x\",\"y\":\"Happy\",\"yref\":\"y\"},{\"font\":{\"color\":\"#000000\"},\"showarrow\":false,\"text\":\"0\",\"x\":\"Schadenfreude\",\"xref\":\"x\",\"y\":\"Happy\",\"yref\":\"y\"},{\"font\":{\"color\":\"#000000\"},\"showarrow\":false,\"text\":\"0\",\"x\":\"Courtesy\",\"xref\":\"x\",\"y\":\"Embarassment\",\"yref\":\"y\"},{\"font\":{\"color\":\"#000000\"},\"showarrow\":false,\"text\":\"0\",\"x\":\"Embarassment\",\"xref\":\"x\",\"y\":\"Embarassment\",\"yref\":\"y\"},{\"font\":{\"color\":\"#000000\"},\"showarrow\":false,\"text\":\"1\",\"x\":\"Happy\",\"xref\":\"x\",\"y\":\"Embarassment\",\"yref\":\"y\"},{\"font\":{\"color\":\"#000000\"},\"showarrow\":false,\"text\":\"0\",\"x\":\"Schadenfreude\",\"xref\":\"x\",\"y\":\"Embarassment\",\"yref\":\"y\"},{\"font\":{\"color\":\"#FFFFFF\"},\"showarrow\":false,\"text\":\"5\",\"x\":\"Courtesy\",\"xref\":\"x\",\"y\":\"Courtesy\",\"yref\":\"y\"},{\"font\":{\"color\":\"#FFFFFF\"},\"showarrow\":false,\"text\":\"4\",\"x\":\"Embarassment\",\"xref\":\"x\",\"y\":\"Courtesy\",\"yref\":\"y\"},{\"font\":{\"color\":\"#000000\"},\"showarrow\":false,\"text\":\"0\",\"x\":\"Happy\",\"xref\":\"x\",\"y\":\"Courtesy\",\"yref\":\"y\"},{\"font\":{\"color\":\"#000000\"},\"showarrow\":false,\"text\":\"1\",\"x\":\"Schadenfreude\",\"xref\":\"x\",\"y\":\"Courtesy\",\"yref\":\"y\"}],\"xaxis\":{\"dtick\":1,\"gridcolor\":\"rgb(0, 0, 0)\",\"side\":\"top\",\"ticks\":\"\",\"title\":{\"text\":\"Predicted label\"}},\"yaxis\":{\"dtick\":1,\"ticks\":\"\",\"ticksuffix\":\"  \",\"title\":{\"text\":\"True label\"}},\"template\":{\"data\":{\"histogram2dcontour\":[{\"type\":\"histogram2dcontour\",\"colorbar\":{\"outlinewidth\":0,\"ticks\":\"\"},\"colorscale\":[[0.0,\"#0d0887\"],[0.1111111111111111,\"#46039f\"],[0.2222222222222222,\"#7201a8\"],[0.3333333333333333,\"#9c179e\"],[0.4444444444444444,\"#bd3786\"],[0.5555555555555556,\"#d8576b\"],[0.6666666666666666,\"#ed7953\"],[0.7777777777777778,\"#fb9f3a\"],[0.8888888888888888,\"#fdca26\"],[1.0,\"#f0f921\"]]}],\"choropleth\":[{\"type\":\"choropleth\",\"colorbar\":{\"outlinewidth\":0,\"ticks\":\"\"}}],\"histogram2d\":[{\"type\":\"histogram2d\",\"colorbar\":{\"outlinewidth\":0,\"ticks\":\"\"},\"colorscale\":[[0.0,\"#0d0887\"],[0.1111111111111111,\"#46039f\"],[0.2222222222222222,\"#7201a8\"],[0.3333333333333333,\"#9c179e\"],[0.4444444444444444,\"#bd3786\"],[0.5555555555555556,\"#d8576b\"],[0.6666666666666666,\"#ed7953\"],[0.7777777777777778,\"#fb9f3a\"],[0.8888888888888888,\"#fdca26\"],[1.0,\"#f0f921\"]]}],\"heatmap\":[{\"type\":\"heatmap\",\"colorbar\":{\"outlinewidth\":0,\"ticks\":\"\"},\"colorscale\":[[0.0,\"#0d0887\"],[0.1111111111111111,\"#46039f\"],[0.2222222222222222,\"#7201a8\"],[0.3333333333333333,\"#9c179e\"],[0.4444444444444444,\"#bd3786\"],[0.5555555555555556,\"#d8576b\"],[0.6666666666666666,\"#ed7953\"],[0.7777777777777778,\"#fb9f3a\"],[0.8888888888888888,\"#fdca26\"],[1.0,\"#f0f921\"]]}],\"heatmapgl\":[{\"type\":\"heatmapgl\",\"colorbar\":{\"outlinewidth\":0,\"ticks\":\"\"},\"colorscale\":[[0.0,\"#0d0887\"],[0.1111111111111111,\"#46039f\"],[0.2222222222222222,\"#7201a8\"],[0.3333333333333333,\"#9c179e\"],[0.4444444444444444,\"#bd3786\"],[0.5555555555555556,\"#d8576b\"],[0.6666666666666666,\"#ed7953\"],[0.7777777777777778,\"#fb9f3a\"],[0.8888888888888888,\"#fdca26\"],[1.0,\"#f0f921\"]]}],\"contourcarpet\":[{\"type\":\"contourcarpet\",\"colorbar\":{\"outlinewidth\":0,\"ticks\":\"\"}}],\"contour\":[{\"type\":\"contour\",\"colorbar\":{\"outlinewidth\":0,\"ticks\":\"\"},\"colorscale\":[[0.0,\"#0d0887\"],[0.1111111111111111,\"#46039f\"],[0.2222222222222222,\"#7201a8\"],[0.3333333333333333,\"#9c179e\"],[0.4444444444444444,\"#bd3786\"],[0.5555555555555556,\"#d8576b\"],[0.6666666666666666,\"#ed7953\"],[0.7777777777777778,\"#fb9f3a\"],[0.8888888888888888,\"#fdca26\"],[1.0,\"#f0f921\"]]}],\"surface\":[{\"type\":\"surface\",\"colorbar\":{\"outlinewidth\":0,\"ticks\":\"\"},\"colorscale\":[[0.0,\"#0d0887\"],[0.1111111111111111,\"#46039f\"],[0.2222222222222222,\"#7201a8\"],[0.3333333333333333,\"#9c179e\"],[0.4444444444444444,\"#bd3786\"],[0.5555555555555556,\"#d8576b\"],[0.6666666666666666,\"#ed7953\"],[0.7777777777777778,\"#fb9f3a\"],[0.8888888888888888,\"#fdca26\"],[1.0,\"#f0f921\"]]}],\"mesh3d\":[{\"type\":\"mesh3d\",\"colorbar\":{\"outlinewidth\":0,\"ticks\":\"\"}}],\"scatter\":[{\"fillpattern\":{\"fillmode\":\"overlay\",\"size\":10,\"solidity\":0.2},\"type\":\"scatter\"}],\"parcoords\":[{\"type\":\"parcoords\",\"line\":{\"colorbar\":{\"outlinewidth\":0,\"ticks\":\"\"}}}],\"scatterpolargl\":[{\"type\":\"scatterpolargl\",\"marker\":{\"colorbar\":{\"outlinewidth\":0,\"ticks\":\"\"}}}],\"bar\":[{\"error_x\":{\"color\":\"#2a3f5f\"},\"error_y\":{\"color\":\"#2a3f5f\"},\"marker\":{\"line\":{\"color\":\"#E5ECF6\",\"width\":0.5},\"pattern\":{\"fillmode\":\"overlay\",\"size\":10,\"solidity\":0.2}},\"type\":\"bar\"}],\"scattergeo\":[{\"type\":\"scattergeo\",\"marker\":{\"colorbar\":{\"outlinewidth\":0,\"ticks\":\"\"}}}],\"scatterpolar\":[{\"type\":\"scatterpolar\",\"marker\":{\"colorbar\":{\"outlinewidth\":0,\"ticks\":\"\"}}}],\"histogram\":[{\"marker\":{\"pattern\":{\"fillmode\":\"overlay\",\"size\":10,\"solidity\":0.2}},\"type\":\"histogram\"}],\"scattergl\":[{\"type\":\"scattergl\",\"marker\":{\"colorbar\":{\"outlinewidth\":0,\"ticks\":\"\"}}}],\"scatter3d\":[{\"type\":\"scatter3d\",\"line\":{\"colorbar\":{\"outlinewidth\":0,\"ticks\":\"\"}},\"marker\":{\"colorbar\":{\"outlinewidth\":0,\"ticks\":\"\"}}}],\"scattermapbox\":[{\"type\":\"scattermapbox\",\"marker\":{\"colorbar\":{\"outlinewidth\":0,\"ticks\":\"\"}}}],\"scatterternary\":[{\"type\":\"scatterternary\",\"marker\":{\"colorbar\":{\"outlinewidth\":0,\"ticks\":\"\"}}}],\"scattercarpet\":[{\"type\":\"scattercarpet\",\"marker\":{\"colorbar\":{\"outlinewidth\":0,\"ticks\":\"\"}}}],\"carpet\":[{\"aaxis\":{\"endlinecolor\":\"#2a3f5f\",\"gridcolor\":\"white\",\"linecolor\":\"white\",\"minorgridcolor\":\"white\",\"startlinecolor\":\"#2a3f5f\"},\"baxis\":{\"endlinecolor\":\"#2a3f5f\",\"gridcolor\":\"white\",\"linecolor\":\"white\",\"minorgridcolor\":\"white\",\"startlinecolor\":\"#2a3f5f\"},\"type\":\"carpet\"}],\"table\":[{\"cells\":{\"fill\":{\"color\":\"#EBF0F8\"},\"line\":{\"color\":\"white\"}},\"header\":{\"fill\":{\"color\":\"#C8D4E3\"},\"line\":{\"color\":\"white\"}},\"type\":\"table\"}],\"barpolar\":[{\"marker\":{\"line\":{\"color\":\"#E5ECF6\",\"width\":0.5},\"pattern\":{\"fillmode\":\"overlay\",\"size\":10,\"solidity\":0.2}},\"type\":\"barpolar\"}],\"pie\":[{\"automargin\":true,\"type\":\"pie\"}]},\"layout\":{\"autotypenumbers\":\"strict\",\"colorway\":[\"#636efa\",\"#EF553B\",\"#00cc96\",\"#ab63fa\",\"#FFA15A\",\"#19d3f3\",\"#FF6692\",\"#B6E880\",\"#FF97FF\",\"#FECB52\"],\"font\":{\"color\":\"#2a3f5f\"},\"hovermode\":\"closest\",\"hoverlabel\":{\"align\":\"left\"},\"paper_bgcolor\":\"white\",\"plot_bgcolor\":\"#E5ECF6\",\"polar\":{\"bgcolor\":\"#E5ECF6\",\"angularaxis\":{\"gridcolor\":\"white\",\"linecolor\":\"white\",\"ticks\":\"\"},\"radialaxis\":{\"gridcolor\":\"white\",\"linecolor\":\"white\",\"ticks\":\"\"}},\"ternary\":{\"bgcolor\":\"#E5ECF6\",\"aaxis\":{\"gridcolor\":\"white\",\"linecolor\":\"white\",\"ticks\":\"\"},\"baxis\":{\"gridcolor\":\"white\",\"linecolor\":\"white\",\"ticks\":\"\"},\"caxis\":{\"gridcolor\":\"white\",\"linecolor\":\"white\",\"ticks\":\"\"}},\"coloraxis\":{\"colorbar\":{\"outlinewidth\":0,\"ticks\":\"\"}},\"colorscale\":{\"sequential\":[[0.0,\"#0d0887\"],[0.1111111111111111,\"#46039f\"],[0.2222222222222222,\"#7201a8\"],[0.3333333333333333,\"#9c179e\"],[0.4444444444444444,\"#bd3786\"],[0.5555555555555556,\"#d8576b\"],[0.6666666666666666,\"#ed7953\"],[0.7777777777777778,\"#fb9f3a\"],[0.8888888888888888,\"#fdca26\"],[1.0,\"#f0f921\"]],\"sequentialminus\":[[0.0,\"#0d0887\"],[0.1111111111111111,\"#46039f\"],[0.2222222222222222,\"#7201a8\"],[0.3333333333333333,\"#9c179e\"],[0.4444444444444444,\"#bd3786\"],[0.5555555555555556,\"#d8576b\"],[0.6666666666666666,\"#ed7953\"],[0.7777777777777778,\"#fb9f3a\"],[0.8888888888888888,\"#fdca26\"],[1.0,\"#f0f921\"]],\"diverging\":[[0,\"#8e0152\"],[0.1,\"#c51b7d\"],[0.2,\"#de77ae\"],[0.3,\"#f1b6da\"],[0.4,\"#fde0ef\"],[0.5,\"#f7f7f7\"],[0.6,\"#e6f5d0\"],[0.7,\"#b8e186\"],[0.8,\"#7fbc41\"],[0.9,\"#4d9221\"],[1,\"#276419\"]]},\"xaxis\":{\"gridcolor\":\"white\",\"linecolor\":\"white\",\"ticks\":\"\",\"title\":{\"standoff\":15},\"zerolinecolor\":\"white\",\"automargin\":true,\"zerolinewidth\":2},\"yaxis\":{\"gridcolor\":\"white\",\"linecolor\":\"white\",\"ticks\":\"\",\"title\":{\"standoff\":15},\"zerolinecolor\":\"white\",\"automargin\":true,\"zerolinewidth\":2},\"scene\":{\"xaxis\":{\"backgroundcolor\":\"#E5ECF6\",\"gridcolor\":\"white\",\"linecolor\":\"white\",\"showbackground\":true,\"ticks\":\"\",\"zerolinecolor\":\"white\",\"gridwidth\":2},\"yaxis\":{\"backgroundcolor\":\"#E5ECF6\",\"gridcolor\":\"white\",\"linecolor\":\"white\",\"showbackground\":true,\"ticks\":\"\",\"zerolinecolor\":\"white\",\"gridwidth\":2},\"zaxis\":{\"backgroundcolor\":\"#E5ECF6\",\"gridcolor\":\"white\",\"linecolor\":\"white\",\"showbackground\":true,\"ticks\":\"\",\"zerolinecolor\":\"white\",\"gridwidth\":2}},\"shapedefaults\":{\"line\":{\"color\":\"#2a3f5f\"}},\"annotationdefaults\":{\"arrowcolor\":\"#2a3f5f\",\"arrowhead\":0,\"arrowwidth\":1},\"geo\":{\"bgcolor\":\"white\",\"landcolor\":\"#E5ECF6\",\"subunitcolor\":\"white\",\"showland\":true,\"showlakes\":true,\"lakecolor\":\"white\"},\"title\":{\"x\":0.05},\"mapbox\":{\"style\":\"light\"}}},\"title\":{\"text\":\"Confusion Matrix\"},\"width\":600,\"height\":500},                        {\"responsive\": true}                    ).then(function(){\n",
              "                            \n",
              "var gd = document.getElementById('4955d317-d9e3-4d32-ac45-27b39ae7722a');\n",
              "var x = new MutationObserver(function (mutations, observer) {{\n",
              "        var display = window.getComputedStyle(gd).display;\n",
              "        if (!display || display === 'none') {{\n",
              "            console.log([gd, 'removed!']);\n",
              "            Plotly.purge(gd);\n",
              "            observer.disconnect();\n",
              "        }}\n",
              "}});\n",
              "\n",
              "// Listen for the removal of the full notebook cells\n",
              "var notebookContainer = gd.closest('#notebook-container');\n",
              "if (notebookContainer) {{\n",
              "    x.observe(notebookContainer, {childList: true});\n",
              "}}\n",
              "\n",
              "// Listen for the clearing of the current output cell\n",
              "var outputEl = gd.closest('.output');\n",
              "if (outputEl) {{\n",
              "    x.observe(outputEl, {childList: true});\n",
              "}}\n",
              "\n",
              "                        })                };                            </script>        </div>\n",
              "</body>\n",
              "</html>"
            ]
          },
          "metadata": {}
        }
      ]
    },
    {
      "cell_type": "markdown",
      "source": [
        "\n",
        "\n"
      ],
      "metadata": {
        "id": "s0I3aq8ehUYc"
      }
    },
    {
      "cell_type": "code",
      "source": [
        "from sklearn.metrics import confusion_matrix, classification_report\n",
        "# Get the classification report\n",
        "class_report = classification_report(y_cv_labels, predicted_audio_labels)\n",
        "\n",
        "# Print the classification report\n",
        "print(\"\\nClassification Report:\")\n",
        "print(class_report)"
      ],
      "metadata": {
        "colab": {
          "base_uri": "https://localhost:8080/"
        },
        "id": "hkJMQCN1Z5-F",
        "outputId": "b4dcedaa-4c0f-45ba-bd38-16a7e7ec8a8a"
      },
      "execution_count": null,
      "outputs": [
        {
          "output_type": "stream",
          "name": "stderr",
          "text": [
            "WARNING:py.warnings:/usr/local/lib/python3.10/dist-packages/sklearn/metrics/_classification.py:1344: UndefinedMetricWarning:\n",
            "\n",
            "Precision and F-score are ill-defined and being set to 0.0 in labels with no predicted samples. Use `zero_division` parameter to control this behavior.\n",
            "\n",
            "\n",
            "WARNING:py.warnings:/usr/local/lib/python3.10/dist-packages/sklearn/metrics/_classification.py:1344: UndefinedMetricWarning:\n",
            "\n",
            "Precision and F-score are ill-defined and being set to 0.0 in labels with no predicted samples. Use `zero_division` parameter to control this behavior.\n",
            "\n",
            "\n",
            "WARNING:py.warnings:/usr/local/lib/python3.10/dist-packages/sklearn/metrics/_classification.py:1344: UndefinedMetricWarning:\n",
            "\n",
            "Precision and F-score are ill-defined and being set to 0.0 in labels with no predicted samples. Use `zero_division` parameter to control this behavior.\n",
            "\n",
            "\n"
          ]
        },
        {
          "output_type": "stream",
          "name": "stdout",
          "text": [
            "\n",
            "Classification Report:\n",
            "              precision    recall  f1-score   support\n",
            "\n",
            "           0       0.50      0.12      0.20         8\n",
            "           1       0.00      0.00      0.00         5\n",
            "           2       0.00      0.00      0.00         1\n",
            "           3       0.29      0.83      0.43         6\n",
            "\n",
            "    accuracy                           0.30        20\n",
            "   macro avg       0.20      0.24      0.16        20\n",
            "weighted avg       0.29      0.30      0.21        20\n",
            "\n"
          ]
        }
      ]
    },
    {
      "cell_type": "code",
      "source": [
        "import librosa\n",
        "import numpy as np\n",
        "from tensorflow.keras.models import load_model\n",
        "\n",
        "# Load the trained model\n",
        "model_audio = load_model(\"/content/drive/MyDrive/data/Models/audio_model_emotion.h5\")\n",
        "\n",
        "# Load and preprocess the audio file\n",
        "audio_file_path = '/content/drive/MyDrive/data/audio_subclips/session_102/subclip_0.wav'  # Path to your audio file\n",
        "y, sr = librosa.load(audio_file_path, sr=None)  # Load audio without resampling\n",
        "MFCCs = librosa.feature.mfcc(y=y, sr=sr, n_mfcc=num_MFCC)\n",
        "\n",
        "# Ensure the number of timesteps matches the expected shape (216)\n",
        "if MFCCs.shape[1] < 216:\n",
        "    # If fewer timesteps, pad the MFCCs with zeros to match the expected shape\n",
        "    MFCCs = np.pad(MFCCs, ((0, 0), (0, 216 - MFCCs.shape[1])), mode='constant')\n",
        "elif MFCCs.shape[1] > 216:\n",
        "    # If more timesteps, truncate the MFCCs to match the expected shape\n",
        "    MFCCs = MFCCs[:, :216]\n",
        "\n",
        "# Reshape the MFCCs to match the model's input shape\n",
        "MFCCs = np.expand_dims(MFCCs, axis=0)  # Add batch dimension\n",
        "MFCCs = np.swapaxes(MFCCs, 1, 2)  # Swap axes to get timesteps x features format\n",
        "\n",
        "# Predict the emotion label\n",
        "predicted_probabilities = model_audio.predict(MFCCs)\n",
        "predicted_label_index = np.argmax(predicted_probabilities)\n",
        "emotion_labels = ['happy', 'schadenfreude', 'embarrassment', 'courtesy']\n",
        "predicted_emotion = emotion_labels[predicted_label_index]\n",
        "print(\"Predicted Emotion:\", predicted_emotion)\n"
      ],
      "metadata": {
        "colab": {
          "base_uri": "https://localhost:8080/"
        },
        "id": "p4VdDSk9b6fw",
        "outputId": "9693bef5-d7dd-41fb-c8b9-f360dc95dbee"
      },
      "execution_count": null,
      "outputs": [
        {
          "output_type": "stream",
          "name": "stdout",
          "text": [
            "1/1 [==============================] - 1s 1s/step\n",
            "Predicted Emotion: happy\n"
          ]
        }
      ]
    },
    {
      "cell_type": "code",
      "source": [
        "####################################### Video Model  ##################################################\n",
        "\n",
        "# # h5f = h5py.File('Video_Features_RGB_DL.h5','r')\n",
        "# h5f = h5py.File('Cropped_Video_Features_RGB_DL.h5','r')\n",
        "# # h5f = h5py.File('Video_Features_Grayscale_DL.h5','r')\n",
        "# group_name = list(h5f.keys())[0]\n",
        "# x_train_video = h5f[group_name][:]\n",
        "# h5f.close()\n",
        "\n",
        "h5f = h5py.File('/content/drive/MyDrive/data/Models/Video_Features_Grayscale_DL.h5','r')\n",
        "\n",
        "# Print the keys to see what's in the file\n",
        "print(\"Keys in the HDF5 file:\", list(h5f.keys()))\n",
        "\n",
        "# Check if there are any keys before trying to access the first one\n",
        "if len(h5f.keys()) > 0:\n",
        "    group_name = list(h5f.keys())[0]\n",
        "    x_train_video = h5f[group_name][:]\n",
        "    h5f.close()\n",
        "else:\n",
        "    print(\"No keys found in the HDF5 file.\")\n",
        "\n",
        "# x_train_video.shape: (614, 25, 70, 70, 1)\n",
        "frames = x_train_video.shape[1]\n",
        "width = x_train_video.shape[2]\n",
        "height = x_train_video.shape[3]\n",
        "channels = x_train_video.shape[4]  # Grayscale (1) or RGB (3)\n",
        "\n",
        "num_hidden_lstm = 128\n",
        "num_hidden_units = 256\n",
        "batch_size = 128\n",
        "epochs = 50\n",
        "model_patience = 10\n",
        "\n",
        "\n",
        "model_vgg16 = VGG16(weights='imagenet', include_top=False)  # Feature extracted is (2, 2, 512) for each input (video frame)\n",
        "\n",
        "x_train_video_features = []\n",
        "\n",
        "# Loop through the video training data to extract features for each frame\n",
        "for video in x_train_video:\n",
        "\t# frame is (70,70,1) or (70,70,3) depending on features\n",
        "\t# model expects (1,70,70,3)  -  The RGB version\n",
        "\tvideo_features = [model_vgg16.predict(np.expand_dims(frame, axis=0)).reshape(2048,-1) for frame in video]\n",
        "\tx_train_video_features.append(video_features)\n",
        "\n",
        "\n",
        "x_train_video_features = np.array(x_train_video_features)  # (num_laughters, num_frames (25), features extracted (2048), 1)\n",
        "x_train_video_features = x_train_video_features.reshape(len(x_train_video_features), 25, 2048)  #2048 features for each of the 25 frames\n",
        "\n",
        "\n",
        "train_labels = np.array( df_labels['Merged Emotion'] )\n",
        "\n",
        "x_train, x_cv, y_train_labels, y_cv_labels = train_test_split(x_train_video_features, train_labels, test_size=0.20, random_state=42)\n",
        "\n",
        "y_train = keras.utils.to_categorical( y_train_labels, len(np.unique(train_labels)))\n",
        "y_cv = keras.utils.to_categorical( y_cv_labels, len(np.unique(train_labels)))\n",
        "\n",
        "\n",
        "# LSTM expects timesteps x features  (ie. 25 x 2048 Frame features)\n",
        "_, timesteps, data_dim = x_train_video_features.shape\n",
        "\n",
        "model_video = Sequential()\n",
        "# model_video.add(Flatten(input_shape=(25, 2048)))\n",
        "# model_video.add(Dense(128, activation='relu', kernel_initializer='he_uniform'))\n",
        "model_video.add(LSTM(num_hidden_lstm, input_shape=(timesteps,data_dim), return_sequences=True))  # returns a sequence of vectors of dimension 128\n",
        "model_video.add(BatchNormalization())\n",
        "model_video.add(LSTM(num_hidden_lstm, return_sequences=False))  # return a single vector of dimension 128\n",
        "model_video.add(Dense(len(np.unique(train_labels)), activation='softmax'))\n",
        "\n",
        "model_video.summary()\n",
        "\n",
        "model_video.compile(loss=keras.losses.categorical_crossentropy,\n",
        "              optimizer='Adam',\n",
        "              metrics=['accuracy'])\n",
        "\n",
        "checkpoint = ModelCheckpoint(filepath=\"video_weights_noncropped_emotion.hdf5\", monitor='val_loss', verbose=1, save_best_only=True)\n",
        "checkpoint = ModelCheckpoint(filepath=\"video_weights_cropped_emotion.hdf5\", monitor='val_acc', verbose=1, save_best_only=True)  # Val acc for cropped version\n",
        "\n",
        "model_video.fit(x_train, y_train,\n",
        "            batch_size=batch_size,\n",
        "            epochs=epochs,\n",
        "            verbose=1,\n",
        "            validation_data=(x_cv, y_cv),\n",
        "            shuffle=True,\n",
        "            callbacks = [checkpoint, EarlyStopping(monitor='val_loss', patience= model_patience)])  # 10 epochs patience\n",
        "\n",
        "model_video.load_weights(\"video_weights_noncropped_emotion.hdf5\")\n",
        "model_video.load_weights(\"video_weights_cropped_emotion.hdf5\")\n",
        "\n",
        "\n",
        "# Predict the scores\n",
        "predicted_video_labels = np.argmax(model_video.predict(x_cv), axis=1)\n",
        "predicted_video_labels_probs = model_video.predict(x_cv)\n",
        "\n",
        "# Evaluation Metric (Emotion)\n",
        "print ('Test Accuracy: ', sum(predicted_video_labels == y_cv_labels)/y_cv_labels.shape[0])\n",
        "confusion_matrix(y_cv_labels,predicted_video_labels).T\n",
        "print (metrics.classification_report(y_cv_labels, predicted_video_labels))\n"
      ],
      "metadata": {
        "id": "YUOPZO1O6bFN",
        "colab": {
          "base_uri": "https://localhost:8080/",
          "height": 279
        },
        "outputId": "af83383c-5e21-4308-ac2a-7976a4e0b24f"
      },
      "execution_count": null,
      "outputs": [
        {
          "output_type": "stream",
          "name": "stdout",
          "text": [
            "Keys in the HDF5 file: []\n",
            "No keys found in the HDF5 file.\n"
          ]
        },
        {
          "output_type": "error",
          "ename": "NameError",
          "evalue": "name 'x_train_video' is not defined",
          "traceback": [
            "\u001b[0;31m---------------------------------------------------------------------------\u001b[0m",
            "\u001b[0;31mNameError\u001b[0m                                 Traceback (most recent call last)",
            "\u001b[0;32m<ipython-input-49-967d8f382aaa>\u001b[0m in \u001b[0;36m<cell line: 24>\u001b[0;34m()\u001b[0m\n\u001b[1;32m     22\u001b[0m \u001b[0;34m\u001b[0m\u001b[0m\n\u001b[1;32m     23\u001b[0m \u001b[0;31m# x_train_video.shape: (614, 25, 70, 70, 1)\u001b[0m\u001b[0;34m\u001b[0m\u001b[0;34m\u001b[0m\u001b[0m\n\u001b[0;32m---> 24\u001b[0;31m \u001b[0mframes\u001b[0m \u001b[0;34m=\u001b[0m \u001b[0mx_train_video\u001b[0m\u001b[0;34m.\u001b[0m\u001b[0mshape\u001b[0m\u001b[0;34m[\u001b[0m\u001b[0;36m1\u001b[0m\u001b[0;34m]\u001b[0m\u001b[0;34m\u001b[0m\u001b[0;34m\u001b[0m\u001b[0m\n\u001b[0m\u001b[1;32m     25\u001b[0m \u001b[0mwidth\u001b[0m \u001b[0;34m=\u001b[0m \u001b[0mx_train_video\u001b[0m\u001b[0;34m.\u001b[0m\u001b[0mshape\u001b[0m\u001b[0;34m[\u001b[0m\u001b[0;36m2\u001b[0m\u001b[0;34m]\u001b[0m\u001b[0;34m\u001b[0m\u001b[0;34m\u001b[0m\u001b[0m\n\u001b[1;32m     26\u001b[0m \u001b[0mheight\u001b[0m \u001b[0;34m=\u001b[0m \u001b[0mx_train_video\u001b[0m\u001b[0;34m.\u001b[0m\u001b[0mshape\u001b[0m\u001b[0;34m[\u001b[0m\u001b[0;36m3\u001b[0m\u001b[0;34m]\u001b[0m\u001b[0;34m\u001b[0m\u001b[0;34m\u001b[0m\u001b[0m\n",
            "\u001b[0;31mNameError\u001b[0m: name 'x_train_video' is not defined"
          ]
        }
      ]
    },
    {
      "cell_type": "code",
      "source": [
        "####################################### Ensemble Model  ##################################################\n",
        "\n",
        "# Average them out equally and try unequal weighting too\n",
        "ensemble_predictions_probs = (predicted_video_labels_probs+predicted_audio_labels_probs)/2  # Weighted equally\n",
        "ensemble_predictions_labels = np.argmax(ensemble_predictions_probs, axis=1)\n",
        "\n",
        "\n",
        "# Evaluation Metric (Emotion)\n",
        "print ('Test Accuracy: ', sum(ensemble_predictions_labels == y_cv_labels)/y_cv_labels.shape[0])\n",
        "confusion_matrix(y_cv_labels,ensemble_predictions_labels).T\n",
        "print (metrics.classification_report(y_cv_labels, ensemble_predictions_labels))\n",
        "\n",
        "\n",
        "\n",
        "# Unequally weighted ensemble\n",
        "ensemble_weights = [0.0, 0.1, 0.2, 0.3, 0.4, 0.5, 0.6, 0.7, 0.8, 0.9, 1.0]\n",
        "\n",
        "best_ensemble_accuracy = 0.0\n",
        "best_ensemble_audio_weight = 0.0\n",
        "best_ensemble_video_weight = 0.0\n",
        "\n",
        "for i in zip(ensemble_weights, ensemble_weights[::-1]):\n",
        "\taudio_weight, video_weight = i  # i is a tuple (sum of the weights should be 1)\n",
        "\tprediction_probs = (audio_weight * predicted_audio_labels_probs) + (video_weight * predicted_video_labels_probs)\n",
        "\tprediction_probs_labels = np.argmax(prediction_probs, axis=1)\n",
        "\tensemble_accuracy = sum(prediction_probs_labels == y_cv_labels)/y_cv_labels.shape[0]\n",
        "\tif ensemble_accuracy > best_ensemble_accuracy:\n",
        "\t\tbest_ensemble_audio_weight = audio_weight\n",
        "\t\tbest_ensemble_video_weight = video_weight\n",
        "\t\tbest_ensemble_accuracy = ensemble_accuracy\n",
        "\n",
        "\n",
        "ensemble_predictions_probs = (best_ensemble_audio_weight * predicted_audio_labels_probs) + (best_ensemble_video_weight * predicted_video_labels_probs)  # Weighted Unequally\n",
        "ensemble_predictions_labels = np.argmax(ensemble_predictions_probs, axis=1)\n",
        "\n",
        "# Evaluation Metric (Emotion)\n",
        "print ('Test Accuracy: ', sum(ensemble_predictions_labels == y_cv_labels)/y_cv_labels.shape[0])\n",
        "confusion_matrix(y_cv_labels,ensemble_predictions_labels).T\n",
        "print (metrics.classification_report(y_cv_labels, ensemble_predictions_labels))\n"
      ],
      "metadata": {
        "id": "Vdb1SAib6bH1"
      },
      "execution_count": null,
      "outputs": []
    },
    {
      "cell_type": "code",
      "source": [
        "import numpy as np\n",
        "import pandas as pd\n",
        "import h5py\n",
        "from sklearn.model_selection import train_test_split\n",
        "from sklearn.preprocessing import StandardScaler\n",
        "from sklearn.svm import SVC  # You can replace this with your preferred model\n",
        "\n",
        "# Load combined audio and video features\n",
        "audio_features_file = '/content/drive/MyDrive/data/Models/Audio_Features_DL.h5'\n",
        "video_features_file = '/content/drive/MyDrive/data/Models/Video_Features_RGB_DL.h5'\n",
        "\n",
        "with h5py.File(audio_features_file, 'r') as audio_file:\n",
        "    audio_features = audio_file['dataset_features'][:]\n",
        "\n",
        "with h5py.File(video_features_file, 'r') as video_file:\n",
        "    video_features = video_file['dataset_features'][:]\n",
        "\n",
        "# Assuming you have labels available in train_labels (e.g., Merged Arousal, Merged Dominance, Merged Emotion)\n",
        "# Replace this with the actual labels you want to predict\n",
        "train_labels_arousal = np.array(df_labels['Merged Arousal'])\n",
        "train_labels_dominance = np.array(df_labels['Merged Dominance'])\n",
        "train_labels_emotion = np.array(df_labels['Merged Emotion'])\n",
        "\n",
        "# Combine audio and video features\n",
        "combined_features = np.concatenate((audio_features, video_features), axis=-1)\n",
        "\n",
        "# Split the data for training/testing\n",
        "X_train, X_test, y_arousal_train, y_arousal_test, y_dominance_train, y_dominance_test, y_emotion_train, y_emotion_test = train_test_split(\n",
        "    combined_features, train_labels_arousal, train_labels_dominance, train_labels_emotion, test_size=0.2, random_state=42\n",
        ")\n",
        "\n",
        "# Standardize features\n",
        "scaler = StandardScaler()\n",
        "X_train = scaler.fit_transform(X_train)\n",
        "X_test = scaler.transform(X_test)\n",
        "\n",
        "# Train or load your model (using SVM as an example)\n",
        "arousal_model = SVC()\n",
        "dominance_model = SVC()\n",
        "emotion_model = SVC()\n",
        "\n",
        "arousal_model.fit(X_train, y_arousal_train)\n",
        "dominance_model.fit(X_train, y_dominance_train)\n",
        "emotion_model.fit(X_train, y_emotion_train)\n",
        "\n",
        "# Make predictions\n",
        "y_arousal_pred = arousal_model.predict(X_test)\n",
        "y_dominance_pred = dominance_model.predict(X_test)\n",
        "y_emotion_pred = emotion_model.predict(X_test)\n",
        "\n",
        "predictions_df = pd.DataFrame({\n",
        "    'Arousal_Predicted': y_arousal_pred,\n",
        "    'Dominance_Predicted': y_dominance_pred,\n",
        "    'Emotion_Predicted': y_emotion_pred\n",
        "})\n",
        "\n",
        "# Save the predictions to a CSV file\n",
        "predictions_df.to_csv('/content/drive/MyDrive/data/predictions.csv', index=False)"
      ],
      "metadata": {
        "id": "UVQ4fXWf6bJv"
      },
      "execution_count": null,
      "outputs": []
    },
    {
      "cell_type": "code",
      "source": [],
      "metadata": {
        "id": "BmcCWpzL6bMW"
      },
      "execution_count": null,
      "outputs": []
    },
    {
      "cell_type": "code",
      "source": [],
      "metadata": {
        "id": "CnkdZv3-6bPA"
      },
      "execution_count": null,
      "outputs": []
    },
    {
      "cell_type": "code",
      "source": [],
      "metadata": {
        "id": "RFPwH1sZ6bSm"
      },
      "execution_count": null,
      "outputs": []
    }
  ]
}